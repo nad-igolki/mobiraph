{
 "cells": [
  {
   "metadata": {},
   "cell_type": "markdown",
   "source": "### Импорт библиотек",
   "id": "5e546376ba07448c"
  },
  {
   "cell_type": "code",
   "id": "initial_id",
   "metadata": {
    "collapsed": true,
    "ExecuteTime": {
     "end_time": "2024-12-03T23:38:24.725208Z",
     "start_time": "2024-12-03T23:38:24.720819Z"
    }
   },
   "source": [
    "import networkx as nx\n",
    "import matplotlib.pyplot as plt\n",
    "import pandas as pd\n",
    "import leidenalg\n",
    "import igraph as ig\n",
    "from collections import defaultdict\n",
    "from collections import Counter\n",
    "import numpy as np\n",
    "from node2vec import Node2Vec\n",
    "from sklearn.model_selection import train_test_split\n",
    "from sklearn.ensemble import RandomForestClassifier\n",
    "from sklearn.metrics import classification_report"
   ],
   "outputs": [],
   "execution_count": 2
  },
  {
   "metadata": {},
   "cell_type": "markdown",
   "source": "### Испорт функций",
   "id": "cb1f629bff6c77a4"
  },
  {
   "metadata": {
    "ExecuteTime": {
     "end_time": "2024-12-03T23:38:27.015199Z",
     "start_time": "2024-12-03T23:38:27.005289Z"
    }
   },
   "cell_type": "code",
   "source": "from src.funcs.simple_classifier_funcs import train_graph_randomforestclassifier",
   "id": "1d4d77de6e799d15",
   "outputs": [],
   "execution_count": 3
  },
  {
   "metadata": {},
   "cell_type": "markdown",
   "source": [
    "### Обработка графа\n",
    "Загружаем данные и удаляем самую большую компоненту"
   ],
   "id": "99efbd5eae8d3f26"
  },
  {
   "metadata": {
    "ExecuteTime": {
     "end_time": "2024-12-03T23:38:28.362790Z",
     "start_time": "2024-12-03T23:38:28.358354Z"
    }
   },
   "cell_type": "code",
   "source": [
    "import os\n",
    "os.chdir('../..')"
   ],
   "id": "906ede13b2ba2286",
   "outputs": [],
   "execution_count": 4
  },
  {
   "metadata": {
    "ExecuteTime": {
     "end_time": "2024-12-03T23:39:09.723380Z",
     "start_time": "2024-12-03T23:39:08.451863Z"
    }
   },
   "cell_type": "code",
   "source": [
    "filename = 'data/graph_full.txt'\n",
    "\n",
    "G = nx.Graph()\n",
    "\n",
    "with open(filename, 'r') as file:\n",
    "    for line in file:\n",
    "        node1, node2 = line.strip().split()\n",
    "        G.add_edge(node1, node2)\n",
    "\n",
    "df = pd.read_csv('data/graph_collapse_nodes_2.txt', delimiter='\\t')\n",
    "\n",
    "node_family_dict = df.set_index('name')['fam'].to_dict()\n",
    "unique_fams = set(node_family_dict.values())\n",
    "print(f\"Number of unique families: {len(unique_fams)}\")\n",
    "\n",
    "# Удаление самой большой компоненты связности\n",
    "components = list(nx.connected_components(G))\n",
    "largest_component = max(components, key=len)\n",
    "for node in largest_component:\n",
    "    G.remove_node(node)\n",
    "print(f\"Number of components: {len(components) - 1}\")"
   ],
   "id": "45c40aafc09691ca",
   "outputs": [
    {
     "name": "stdout",
     "output_type": "stream",
     "text": [
      "Number of unique families: 14\n",
      "Number of components: 1103\n"
     ]
    }
   ],
   "execution_count": 8
  },
  {
   "metadata": {},
   "cell_type": "markdown",
   "source": "### Обучаем модель",
   "id": "8473d0a04b2582a2"
  },
  {
   "metadata": {
    "ExecuteTime": {
     "end_time": "2024-12-03T23:43:49.647467Z",
     "start_time": "2024-12-03T23:39:16.245424Z"
    }
   },
   "cell_type": "code",
   "source": "clf = train_graph_randomforestclassifier(G, node_family_dict)",
   "id": "5f370befda2a51fe",
   "outputs": [
    {
     "name": "stderr",
     "output_type": "stream",
     "text": [
      "Computing transition probabilities: 100%|██████████| 6862/6862 [00:03<00:00, 2029.79it/s]\n",
      "Generating walks (CPU: 1): 100%|██████████| 8/8 [00:17<00:00,  2.22s/it]]\n",
      "Generating walks (CPU: 2): 100%|██████████| 8/8 [00:18<00:00,  2.33s/it]]\n",
      "Generating walks (CPU: 3): 100%|██████████| 8/8 [00:20<00:00,  2.51s/it]\n",
      "Generating walks (CPU: 4): 100%|██████████| 8/8 [00:20<00:00,  2.55s/it]]\n",
      "Generating walks (CPU: 5): 100%|██████████| 8/8 [00:20<00:00,  2.57s/it]]\n",
      "Generating walks (CPU: 6): 100%|██████████| 8/8 [00:19<00:00,  2.44s/it]]\n",
      "Generating walks (CPU: 7): 100%|██████████| 8/8 [00:19<00:00,  2.43s/it]]\n",
      "Generating walks (CPU: 8): 100%|██████████| 8/8 [00:17<00:00,  2.24s/it]\n",
      "Generating walks (CPU: 9): 100%|██████████| 8/8 [00:16<00:00,  2.11s/it]]\n",
      "Generating walks (CPU: 10): 100%|██████████| 8/8 [00:15<00:00,  1.91s/it]\n"
     ]
    },
    {
     "name": "stdout",
     "output_type": "stream",
     "text": [
      "                   precision    recall  f1-score   support\n",
      "\n",
      "             DNA+       0.98      0.96      0.97       193\n",
      "          DNA/HAT       1.00      0.93      0.96        55\n",
      "         DNA/MuDR       0.97      0.96      0.96       291\n",
      "         Helitron       0.90      0.98      0.93       360\n",
      "             LINE       0.98      0.95      0.97       200\n",
      "        LTR/Copia       0.97      0.96      0.96       337\n",
      "        LTR/Gypsy       0.91      0.96      0.94        85\n",
      "              Mix       1.00      1.00      1.00        53\n",
      "Mix with Helitron       1.00      0.98      0.99        54\n",
      "  RathE1/2/3_cons       1.00      0.67      0.80         6\n",
      "             SINE       1.00      0.50      0.67         4\n",
      "              TEG       0.99      0.92      0.95        96\n",
      "       Unassigned       1.00      0.87      0.93        30\n",
      "\n",
      "         accuracy                           0.96      1764\n",
      "        macro avg       0.98      0.89      0.93      1764\n",
      "     weighted avg       0.96      0.96      0.96      1764\n",
      "\n"
     ]
    }
   ],
   "execution_count": 9
  }
 ],
 "metadata": {
  "kernelspec": {
   "display_name": "Python 3",
   "language": "python",
   "name": "python3"
  },
  "language_info": {
   "codemirror_mode": {
    "name": "ipython",
    "version": 2
   },
   "file_extension": ".py",
   "mimetype": "text/x-python",
   "name": "python",
   "nbconvert_exporter": "python",
   "pygments_lexer": "ipython2",
   "version": "2.7.6"
  }
 },
 "nbformat": 4,
 "nbformat_minor": 5
}
