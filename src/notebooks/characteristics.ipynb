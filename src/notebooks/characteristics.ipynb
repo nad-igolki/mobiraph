{
 "cells": [
  {
   "metadata": {
    "ExecuteTime": {
     "end_time": "2024-11-09T01:21:25.870697Z",
     "start_time": "2024-11-09T01:21:25.762545Z"
    }
   },
   "cell_type": "code",
   "source": "import networkx as nx",
   "id": "5a14c99497400d47",
   "outputs": [],
   "execution_count": 1
  },
  {
   "metadata": {
    "ExecuteTime": {
     "end_time": "2024-11-09T01:21:25.876167Z",
     "start_time": "2024-11-09T01:21:25.874549Z"
    }
   },
   "cell_type": "code",
   "source": "filename = 'data/graph_collapse.txt'",
   "id": "30e0096ecad19cb1",
   "outputs": [],
   "execution_count": 2
  },
  {
   "cell_type": "code",
   "id": "initial_id",
   "metadata": {
    "collapsed": true,
    "ExecuteTime": {
     "end_time": "2024-11-09T01:21:28.496864Z",
     "start_time": "2024-11-09T01:21:25.915888Z"
    }
   },
   "source": [
    "G = nx.Graph()\n",
    "\n",
    "with open(filename, 'r') as file:\n",
    "    for line in file:\n",
    "        node1, node2 = line.strip().split()\n",
    "        G.add_edge(node1, node2)\n",
    "\n",
    "components = list(nx.connected_components(G))\n",
    "components.sort(key=len, reverse=True)\n",
    "largest_component = components[0]\n",
    "G_largest = G.subgraph(largest_component).copy()\n",
    "other_components = components[1:]\n",
    "G_others = nx.Graph()\n",
    "for component in other_components:\n",
    "    G_others = nx.compose(G_others, G.subgraph(component))"
   ],
   "outputs": [],
   "execution_count": 3
  },
  {
   "metadata": {},
   "cell_type": "code",
   "source": [
    "def characteristics(g):\n",
    "    num_vertices = g.number_of_nodes()\n",
    "    \n",
    "    num_edges = g.number_of_edges()\n",
    "    \n",
    "    if nx.is_connected(g):\n",
    "        diameter = nx.diameter(g)\n",
    "    else:\n",
    "        components = list(nx.connected_components(G))\n",
    "        avg_diameter = 0\n",
    "        num_components = len(components)\n",
    "        for component in components:\n",
    "            subgraph = G.subgraph(component)\n",
    "            try:\n",
    "                avg_diameter += nx.diameter(subgraph)\n",
    "            except nx.NetworkXError:\n",
    "                continue\n",
    "        if num_components > 0:\n",
    "            avg_diameter /= num_components\n",
    "        diameter = avg_diameter\n",
    "    density = nx.density(g)\n",
    "    print(f\"- Number of vertices: {num_vertices}\")\n",
    "    print(f\"- Number of edges: {num_edges}\")\n",
    "    print(f\"- Diameter: {diameter}\")\n",
    "    print(f\"- Density: {density}\")"
   ],
   "id": "ecb1356b5a2c5a4a",
   "outputs": [],
   "execution_count": 4
  },
  {
   "metadata": {
    "ExecuteTime": {
     "end_time": "2024-11-09T01:21:42.664199Z",
     "start_time": "2024-11-09T01:21:28.509943Z"
    }
   },
   "cell_type": "code",
   "source": [
    "print('Full Graph:')\n",
    "characteristics(G)\n",
    "print('Largest Component:')\n",
    "characteristics(G_largest)\n",
    "print('Small Components:')\n",
    "characteristics(G_others)"
   ],
   "id": "6287d579061f890d",
   "outputs": [
    {
     "name": "stdout",
     "output_type": "stream",
     "text": [
      "Full Graph:\n",
      "- Number of vertices: 5101\n",
      "- Number of edges: 5222\n",
      "- Diameter: 2.142105263157895\n",
      "- Density: 0.00040145915256908487\n",
      "Largest Component:\n",
      "- Number of vertices: 2125\n",
      "- Number of edges: 2871\n",
      "- Diameter: 34\n",
      "- Density: 0.001272183449651047\n",
      "Small Components:\n",
      "- Number of vertices: 2976\n",
      "- Number of edges: 2351\n",
      "- Diameter: 2.142105263157895\n",
      "- Density: 0.0005310834011023765\n"
     ]
    }
   ],
   "execution_count": 5
  }
 ],
 "metadata": {
  "kernelspec": {
   "display_name": "Python 3",
   "language": "python",
   "name": "python3"
  },
  "language_info": {
   "codemirror_mode": {
    "name": "ipython",
    "version": 2
   },
   "file_extension": ".py",
   "mimetype": "text/x-python",
   "name": "python",
   "nbconvert_exporter": "python",
   "pygments_lexer": "ipython2",
   "version": "2.7.6"
  }
 },
 "nbformat": 4,
 "nbformat_minor": 5
}
