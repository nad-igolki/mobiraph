{
 "cells": [
  {
   "cell_type": "code",
   "metadata": {
    "ExecuteTime": {
     "end_time": "2025-05-08T13:48:11.542381Z",
     "start_time": "2025-05-08T13:48:09.912537Z"
    }
   },
   "source": [
    "import os, sys\n",
    "import math\n",
    "from copy import deepcopy\n",
    "from pathlib import Path\n",
    "import numpy as np\n",
    "import pandas as pd\n",
    "from scipy import stats\n",
    "\n",
    "import torch as th\n",
    "import torch.nn as nn\n",
    "from torch import optim\n",
    "import torch.nn.functional as F\n",
    "\n",
    "import matplotlib.pyplot as plt\n",
    "%matplotlib inline"
   ],
   "outputs": [],
   "execution_count": 1
  },
  {
   "cell_type": "code",
   "metadata": {
    "ExecuteTime": {
     "end_time": "2025-05-08T13:48:13.413399Z",
     "start_time": "2025-05-08T13:48:13.140657Z"
    }
   },
   "source": [
    "os.environ['DGLBACKEND'] = 'pytorch'\n",
    "import dgl\n",
    "from dgl.data import DGLDataset\n",
    "from dgl.dataloading import GraphDataLoader\n",
    "from torch.utils.data import Subset\n",
    "from torch.utils.data.sampler import SubsetRandomSampler\n",
    "\n",
    "import dgl.function as fn"
   ],
   "outputs": [],
   "execution_count": 2
  },
  {
   "cell_type": "code",
   "metadata": {
    "ExecuteTime": {
     "end_time": "2025-05-08T13:48:14.812015Z",
     "start_time": "2025-05-08T13:48:14.808670Z"
    }
   },
   "source": [
    "device = 'cuda' if th.cuda.is_available() else 'cpu'\n",
    "device = th.device(device)\n",
    "device"
   ],
   "outputs": [
    {
     "data": {
      "text/plain": [
       "device(type='cpu')"
      ]
     },
     "execution_count": 3,
     "metadata": {},
     "output_type": "execute_result"
    }
   ],
   "execution_count": 3
  },
  {
   "cell_type": "code",
   "metadata": {
    "ExecuteTime": {
     "end_time": "2025-05-08T13:48:16.135465Z",
     "start_time": "2025-05-08T13:48:16.023964Z"
    }
   },
   "source": "from generate_dataset.generated_graph_dataset import GeneratedGraphDataset",
   "outputs": [],
   "execution_count": 4
  },
  {
   "cell_type": "code",
   "metadata": {
    "ExecuteTime": {
     "end_time": "2025-05-08T14:02:56.727Z",
     "start_time": "2025-05-08T13:48:26.388314Z"
    }
   },
   "source": [
    "dataset = GeneratedGraphDataset(raw_dir='generate_dataset/LTR_TIR_with_real')\n",
    "len(dataset)"
   ],
   "outputs": [
    {
     "data": {
      "text/plain": [
       "40000"
      ]
     },
     "execution_count": 6,
     "metadata": {},
     "output_type": "execute_result"
    }
   ],
   "execution_count": 6
  },
  {
   "cell_type": "code",
   "metadata": {
    "ExecuteTime": {
     "end_time": "2025-05-08T14:03:52.604524Z",
     "start_time": "2025-05-08T14:03:52.332003Z"
    }
   },
   "source": [
    "# create train/val/test split dataloaders\n",
    "split_idx = dataset.split_idx\n",
    "\n",
    "train_sampler = SubsetRandomSampler(split_idx['train'])\n",
    "val_subset = Subset(dataset, split_idx['valid'])\n",
    "test_subset = Subset(dataset, split_idx['test'])\n"
   ],
   "outputs": [],
   "execution_count": 7
  },
  {
   "cell_type": "code",
   "metadata": {
    "ExecuteTime": {
     "end_time": "2025-05-08T14:03:56.699395Z",
     "start_time": "2025-05-08T14:03:56.529759Z"
    }
   },
   "source": [
    "bs = 32\n",
    "train_dataloader = GraphDataLoader(\n",
    "    dataset, sampler=train_sampler, batch_size=bs, drop_last=False)\n",
    "val_dataloader = GraphDataLoader(\n",
    "    val_subset, shuffle=False, batch_size=bs, drop_last=False)\n",
    "test_dataloader = GraphDataLoader(\n",
    "    test_subset, shuffle=False, batch_size=bs, drop_last=False)"
   ],
   "outputs": [],
   "execution_count": 8
  },
  {
   "cell_type": "code",
   "metadata": {
    "ExecuteTime": {
     "end_time": "2025-05-08T14:03:58.884680Z",
     "start_time": "2025-05-08T14:03:58.869396Z"
    }
   },
   "source": [
    "len(val_subset), len(test_subset)"
   ],
   "outputs": [
    {
     "data": {
      "text/plain": [
       "(4000, 4000)"
      ]
     },
     "execution_count": 9,
     "metadata": {},
     "output_type": "execute_result"
    }
   ],
   "execution_count": 9
  },
  {
   "cell_type": "code",
   "metadata": {
    "ExecuteTime": {
     "end_time": "2025-05-08T14:04:01.231555Z",
     "start_time": "2025-05-08T14:04:00.780284Z"
    }
   },
   "source": [
    "it = iter(train_dataloader)\n",
    "batch = next(it)"
   ],
   "outputs": [],
   "execution_count": 10
  },
  {
   "cell_type": "code",
   "metadata": {
    "ExecuteTime": {
     "end_time": "2025-05-08T14:04:03.403845Z",
     "start_time": "2025-05-08T14:04:03.390119Z"
    }
   },
   "source": [
    "batch"
   ],
   "outputs": [
    {
     "data": {
      "text/plain": [
       "[Graph(num_nodes=14488, num_edges=26136,\n",
       "       ndata_schemes={'feat': Scheme(shape=(5,), dtype=torch.float32)}\n",
       "       edata_schemes={'feat': Scheme(shape=(1,), dtype=torch.float32)}),\n",
       " tensor([1, 1, 1, 0, 0, 1, 1, 1, 0, 1, 0, 1, 0, 1, 1, 0, 1, 0, 1, 0, 1, 0, 1, 0,\n",
       "         1, 1, 1, 1, 1, 1, 0, 1])]"
      ]
     },
     "execution_count": 11,
     "metadata": {},
     "output_type": "execute_result"
    }
   ],
   "execution_count": 11
  },
  {
   "cell_type": "code",
   "metadata": {
    "ExecuteTime": {
     "end_time": "2025-05-08T14:04:05.106878Z",
     "start_time": "2025-05-08T14:04:05.047554Z"
    }
   },
   "source": [
    "dgl.unbatch(batch[0])"
   ],
   "outputs": [
    {
     "data": {
      "text/plain": [
       "[Graph(num_nodes=466, num_edges=701,\n",
       "       ndata_schemes={'feat': Scheme(shape=(5,), dtype=torch.float32)}\n",
       "       edata_schemes={'feat': Scheme(shape=(1,), dtype=torch.float32)}),\n",
       " Graph(num_nodes=524, num_edges=800,\n",
       "       ndata_schemes={'feat': Scheme(shape=(5,), dtype=torch.float32)}\n",
       "       edata_schemes={'feat': Scheme(shape=(1,), dtype=torch.float32)}),\n",
       " Graph(num_nodes=219, num_edges=347,\n",
       "       ndata_schemes={'feat': Scheme(shape=(5,), dtype=torch.float32)}\n",
       "       edata_schemes={'feat': Scheme(shape=(1,), dtype=torch.float32)}),\n",
       " Graph(num_nodes=435, num_edges=822,\n",
       "       ndata_schemes={'feat': Scheme(shape=(5,), dtype=torch.float32)}\n",
       "       edata_schemes={'feat': Scheme(shape=(1,), dtype=torch.float32)}),\n",
       " Graph(num_nodes=488, num_edges=1034,\n",
       "       ndata_schemes={'feat': Scheme(shape=(5,), dtype=torch.float32)}\n",
       "       edata_schemes={'feat': Scheme(shape=(1,), dtype=torch.float32)}),\n",
       " Graph(num_nodes=261, num_edges=407,\n",
       "       ndata_schemes={'feat': Scheme(shape=(5,), dtype=torch.float32)}\n",
       "       edata_schemes={'feat': Scheme(shape=(1,), dtype=torch.float32)}),\n",
       " Graph(num_nodes=347, num_edges=522,\n",
       "       ndata_schemes={'feat': Scheme(shape=(5,), dtype=torch.float32)}\n",
       "       edata_schemes={'feat': Scheme(shape=(1,), dtype=torch.float32)}),\n",
       " Graph(num_nodes=113, num_edges=151,\n",
       "       ndata_schemes={'feat': Scheme(shape=(5,), dtype=torch.float32)}\n",
       "       edata_schemes={'feat': Scheme(shape=(1,), dtype=torch.float32)}),\n",
       " Graph(num_nodes=834, num_edges=1574,\n",
       "       ndata_schemes={'feat': Scheme(shape=(5,), dtype=torch.float32)}\n",
       "       edata_schemes={'feat': Scheme(shape=(1,), dtype=torch.float32)}),\n",
       " Graph(num_nodes=466, num_edges=718,\n",
       "       ndata_schemes={'feat': Scheme(shape=(5,), dtype=torch.float32)}\n",
       "       edata_schemes={'feat': Scheme(shape=(1,), dtype=torch.float32)}),\n",
       " Graph(num_nodes=1239, num_edges=2513,\n",
       "       ndata_schemes={'feat': Scheme(shape=(5,), dtype=torch.float32)}\n",
       "       edata_schemes={'feat': Scheme(shape=(1,), dtype=torch.float32)}),\n",
       " Graph(num_nodes=36, num_edges=62,\n",
       "       ndata_schemes={'feat': Scheme(shape=(5,), dtype=torch.float32)}\n",
       "       edata_schemes={'feat': Scheme(shape=(1,), dtype=torch.float32)}),\n",
       " Graph(num_nodes=701, num_edges=1417,\n",
       "       ndata_schemes={'feat': Scheme(shape=(5,), dtype=torch.float32)}\n",
       "       edata_schemes={'feat': Scheme(shape=(1,), dtype=torch.float32)}),\n",
       " Graph(num_nodes=435, num_edges=632,\n",
       "       ndata_schemes={'feat': Scheme(shape=(5,), dtype=torch.float32)}\n",
       "       edata_schemes={'feat': Scheme(shape=(1,), dtype=torch.float32)}),\n",
       " Graph(num_nodes=284, num_edges=482,\n",
       "       ndata_schemes={'feat': Scheme(shape=(5,), dtype=torch.float32)}\n",
       "       edata_schemes={'feat': Scheme(shape=(1,), dtype=torch.float32)}),\n",
       " Graph(num_nodes=377, num_edges=759,\n",
       "       ndata_schemes={'feat': Scheme(shape=(5,), dtype=torch.float32)}\n",
       "       edata_schemes={'feat': Scheme(shape=(1,), dtype=torch.float32)}),\n",
       " Graph(num_nodes=497, num_edges=797,\n",
       "       ndata_schemes={'feat': Scheme(shape=(5,), dtype=torch.float32)}\n",
       "       edata_schemes={'feat': Scheme(shape=(1,), dtype=torch.float32)}),\n",
       " Graph(num_nodes=1245, num_edges=2480,\n",
       "       ndata_schemes={'feat': Scheme(shape=(5,), dtype=torch.float32)}\n",
       "       edata_schemes={'feat': Scheme(shape=(1,), dtype=torch.float32)}),\n",
       " Graph(num_nodes=152, num_edges=199,\n",
       "       ndata_schemes={'feat': Scheme(shape=(5,), dtype=torch.float32)}\n",
       "       edata_schemes={'feat': Scheme(shape=(1,), dtype=torch.float32)}),\n",
       " Graph(num_nodes=757, num_edges=1527,\n",
       "       ndata_schemes={'feat': Scheme(shape=(5,), dtype=torch.float32)}\n",
       "       edata_schemes={'feat': Scheme(shape=(1,), dtype=torch.float32)}),\n",
       " Graph(num_nodes=135, num_edges=207,\n",
       "       ndata_schemes={'feat': Scheme(shape=(5,), dtype=torch.float32)}\n",
       "       edata_schemes={'feat': Scheme(shape=(1,), dtype=torch.float32)}),\n",
       " Graph(num_nodes=1253, num_edges=2467,\n",
       "       ndata_schemes={'feat': Scheme(shape=(5,), dtype=torch.float32)}\n",
       "       edata_schemes={'feat': Scheme(shape=(1,), dtype=torch.float32)}),\n",
       " Graph(num_nodes=221, num_edges=316,\n",
       "       ndata_schemes={'feat': Scheme(shape=(5,), dtype=torch.float32)}\n",
       "       edata_schemes={'feat': Scheme(shape=(1,), dtype=torch.float32)}),\n",
       " Graph(num_nodes=819, num_edges=1691,\n",
       "       ndata_schemes={'feat': Scheme(shape=(5,), dtype=torch.float32)}\n",
       "       edata_schemes={'feat': Scheme(shape=(1,), dtype=torch.float32)}),\n",
       " Graph(num_nodes=539, num_edges=795,\n",
       "       ndata_schemes={'feat': Scheme(shape=(5,), dtype=torch.float32)}\n",
       "       edata_schemes={'feat': Scheme(shape=(1,), dtype=torch.float32)}),\n",
       " Graph(num_nodes=170, num_edges=257,\n",
       "       ndata_schemes={'feat': Scheme(shape=(5,), dtype=torch.float32)}\n",
       "       edata_schemes={'feat': Scheme(shape=(1,), dtype=torch.float32)}),\n",
       " Graph(num_nodes=360, num_edges=544,\n",
       "       ndata_schemes={'feat': Scheme(shape=(5,), dtype=torch.float32)}\n",
       "       edata_schemes={'feat': Scheme(shape=(1,), dtype=torch.float32)}),\n",
       " Graph(num_nodes=267, num_edges=423,\n",
       "       ndata_schemes={'feat': Scheme(shape=(5,), dtype=torch.float32)}\n",
       "       edata_schemes={'feat': Scheme(shape=(1,), dtype=torch.float32)}),\n",
       " Graph(num_nodes=56, num_edges=93,\n",
       "       ndata_schemes={'feat': Scheme(shape=(5,), dtype=torch.float32)}\n",
       "       edata_schemes={'feat': Scheme(shape=(1,), dtype=torch.float32)}),\n",
       " Graph(num_nodes=103, num_edges=123,\n",
       "       ndata_schemes={'feat': Scheme(shape=(5,), dtype=torch.float32)}\n",
       "       edata_schemes={'feat': Scheme(shape=(1,), dtype=torch.float32)}),\n",
       " Graph(num_nodes=524, num_edges=1006,\n",
       "       ndata_schemes={'feat': Scheme(shape=(5,), dtype=torch.float32)}\n",
       "       edata_schemes={'feat': Scheme(shape=(1,), dtype=torch.float32)}),\n",
       " Graph(num_nodes=165, num_edges=270,\n",
       "       ndata_schemes={'feat': Scheme(shape=(5,), dtype=torch.float32)}\n",
       "       edata_schemes={'feat': Scheme(shape=(1,), dtype=torch.float32)})]"
      ]
     },
     "execution_count": 12,
     "metadata": {},
     "output_type": "execute_result"
    }
   ],
   "execution_count": 12
  },
  {
   "cell_type": "code",
   "metadata": {
    "ExecuteTime": {
     "end_time": "2025-05-05T12:33:32.763543Z",
     "start_time": "2025-05-05T12:33:32.761797Z"
    }
   },
   "source": [
    "# ndata - node data\n",
    "# batch[0].ndata['feat']\n",
    "# edata - edge data\n",
    "# batch[0].edata['feat']"
   ],
   "outputs": [],
   "execution_count": 12
  },
  {
   "cell_type": "code",
   "metadata": {
    "ExecuteTime": {
     "end_time": "2025-05-08T14:04:08.437874Z",
     "start_time": "2025-05-08T14:04:08.417701Z"
    }
   },
   "source": "emb_dim = 5",
   "outputs": [],
   "execution_count": 13
  },
  {
   "cell_type": "code",
   "metadata": {
    "ExecuteTime": {
     "end_time": "2025-05-08T14:04:10.780602Z",
     "start_time": "2025-05-08T14:04:10.756758Z"
    }
   },
   "source": [
    "# copy_{u} - source node\n",
    "# copy_{v} - destination, neighbour node\n",
    "\n",
    "class GINLayer(nn.Module):\n",
    "    def __init__(self, emb_dim):\n",
    "        super(GINLayer, self).__init__()\n",
    "        self.mlp = nn.Sequential(\n",
    "            nn.Linear(emb_dim, 2*emb_dim), \n",
    "            nn.BatchNorm1d(2*emb_dim), \n",
    "            nn.ReLU(), \n",
    "            nn.Linear(2*emb_dim, emb_dim) #from above\n",
    "        )\n",
    "        self.eps = nn.Parameter(th.FloatTensor([0]))\n",
    "        \n",
    "\n",
    "    def reset_parameters(self): # reset the parameters of the MLP\n",
    "        # MLP\n",
    "        for layer in self.mlp:\n",
    "            if hasattr(layer, 'reset_parameters'):\n",
    "                layer.reset_parameters()\n",
    "        # EPS\n",
    "        nn.init.constant_(self.eps, 0.)\n",
    "        \n",
    "    def extra_repr(self):\n",
    "        # Add \"eps\" to the string representation\n",
    "        return f'(eps): nn.Parameter'\n",
    "        \n",
    "    def forward(self, g, x_node, x_edge):\n",
    "        \"\"\"\n",
    "        g : The graph used for message passing\n",
    "        x_node : AtomEncodings\n",
    "        x_edge : BondEncodings\n",
    "        \"\"\"\n",
    "        \n",
    "        with g.local_scope():\n",
    "            # Store edge features to 'bond' key in g.edata\n",
    "            g.edata['bond'] = x_edge\n",
    "            # Store node features to 'x' key in g.ndata\n",
    "            g.srcdata['x'] = x_node\n",
    "            \n",
    "            # calculate the right part h_i = sum_j( F.relu (h_j + e_ij) )\n",
    "                \n",
    "            ## 1. take the sum\n",
    "            g.apply_edges( # see https://docs.dgl.ai/api/python/dgl.function.html#dgl-built-in-function\n",
    "                fn.u_add_e('x', 'bond', 'm')\n",
    "            )\n",
    "            ##2. apply ReLU\n",
    "            g.edata['m'] = F.relu(g.edata['m'])\n",
    "            \n",
    "            ## 3. sum the modified messages https://docs.dgl.ai/en/1.0.x/generated/dgl.DGLGraph.update_all.html\n",
    "            g.update_all(\n",
    "                fn.copy_e('m', 'm'), # creating messages\n",
    "                fn.sum('m', 'mp'), # sending messages to message passing\n",
    "            )\n",
    "            ## extract the final output into variable \"h_mp\"\n",
    "            h_mp = g.dstdata['mp'] # will be used in the next layer\n",
    "                    \n",
    "        # GIN update equation\n",
    "        out = self.mlp((1 + self.eps) * x_node + h_mp)\n",
    "\n",
    "        return out"
   ],
   "outputs": [],
   "execution_count": 14
  },
  {
   "cell_type": "code",
   "metadata": {
    "ExecuteTime": {
     "end_time": "2025-05-08T14:04:14.148291Z",
     "start_time": "2025-05-08T14:04:14.111249Z"
    }
   },
   "source": "gin = GINLayer(emb_dim)",
   "outputs": [],
   "execution_count": 15
  },
  {
   "cell_type": "code",
   "metadata": {
    "ExecuteTime": {
     "end_time": "2025-05-08T14:04:15.464635Z",
     "start_time": "2025-05-08T14:04:15.452043Z"
    }
   },
   "source": "sum(p.numel() for p in gin.parameters())",
   "outputs": [
    {
     "data": {
      "text/plain": [
       "136"
      ]
     },
     "execution_count": 16,
     "metadata": {},
     "output_type": "execute_result"
    }
   ],
   "execution_count": 16
  },
  {
   "cell_type": "code",
   "metadata": {
    "ExecuteTime": {
     "end_time": "2025-05-08T14:04:17.047080Z",
     "start_time": "2025-05-08T14:04:17.035754Z"
    }
   },
   "source": [
    "## Node convolution\n",
    "class NodeGNN(nn.Module):\n",
    "    def __init__(self, emb_dim, num_layers, dropout):\n",
    "        super(NodeGNN, self).__init__()\n",
    "        self.num_layers = num_layers\n",
    "        self.dropout = dropout\n",
    "        \n",
    "        # self.atom_encoder = AtomEncoder(emb_dim)\n",
    "        # self.bond_encoder = BondEncoder(emb_dim)\n",
    "        \n",
    "        self.convs = nn.ModuleList()\n",
    "        self.batch_norms = nn.ModuleList()\n",
    "        for layer in range(num_layers):\n",
    "            self.convs.append(GINLayer(emb_dim))\n",
    "            self.batch_norms.append(nn.BatchNorm1d(emb_dim))\n",
    "    \n",
    "    def reset_parameters(self):\n",
    "\n",
    "        # for emb in self.atom_encoder.atom_embedding_list: # Atom embeddings\n",
    "        #     nn.init.xavier_uniform_(emb.weight.data)\n",
    "        # \n",
    "        # for emb in self.bond_encoder.bond_embedding_list: # Bond embeddings\n",
    "        #     nn.init.xavier_uniform_(emb.weight.data)\n",
    "\n",
    "        # reset parameters for the GIN and batch norm layers\n",
    "        for conv in self.convs:\n",
    "            conv.reset_parameters()\n",
    "        for bn in self.batch_norms:\n",
    "            bn.reset_parameters()\n",
    "    \n",
    "    def forward(self, g):\n",
    "        \"\"\"        \n",
    "        (node_embeddings, edge_embeddings) -> GIN -> Batch Norm -> ReLU -> Dropout\n",
    "        \"\"\"\n",
    "        \n",
    "        h = g.ndata['feat']\n",
    "        edge_embedding = g.edata['feat']\n",
    "        \n",
    "        \n",
    "        for layer in range(self.num_layers):\n",
    "            h = self.convs[layer](g, h, edge_embedding)\n",
    "            h = self.batch_norms[layer](h)\n",
    "            if layer == self.num_layers - 1:\n",
    "                #remove relu for the last layer\n",
    "                h = F.dropout(h, self.dropout, training=self.training)\n",
    "            else:\n",
    "                h = F.dropout(F.relu(h), self.dropout, training=self.training)\n",
    "        return h"
   ],
   "outputs": [],
   "execution_count": 17
  },
  {
   "cell_type": "code",
   "metadata": {
    "ExecuteTime": {
     "end_time": "2025-05-08T14:04:19.162475Z",
     "start_time": "2025-05-08T14:04:19.151390Z"
    }
   },
   "source": [
    "# test model\n",
    "node_gnn = NodeGNN(emb_dim, 1, 0.5)\n",
    "# node_gnn"
   ],
   "outputs": [],
   "execution_count": 18
  },
  {
   "cell_type": "code",
   "metadata": {
    "ExecuteTime": {
     "end_time": "2025-05-08T14:04:20.743286Z",
     "start_time": "2025-05-08T14:04:20.739488Z"
    }
   },
   "source": [
    "#418501\n",
    "sum(p.numel() for p in node_gnn.parameters())"
   ],
   "outputs": [
    {
     "data": {
      "text/plain": [
       "146"
      ]
     },
     "execution_count": 19,
     "metadata": {},
     "output_type": "execute_result"
    }
   ],
   "execution_count": 19
  },
  {
   "cell_type": "code",
   "metadata": {
    "ExecuteTime": {
     "end_time": "2025-05-08T14:07:35.957907Z",
     "start_time": "2025-05-08T14:07:35.889123Z"
    }
   },
   "source": [
    "class GraphGNN(nn.Module):\n",
    "    def __init__(self, emb_dim, num_layers, num_classes, node_cls, dropout):\n",
    "        super(GraphGNN, self).__init__()\n",
    "        self.num_layers = num_layers\n",
    "        self.dropout = dropout\n",
    "        \n",
    "        self.node_GNN = node_cls(emb_dim, num_layers, dropout) # node-level GNN, returns node embeddings for every single graph\n",
    "        #node representation -> graph representation\n",
    "        self.graph_pred_linear = nn.Linear(emb_dim, num_classes)\n",
    "        self.reset_parameters()\n",
    "\n",
    "    def reset_parameters(self):\n",
    "        self.node_GNN.reset_parameters()\n",
    "        self.graph_pred_linear.reset_parameters()\n",
    "\n",
    "\n",
    "    def forward(self, g): # !!! g is a batched super-graph\n",
    "        h_node = self.node_GNN(g) # node-level embeddings with self.node_GNN\n",
    "        \n",
    "        # pool the node-level embedding to get graph representations\n",
    "        with g.local_scope():\n",
    "            g.ndata['h'] = h_node # store node data in h\n",
    "            h_graph = dgl.mean_nodes(g, 'h') # average the nodes in the component graphs 32 graph layer embs\n",
    "        \n",
    "        # generate a final prediction by sending the graph-level representation\n",
    "        # through self.graph_pred_linear\n",
    "        pred = self.graph_pred_linear(h_graph)\n",
    "        return pred"
   ],
   "outputs": [],
   "execution_count": 20
  },
  {
   "cell_type": "code",
   "metadata": {
    "ExecuteTime": {
     "end_time": "2025-05-08T14:07:37.688158Z",
     "start_time": "2025-05-08T14:07:37.669307Z"
    }
   },
   "source": [
    "num_layers = 5\n",
    "num_classes = 2\n",
    "dropout = 0.5\n",
    "\n",
    "model = GraphGNN(emb_dim, num_layers, num_classes, NodeGNN, dropout)"
   ],
   "outputs": [],
   "execution_count": 21
  },
  {
   "cell_type": "code",
   "metadata": {
    "ExecuteTime": {
     "end_time": "2025-05-08T14:07:38.653481Z",
     "start_time": "2025-05-08T14:07:38.643885Z"
    }
   },
   "source": "sum(p.numel() for p in model.parameters())",
   "outputs": [
    {
     "data": {
      "text/plain": [
       "742"
      ]
     },
     "execution_count": 22,
     "metadata": {},
     "output_type": "execute_result"
    }
   ],
   "execution_count": 22
  },
  {
   "metadata": {
    "ExecuteTime": {
     "end_time": "2025-05-05T12:33:32.891581Z",
     "start_time": "2025-05-05T12:33:32.889972Z"
    }
   },
   "cell_type": "code",
   "source": "# assert False",
   "outputs": [],
   "execution_count": 23
  },
  {
   "cell_type": "code",
   "metadata": {
    "ExecuteTime": {
     "end_time": "2025-05-08T14:07:39.856357Z",
     "start_time": "2025-05-08T14:07:39.852003Z"
    }
   },
   "source": [
    "N_runs = 1\n",
    "train_args = dict(epochs=15, lr=0.001, eval_steps=1, log_steps=1)"
   ],
   "outputs": [],
   "execution_count": 23
  },
  {
   "cell_type": "code",
   "metadata": {
    "ExecuteTime": {
     "end_time": "2025-05-08T14:21:50.577458Z",
     "start_time": "2025-05-08T14:07:41.682793Z"
    }
   },
   "source": [
    "from utils.edited_utils import repeat_experiments\n",
    "logger = repeat_experiments(\n",
    "    model, train_dataloader, val_dataloader, test_dataloader, \n",
    "    device, train_args, N_runs)"
   ],
   "outputs": [
    {
     "name": "stdout",
     "output_type": "stream",
     "text": [
      "Run: 01, Epoch: 01, Loss: 0.1263, Train: 0.6194 Accuracy, Valid: 0.6288 Accuracy, Test: 0.6178 Accuracy\n",
      "---\n",
      "Run: 01, Epoch: 02, Loss: 0.0157, Train: 0.9973 Accuracy, Valid: 0.9985 Accuracy, Test: 0.9985 Accuracy\n",
      "---\n",
      "Run: 01, Epoch: 03, Loss: 0.0088, Train: 0.7926 Accuracy, Valid: 0.7977 Accuracy, Test: 0.7925 Accuracy\n",
      "---\n",
      "Run: 01, Epoch: 04, Loss: 0.0070, Train: 0.9676 Accuracy, Valid: 0.9665 Accuracy, Test: 0.9688 Accuracy\n",
      "---\n",
      "Run: 01, Epoch: 05, Loss: 0.0073, Train: 0.9845 Accuracy, Valid: 0.9865 Accuracy, Test: 0.9842 Accuracy\n",
      "---\n",
      "Run: 01, Epoch: 06, Loss: 0.0054, Train: 0.5001 Accuracy, Valid: 0.5028 Accuracy, Test: 0.4963 Accuracy\n",
      "---\n",
      "Run: 01, Epoch: 07, Loss: 0.0052, Train: 0.9980 Accuracy, Valid: 0.9990 Accuracy, Test: 0.9985 Accuracy\n",
      "---\n",
      "Run: 01, Epoch: 08, Loss: 0.0054, Train: 0.5001 Accuracy, Valid: 0.5028 Accuracy, Test: 0.4963 Accuracy\n",
      "---\n",
      "Run: 01, Epoch: 09, Loss: 0.0052, Train: 0.9975 Accuracy, Valid: 0.9985 Accuracy, Test: 0.9978 Accuracy\n",
      "---\n",
      "Run: 01, Epoch: 10, Loss: 0.0057, Train: 0.5001 Accuracy, Valid: 0.5028 Accuracy, Test: 0.4963 Accuracy\n",
      "---\n",
      "Run: 01, Epoch: 11, Loss: 0.0051, Train: 0.9921 Accuracy, Valid: 0.9928 Accuracy, Test: 0.9915 Accuracy\n",
      "---\n",
      "Run: 01, Epoch: 12, Loss: 0.0061, Train: 0.5245 Accuracy, Valid: 0.5335 Accuracy, Test: 0.5200 Accuracy\n",
      "---\n",
      "Run: 01, Epoch: 13, Loss: 0.0049, Train: 0.5596 Accuracy, Valid: 0.5677 Accuracy, Test: 0.5585 Accuracy\n",
      "---\n",
      "Run: 01, Epoch: 14, Loss: 0.0051, Train: 0.8708 Accuracy, Valid: 0.8735 Accuracy, Test: 0.8710 Accuracy\n",
      "---\n",
      "Run: 01, Epoch: 15, Loss: 0.0059, Train: 0.9988 Accuracy, Valid: 0.9982 Accuracy, Test: 0.9995 Accuracy\n",
      "---\n",
      "Run 01:\n",
      "Highest Train: 99.88\n",
      "Highest Valid: 99.90\n",
      "  Final Train: 99.80\n",
      "   Final Test: 99.85\n",
      "All runs:\n",
      "Highest Train: 99.88 ± nan\n",
      "Highest Valid: 99.90 ± nan\n",
      "  Final Train: 99.80 ± nan\n",
      "   Final Test: 99.85 ± nan\n"
     ]
    }
   ],
   "execution_count": 24
  },
  {
   "metadata": {
    "ExecuteTime": {
     "end_time": "2025-05-08T14:30:13.883445Z",
     "start_time": "2025-05-08T14:30:11.438468Z"
    }
   },
   "cell_type": "code",
   "source": "logger.plot_results()",
   "outputs": [
    {
     "data": {
      "text/plain": [
       "<Figure size 640x480 with 1 Axes>"
      ],
      "image/png": "[encoded data removed]"
     },
     "metadata": {},
     "output_type": "display_data"
    }
   ],
   "execution_count": 25
  },
  {
   "metadata": {
    "ExecuteTime": {
     "end_time": "2025-05-05T12:34:01.476734Z",
     "start_time": "2025-05-05T12:34:01.471708Z"
    }
   },
   "cell_type": "code",
   "source": [
    "import pickle\n",
    "with open('model_LTR_TIR_with_real_15e_2.pkl', 'wb') as f:\n",
    "    pickle.dump(model, f)"
   ],
   "outputs": [],
   "execution_count": 27
  },
  {
   "metadata": {
    "ExecuteTime": {
     "end_time": "2025-05-05T12:34:01.488159Z",
     "start_time": "2025-05-05T12:34:01.482931Z"
    }
   },
   "cell_type": "code",
   "source": [
    "import pickle\n",
    "with open('model_LTR_NO_with_real_15e_2.pkl', 'rb') as f:\n",
    "    loaded_model = pickle.load(f)"
   ],
   "outputs": [],
   "execution_count": 28
  },
  {
   "metadata": {
    "ExecuteTime": {
     "end_time": "2025-05-05T12:34:01.498539Z",
     "start_time": "2025-05-05T12:34:01.495956Z"
    }
   },
   "cell_type": "code",
   "source": "loaded_model",
   "outputs": [
    {
     "data": {
      "text/plain": [
       "GraphGNN(\n",
       "  (node_GNN): NodeGNN(\n",
       "    (convs): ModuleList(\n",
       "      (0-4): 5 x GINLayer(\n",
       "        (eps): nn.Parameter\n",
       "        (mlp): Sequential(\n",
       "          (0): Linear(in_features=5, out_features=10, bias=True)\n",
       "          (1): BatchNorm1d(10, eps=1e-05, momentum=0.1, affine=True, track_running_stats=True)\n",
       "          (2): ReLU()\n",
       "          (3): Linear(in_features=10, out_features=5, bias=True)\n",
       "        )\n",
       "      )\n",
       "    )\n",
       "    (batch_norms): ModuleList(\n",
       "      (0-4): 5 x BatchNorm1d(5, eps=1e-05, momentum=0.1, affine=True, track_running_stats=True)\n",
       "    )\n",
       "  )\n",
       "  (graph_pred_linear): Linear(in_features=5, out_features=2, bias=True)\n",
       ")"
      ]
     },
     "execution_count": 29,
     "metadata": {},
     "output_type": "execute_result"
    }
   ],
   "execution_count": 29
  },
  {
   "metadata": {
    "ExecuteTime": {
     "end_time": "2025-05-08T15:52:06.431477Z",
     "start_time": "2025-05-08T15:52:06.425405Z"
    }
   },
   "cell_type": "code",
   "source": [
    "from sklearn.metrics import accuracy_score\n",
    "def test_with_examples(model, loader, device):\n",
    "    model = model.to(device)\n",
    "    model.eval()\n",
    "\n",
    "    y_true = []\n",
    "    y_pred = []\n",
    "    incorrect_graphs = []\n",
    "    incorrect_labels = []\n",
    "    incorrect_index = []\n",
    "\n",
    "    for i, (batched_graph, labels) in enumerate(loader):\n",
    "        batched_graph = batched_graph.to(device)\n",
    "        pred = model(batched_graph)\n",
    "        y_true.append(labels.view(-1).detach())\n",
    "        y_pred.append(pred.detach().argmax(axis=1))\n",
    "        \n",
    "        if  labels.view(-1).detach() == 1:\n",
    "            print(labels.view(-1).detach())\n",
    "            \n",
    "        if y_true[-1] != y_pred[-1]:\n",
    "            incorrect_graphs.append(batched_graph)\n",
    "            incorrect_labels.append(y_true[-1])\n",
    "            incorrect_index.append(i)\n",
    "\n",
    "    y_true = th.cat(y_true, dim=0).numpy()\n",
    "    y_pred = th.cat(y_pred, dim=0).numpy()\n",
    "\n",
    "    accuracy = accuracy_score(y_true, y_pred)\n",
    "\n",
    "    return accuracy, incorrect_graphs, incorrect_labels, incorrect_index"
   ],
   "outputs": [],
   "execution_count": 41
  },
  {
   "metadata": {
    "ExecuteTime": {
     "end_time": "2025-05-05T12:34:01.520816Z",
     "start_time": "2025-05-05T12:34:01.518103Z"
    }
   },
   "cell_type": "code",
   "source": [
    "import dgl\n",
    "import torch\n",
    "import matplotlib.pyplot as plt\n",
    "\n",
    "def visualize_edge_weight_adjacency(g, edge_feat_key='feat'):\n",
    "    num_nodes = g.num_nodes()\n",
    "    src, dst = g.edges() \n",
    "\n",
    "    edge_weights = g.edata[edge_feat_key]\n",
    "    if edge_weights.dim() > 1:\n",
    "        edge_weights = edge_weights.squeeze()\n",
    "\n",
    "    adj_matrix = torch.zeros((num_nodes, num_nodes))\n",
    "    adj_matrix[src, dst] = edge_weights\n",
    "\n",
    "    rows, cols = np.nonzero(adj_matrix.numpy())\n",
    "\n",
    "    plt.scatter(cols, rows, c='black', s=0.5)\n",
    "    plt.gca().set_aspect('equal')\n",
    "    plt.grid(True)\n",
    "    plt.show()\n",
    "    return adj_matrix\n"
   ],
   "outputs": [],
   "execution_count": 31
  },
  {
   "metadata": {
    "ExecuteTime": {
     "end_time": "2025-05-08T15:49:38.603200Z",
     "start_time": "2025-05-08T15:49:33.093903Z"
    }
   },
   "cell_type": "code",
   "source": [
    "test_dataset = GeneratedGraphDataset(raw_dir='generate_dataset/test_LTR_LINE')\n",
    "print(len(test_dataset))\n",
    "test_dataloader = GraphDataLoader(test_dataset, batch_size=1, shuffle=False)"
   ],
   "outputs": [
    {
     "name": "stdout",
     "output_type": "stream",
     "text": [
      "936\n"
     ]
    }
   ],
   "execution_count": 34
  },
  {
   "metadata": {
    "ExecuteTime": {
     "end_time": "2025-05-08T15:49:44.630717Z",
     "start_time": "2025-05-08T15:49:42.036521Z"
    }
   },
   "cell_type": "code",
   "source": [
    "import pickle\n",
    "from utils.edited_utils import test\n",
    "with open('model_LTR_INNER_with_real_15e_2.pkl', 'rb') as f:\n",
    "    loaded_model = pickle.load(f)\n",
    "test_accuracy = test(model, test_dataloader, device)\n",
    "test_accuracy"
   ],
   "outputs": [
    {
     "data": {
      "text/plain": [
       "0.15918803418803418"
      ]
     },
     "execution_count": 35,
     "metadata": {},
     "output_type": "execute_result"
    }
   ],
   "execution_count": 35
  },
  {
   "metadata": {
    "ExecuteTime": {
     "end_time": "2025-05-08T15:52:10.543514Z",
     "start_time": "2025-05-08T15:52:08.070925Z"
    }
   },
   "cell_type": "code",
   "source": [
    "accuracy, incorrect_graphs, incorrect_labels, incorrect_index = test_with_examples(model, test_dataset, device)\n",
    "accuracy"
   ],
   "outputs": [
    {
     "name": "stdout",
     "output_type": "stream",
     "text": [
      "tensor([1])\n",
      "tensor([1])\n",
      "tensor([1])\n",
      "tensor([1])\n",
      "tensor([1])\n",
      "tensor([1])\n",
      "tensor([1])\n",
      "tensor([1])\n",
      "tensor([1])\n",
      "tensor([1])\n",
      "tensor([1])\n",
      "tensor([1])\n",
      "tensor([1])\n",
      "tensor([1])\n",
      "tensor([1])\n",
      "tensor([1])\n",
      "tensor([1])\n",
      "tensor([1])\n",
      "tensor([1])\n",
      "tensor([1])\n",
      "tensor([1])\n",
      "tensor([1])\n",
      "tensor([1])\n",
      "tensor([1])\n",
      "tensor([1])\n",
      "tensor([1])\n",
      "tensor([1])\n",
      "tensor([1])\n",
      "tensor([1])\n",
      "tensor([1])\n",
      "tensor([1])\n",
      "tensor([1])\n",
      "tensor([1])\n",
      "tensor([1])\n",
      "tensor([1])\n",
      "tensor([1])\n",
      "tensor([1])\n",
      "tensor([1])\n",
      "tensor([1])\n",
      "tensor([1])\n",
      "tensor([1])\n",
      "tensor([1])\n",
      "tensor([1])\n",
      "tensor([1])\n",
      "tensor([1])\n",
      "tensor([1])\n",
      "tensor([1])\n",
      "tensor([1])\n",
      "tensor([1])\n",
      "tensor([1])\n",
      "tensor([1])\n",
      "tensor([1])\n",
      "tensor([1])\n",
      "tensor([1])\n",
      "tensor([1])\n",
      "tensor([1])\n",
      "tensor([1])\n",
      "tensor([1])\n",
      "tensor([1])\n",
      "tensor([1])\n",
      "tensor([1])\n",
      "tensor([1])\n",
      "tensor([1])\n",
      "tensor([1])\n",
      "tensor([1])\n",
      "tensor([1])\n",
      "tensor([1])\n",
      "tensor([1])\n",
      "tensor([1])\n",
      "tensor([1])\n",
      "tensor([1])\n",
      "tensor([1])\n",
      "tensor([1])\n",
      "tensor([1])\n",
      "tensor([1])\n",
      "tensor([1])\n",
      "tensor([1])\n",
      "tensor([1])\n",
      "tensor([1])\n",
      "tensor([1])\n",
      "tensor([1])\n",
      "tensor([1])\n",
      "tensor([1])\n",
      "tensor([1])\n",
      "tensor([1])\n",
      "tensor([1])\n",
      "tensor([1])\n",
      "tensor([1])\n",
      "tensor([1])\n",
      "tensor([1])\n",
      "tensor([1])\n",
      "tensor([1])\n",
      "tensor([1])\n",
      "tensor([1])\n",
      "tensor([1])\n",
      "tensor([1])\n",
      "tensor([1])\n",
      "tensor([1])\n",
      "tensor([1])\n",
      "tensor([1])\n",
      "tensor([1])\n",
      "tensor([1])\n",
      "tensor([1])\n",
      "tensor([1])\n",
      "tensor([1])\n",
      "tensor([1])\n",
      "tensor([1])\n"
     ]
    },
    {
     "data": {
      "text/plain": [
       "0.15918803418803418"
      ]
     },
     "execution_count": 42,
     "metadata": {},
     "output_type": "execute_result"
    }
   ],
   "execution_count": 42
  },
  {
   "metadata": {},
   "cell_type": "code",
   "source": "incorrect_labels",
   "outputs": [],
   "execution_count": null
  },
  {
   "metadata": {
    "ExecuteTime": {
     "end_time": "2025-05-08T15:57:06.311689Z",
     "start_time": "2025-05-08T15:57:06.129279Z"
    }
   },
   "cell_type": "code",
   "source": [
    "from collections import Counter\n",
    "import torch\n",
    "\n",
    "label_counter = Counter()\n",
    "total_samples = 0\n",
    "\n",
    "for batch in test_dataloader:\n",
    "    labels = batch[1]\n",
    "    if isinstance(labels, torch.Tensor):\n",
    "        labels = labels.tolist()\n",
    "    \n",
    "    label_counter.update(labels)\n",
    "    total_samples += len(labels)\n",
    "\n",
    "# считаем доли\n",
    "label_distribution = {label: count / total_samples for label, count in label_counter.items()}\n",
    "\n",
    "print(\"Label counts:\", label_counter)\n",
    "print(\"Label distribution:\", label_distribution)"
   ],
   "outputs": [
    {
     "name": "stdout",
     "output_type": "stream",
     "text": [
      "Label counts: Counter({0: 829, 1: 107})\n",
      "Label distribution: {0: 0.8856837606837606, 1: 0.11431623931623931}\n"
     ]
    }
   ],
   "execution_count": 46
  },
  {
   "metadata": {
    "ExecuteTime": {
     "end_time": "2025-05-08T15:51:09.491429Z",
     "start_time": "2025-05-08T15:51:09.481227Z"
    }
   },
   "cell_type": "code",
   "source": [
    "for i in range(len(incorrect_graphs)):\n",
    "    if incorrect_labels[i] == 1:\n",
    "        print(incorrect_index[i])\n",
    "        visualize_edge_weight_adjacency(incorrect_graphs[i])"
   ],
   "outputs": [],
   "execution_count": 40
  }
 ],
 "metadata": {
  "kernelspec": {
   "display_name": "venv",
   "language": "python",
   "name": "python3"
  },
  "language_info": {
   "codemirror_mode": {
    "name": "ipython",
    "version": 3
   },
   "file_extension": ".py",
   "mimetype": "text/x-python",
   "name": "python",
   "nbconvert_exporter": "python",
   "pygments_lexer": "ipython3",
   "version": "3.10.8"
  },
  "orig_nbformat": 4
 },
 "nbformat": 4,
 "nbformat_minor": 2
}
