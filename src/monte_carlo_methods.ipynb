{
 "cells": [
  {
   "metadata": {},
   "cell_type": "raw",
   "source": "",
   "id": "fbc58b766b730e3a"
  },
  {
   "metadata": {
    "ExecuteTime": {
     "end_time": "2025-06-14T14:37:20.128576Z",
     "start_time": "2025-06-14T14:37:20.123526Z"
    }
   },
   "cell_type": "code",
   "source": [
    "import warnings\n",
    "import os\n",
    "\n",
    "os.environ['PYTHONWARNINGS'] = 'ignore'\n",
    "warnings.filterwarnings('ignore')"
   ],
   "id": "b404ae495e0d09c3",
   "outputs": [],
   "execution_count": 1
  },
  {
   "metadata": {},
   "cell_type": "markdown",
   "source": "# Методы Монте Карло",
   "id": "2d34d45b187d6cec"
  },
  {
   "metadata": {},
   "cell_type": "markdown",
   "source": "## Создание модели",
   "id": "d858bba23c4f3a14"
  },
  {
   "cell_type": "code",
   "id": "initial_id",
   "metadata": {
    "collapsed": true,
    "ExecuteTime": {
     "end_time": "2025-06-14T14:37:21.110201Z",
     "start_time": "2025-06-14T14:37:20.135492Z"
    }
   },
   "source": [
    "import torch.nn as nn\n",
    "import torch.nn.functional as F\n",
    "\n",
    "class BayesianTransformerClassifier(nn.Module):\n",
    "    def __init__(self, input_dim, num_classes, n_heads=4, hidden_dim=256, n_layers=2, dropout=0.3):\n",
    "        super().__init__()\n",
    "        self.embedding = nn.Linear(input_dim, hidden_dim)\n",
    "\n",
    "        encoder_layer = nn.TransformerEncoderLayer(\n",
    "            d_model=hidden_dim,\n",
    "            nhead=n_heads,\n",
    "            dim_feedforward=hidden_dim * 2,\n",
    "            dropout=dropout,\n",
    "            activation=\"gelu\",\n",
    "            batch_first=True,\n",
    "        )\n",
    "        self.transformer = nn.TransformerEncoder(encoder_layer, num_layers=n_layers)\n",
    "\n",
    "        self.classifier = nn.Sequential(\n",
    "            nn.Linear(hidden_dim, hidden_dim),\n",
    "            nn.ReLU(),\n",
    "            nn.Dropout(dropout),\n",
    "            nn.Linear(hidden_dim, num_classes)\n",
    "        )\n",
    "\n",
    "    def forward(self, x):\n",
    "        x = self.embedding(x).unsqueeze(1)  # (batch, 1, dim)\n",
    "        x = self.transformer(x).squeeze(1)  # (batch, dim)\n",
    "        return self.classifier(x)"
   ],
   "outputs": [],
   "execution_count": 2
  },
  {
   "metadata": {},
   "cell_type": "markdown",
   "source": "## Загрузка данных",
   "id": "43b4dbc6e5e7031a"
  },
  {
   "metadata": {
    "ExecuteTime": {
     "end_time": "2025-06-14T14:37:21.555698Z",
     "start_time": "2025-06-14T14:37:21.211876Z"
    }
   },
   "cell_type": "code",
   "source": [
    "import pandas as pd\n",
    "embedding_df = pd.read_csv(\"sequence_embeddings.csv\")"
   ],
   "id": "59286fea81d32216",
   "outputs": [],
   "execution_count": 3
  },
  {
   "metadata": {
    "ExecuteTime": {
     "end_time": "2025-06-14T14:37:21.569373Z",
     "start_time": "2025-06-14T14:37:21.565945Z"
    }
   },
   "cell_type": "code",
   "source": [
    "# Словарь соответствий\n",
    "label_mapping = {\n",
    "    'line': 'line/l1',\n",
    "    'l1': 'line/l1',\n",
    "    'gypsy': 'gypsy/copia',\n",
    "    'copia': 'gypsy/copia',\n",
    "    'hat': 'hat/mudr/cacta',\n",
    "    'mudr': 'hat/mudr/cacta',\n",
    "    'cacta': 'hat/mudr/cacta',\n",
    "    'helitron': 'helitron'  # без изменений, но можно оставить для явности\n",
    "}\n",
    "\n",
    "# Применяем замену\n",
    "embedding_df['label'] = embedding_df['label'].map(label_mapping).fillna(embedding_df['label'])"
   ],
   "id": "2b279aecd22988a1",
   "outputs": [],
   "execution_count": 4
  },
  {
   "metadata": {
    "ExecuteTime": {
     "end_time": "2025-06-14T14:37:21.580171Z",
     "start_time": "2025-06-14T14:37:21.577316Z"
    }
   },
   "cell_type": "code",
   "source": [
    "unique_labels = list(set(label_mapping.values()))\n",
    "label2id = {label: idx for idx, label in enumerate(unique_labels)}\n",
    "numeric_labels = [label2id[label] for label in embedding_df[\"label\"]]\n",
    "embedding_df[\"label\"] = numeric_labels"
   ],
   "id": "24438d7b09fb6bee",
   "outputs": [],
   "execution_count": 5
  },
  {
   "metadata": {},
   "cell_type": "markdown",
   "source": "## Обработка и подготовка данных",
   "id": "134c56085cf9bf97"
  },
  {
   "metadata": {
    "ExecuteTime": {
     "end_time": "2025-06-14T14:37:22.094045Z",
     "start_time": "2025-06-14T14:37:21.589659Z"
    }
   },
   "cell_type": "code",
   "source": [
    "import torch\n",
    "import pandas as pd\n",
    "import numpy as np\n",
    "from sklearn.model_selection import train_test_split\n",
    "from sklearn.preprocessing import StandardScaler\n",
    "from torch.utils.data import DataLoader, TensorDataset\n",
    "\n",
    "feature_cols = [c for c in embedding_df.columns if c not in [\"label\", \"organism\"]]\n",
    "X = embedding_df[feature_cols].values\n",
    "y = embedding_df[\"label\"].values\n",
    "\n",
    "# Масштабирование\n",
    "scaler = StandardScaler()\n",
    "X = scaler.fit_transform(X)\n",
    "\n",
    "X_train, X_test, y_train, y_test = train_test_split(\n",
    "    X, y, test_size=0.1765, random_state=42, stratify=y\n",
    ")\n",
    "\n",
    "train_ds = TensorDataset(torch.tensor(X_train, dtype=torch.float32), torch.tensor(y_train, dtype=torch.long))\n",
    "test_ds = TensorDataset(torch.tensor(X_test, dtype=torch.float32), torch.tensor(y_test, dtype=torch.long))\n",
    "\n",
    "\n",
    "train_loader = DataLoader(train_ds, batch_size=32, shuffle=True)\n",
    "test_loader = DataLoader(test_ds, batch_size=32)"
   ],
   "id": "42b9769be55a6971",
   "outputs": [],
   "execution_count": 6
  },
  {
   "metadata": {},
   "cell_type": "markdown",
   "source": "## Обучение модели",
   "id": "3a9fbcd575c79cb2"
  },
  {
   "metadata": {
    "ExecuteTime": {
     "end_time": "2025-06-14T14:37:24.511551Z",
     "start_time": "2025-06-14T14:37:22.105579Z"
    }
   },
   "cell_type": "code",
   "source": [
    "device = torch.device(\"cpu\")\n",
    "model = BayesianTransformerClassifier(input_dim=X.shape[1], num_classes=len(np.unique(y)))\n",
    "model.to(device)\n",
    "\n",
    "criterion = nn.CrossEntropyLoss()\n",
    "optimizer = torch.optim.Adam(model.parameters(), lr=1e-3)\n",
    "model"
   ],
   "id": "9db5f183e235932",
   "outputs": [
    {
     "data": {
      "text/plain": [
       "BayesianTransformerClassifier(\n",
       "  (embedding): Linear(in_features=256, out_features=256, bias=True)\n",
       "  (transformer): TransformerEncoder(\n",
       "    (layers): ModuleList(\n",
       "      (0-1): 2 x TransformerEncoderLayer(\n",
       "        (self_attn): MultiheadAttention(\n",
       "          (out_proj): NonDynamicallyQuantizableLinear(in_features=256, out_features=256, bias=True)\n",
       "        )\n",
       "        (linear1): Linear(in_features=256, out_features=512, bias=True)\n",
       "        (dropout): Dropout(p=0.3, inplace=False)\n",
       "        (linear2): Linear(in_features=512, out_features=256, bias=True)\n",
       "        (norm1): LayerNorm((256,), eps=1e-05, elementwise_affine=True)\n",
       "        (norm2): LayerNorm((256,), eps=1e-05, elementwise_affine=True)\n",
       "        (dropout1): Dropout(p=0.3, inplace=False)\n",
       "        (dropout2): Dropout(p=0.3, inplace=False)\n",
       "      )\n",
       "    )\n",
       "  )\n",
       "  (classifier): Sequential(\n",
       "    (0): Linear(in_features=256, out_features=256, bias=True)\n",
       "    (1): ReLU()\n",
       "    (2): Dropout(p=0.3, inplace=False)\n",
       "    (3): Linear(in_features=256, out_features=4, bias=True)\n",
       "  )\n",
       ")"
      ]
     },
     "execution_count": 7,
     "metadata": {},
     "output_type": "execute_result"
    }
   ],
   "execution_count": 7
  },
  {
   "metadata": {
    "ExecuteTime": {
     "end_time": "2025-06-14T14:38:59.653643Z",
     "start_time": "2025-06-14T14:37:24.587471Z"
    }
   },
   "cell_type": "code",
   "source": [
    "import matplotlib.pyplot as plt\n",
    "\n",
    "n_epochs = 100\n",
    "train_losses = []\n",
    "\n",
    "for epoch in range(n_epochs):\n",
    "    model.train()\n",
    "    total_loss = 0\n",
    "    for xb, yb in train_loader:\n",
    "        xb, yb = xb.to(device), yb.to(device)\n",
    "        optimizer.zero_grad()\n",
    "        preds = model(xb)\n",
    "        loss = criterion(preds, yb)\n",
    "        loss.backward()\n",
    "        optimizer.step()\n",
    "        total_loss += loss.item()\n",
    "    \n",
    "    avg_loss = total_loss / len(train_loader)\n",
    "    train_losses.append(avg_loss)\n",
    "    print(f\"Epoch {epoch+1}, Train Loss: {avg_loss:.4f}\")\n",
    "\n",
    "# Построение графика\n",
    "plt.figure(figsize=(8, 5))\n",
    "plt.plot(range(1, n_epochs + 1), train_losses, marker='o')\n",
    "plt.title(\"Training Loss over Epochs\")\n",
    "plt.xlabel(\"Epoch\")\n",
    "plt.ylabel(\"Loss\")\n",
    "plt.grid(True)\n",
    "plt.tight_layout()\n",
    "plt.show()"
   ],
   "id": "7cce2f98983a4e2f",
   "outputs": [
    {
     "name": "stdout",
     "output_type": "stream",
     "text": [
      "Epoch 1, Train Loss: 0.9598\n",
      "Epoch 2, Train Loss: 0.9118\n",
      "Epoch 3, Train Loss: 0.9030\n",
      "Epoch 4, Train Loss: 0.8904\n",
      "Epoch 5, Train Loss: 0.8815\n",
      "Epoch 6, Train Loss: 0.8722\n",
      "Epoch 7, Train Loss: 0.8780\n",
      "Epoch 8, Train Loss: 0.8679\n",
      "Epoch 9, Train Loss: 0.8680\n",
      "Epoch 10, Train Loss: 0.8682\n",
      "Epoch 11, Train Loss: 0.8554\n",
      "Epoch 12, Train Loss: 0.8592\n",
      "Epoch 13, Train Loss: 0.8490\n",
      "Epoch 14, Train Loss: 0.8488\n",
      "Epoch 15, Train Loss: 0.8506\n",
      "Epoch 16, Train Loss: 0.8593\n",
      "Epoch 17, Train Loss: 0.8443\n",
      "Epoch 18, Train Loss: 0.8382\n",
      "Epoch 19, Train Loss: 0.8426\n",
      "Epoch 20, Train Loss: 0.8305\n",
      "Epoch 21, Train Loss: 0.8665\n",
      "Epoch 22, Train Loss: 0.8277\n",
      "Epoch 23, Train Loss: 0.8459\n",
      "Epoch 24, Train Loss: 0.8327\n",
      "Epoch 25, Train Loss: 0.8265\n",
      "Epoch 26, Train Loss: 0.8256\n",
      "Epoch 27, Train Loss: 0.8404\n",
      "Epoch 28, Train Loss: 0.8333\n",
      "Epoch 29, Train Loss: 0.8275\n",
      "Epoch 30, Train Loss: 0.8280\n",
      "Epoch 31, Train Loss: 0.8145\n",
      "Epoch 32, Train Loss: 0.8250\n",
      "Epoch 33, Train Loss: 0.8030\n",
      "Epoch 34, Train Loss: 0.7931\n",
      "Epoch 35, Train Loss: 0.8223\n",
      "Epoch 36, Train Loss: 0.8234\n",
      "Epoch 37, Train Loss: 0.8007\n",
      "Epoch 38, Train Loss: 0.8088\n",
      "Epoch 39, Train Loss: 0.8068\n",
      "Epoch 40, Train Loss: 0.7949\n",
      "Epoch 41, Train Loss: 0.8079\n",
      "Epoch 42, Train Loss: 0.8072\n",
      "Epoch 43, Train Loss: 0.7941\n",
      "Epoch 44, Train Loss: 0.8046\n",
      "Epoch 45, Train Loss: 0.7956\n",
      "Epoch 46, Train Loss: 0.7937\n",
      "Epoch 47, Train Loss: 0.7994\n",
      "Epoch 48, Train Loss: 0.7962\n",
      "Epoch 49, Train Loss: 0.7845\n",
      "Epoch 50, Train Loss: 0.7900\n",
      "Epoch 51, Train Loss: 0.7878\n",
      "Epoch 52, Train Loss: 0.7786\n",
      "Epoch 53, Train Loss: 0.7886\n",
      "Epoch 54, Train Loss: 0.7963\n",
      "Epoch 55, Train Loss: 0.7906\n",
      "Epoch 56, Train Loss: 0.7833\n",
      "Epoch 57, Train Loss: 0.7821\n",
      "Epoch 58, Train Loss: 0.7761\n",
      "Epoch 59, Train Loss: 0.7792\n",
      "Epoch 60, Train Loss: 0.7649\n",
      "Epoch 61, Train Loss: 0.7705\n",
      "Epoch 62, Train Loss: 0.7761\n",
      "Epoch 63, Train Loss: 0.7759\n",
      "Epoch 64, Train Loss: 0.7762\n",
      "Epoch 65, Train Loss: 0.7676\n",
      "Epoch 66, Train Loss: 0.7611\n",
      "Epoch 67, Train Loss: 0.7784\n",
      "Epoch 68, Train Loss: 0.7670\n",
      "Epoch 69, Train Loss: 0.7663\n",
      "Epoch 70, Train Loss: 0.7715\n",
      "Epoch 71, Train Loss: 0.7698\n",
      "Epoch 72, Train Loss: 0.7539\n",
      "Epoch 73, Train Loss: 0.7578\n",
      "Epoch 74, Train Loss: 0.7955\n",
      "Epoch 75, Train Loss: 0.7715\n",
      "Epoch 76, Train Loss: 0.7708\n",
      "Epoch 77, Train Loss: 0.7588\n",
      "Epoch 78, Train Loss: 0.7556\n",
      "Epoch 79, Train Loss: 0.7638\n",
      "Epoch 80, Train Loss: 0.7595\n",
      "Epoch 81, Train Loss: 0.7618\n",
      "Epoch 82, Train Loss: 0.7583\n",
      "Epoch 83, Train Loss: 0.7618\n",
      "Epoch 84, Train Loss: 0.7561\n",
      "Epoch 85, Train Loss: 0.7568\n",
      "Epoch 86, Train Loss: 0.7730\n",
      "Epoch 87, Train Loss: 0.7650\n",
      "Epoch 88, Train Loss: 0.7491\n",
      "Epoch 89, Train Loss: 0.7641\n",
      "Epoch 90, Train Loss: 0.7631\n",
      "Epoch 91, Train Loss: 0.7560\n",
      "Epoch 92, Train Loss: 0.7592\n",
      "Epoch 93, Train Loss: 0.7584\n",
      "Epoch 94, Train Loss: 0.7513\n",
      "Epoch 95, Train Loss: 0.7448\n",
      "Epoch 96, Train Loss: 0.7512\n",
      "Epoch 97, Train Loss: 0.7542\n",
      "Epoch 98, Train Loss: 0.7560\n",
      "Epoch 99, Train Loss: 0.7485\n",
      "Epoch 100, Train Loss: 0.7404\n"
     ]
    },
    {
     "data": {
      "text/plain": [
       "<Figure size 800x500 with 1 Axes>"
      ],
      "image/png": "[encoded data removed]"
     },
     "metadata": {},
     "output_type": "display_data"
    }
   ],
   "execution_count": 8
  },
  {
   "metadata": {},
   "cell_type": "markdown",
   "source": "# Метрики до применения методов Монте Карло",
   "id": "9de2de7409c8360e"
  },
  {
   "metadata": {
    "ExecuteTime": {
     "end_time": "2025-06-14T14:38:59.889673Z",
     "start_time": "2025-06-14T14:38:59.703863Z"
    }
   },
   "cell_type": "code",
   "source": [
    "from sklearn.metrics import accuracy_score, classification_report\n",
    "\n",
    "model.eval()\n",
    "all_preds = []\n",
    "all_true = []\n",
    "\n",
    "with torch.no_grad():\n",
    "    for xb, yb in test_loader:\n",
    "        xb = xb.to(device)\n",
    "        yb = yb.numpy()\n",
    "\n",
    "        outputs = model(xb)\n",
    "        pred_labels = outputs.argmax(dim=1).cpu().numpy()\n",
    "\n",
    "        all_preds.extend(pred_labels)\n",
    "        all_true.extend(yb)\n",
    "\n",
    "acc = accuracy_score(all_true, all_preds)\n",
    "report = classification_report(all_true, all_preds)\n",
    "\n",
    "print(f\"Test Accuracy: {acc:.4f}\")\n",
    "print(\"Classification Report:\")\n",
    "print(report)"
   ],
   "id": "e8c33f3250ed97c7",
   "outputs": [
    {
     "name": "stdout",
     "output_type": "stream",
     "text": [
      "Test Accuracy: 0.6610\n",
      "Classification Report:\n",
      "              precision    recall  f1-score   support\n",
      "\n",
      "           0       0.63      0.60      0.61       191\n",
      "           1       0.00      0.00      0.00         8\n",
      "           2       0.71      0.78      0.74       294\n",
      "           3       0.29      0.21      0.24        38\n",
      "\n",
      "    accuracy                           0.66       531\n",
      "   macro avg       0.41      0.40      0.40       531\n",
      "weighted avg       0.64      0.66      0.65       531\n",
      "\n"
     ]
    }
   ],
   "execution_count": 9
  },
  {
   "metadata": {},
   "cell_type": "markdown",
   "source": "# Байесовская оптимизация гиперпараметров",
   "id": "85ac7d042ea5f032"
  },
  {
   "metadata": {
    "ExecuteTime": {
     "end_time": "2025-06-14T20:30:04.856809Z",
     "start_time": "2025-06-14T20:30:04.681322Z"
    }
   },
   "cell_type": "code",
   "source": [
    "import optuna\n",
    "import torch\n",
    "from torch.utils.data import DataLoader\n",
    "from sklearn.metrics import accuracy_score\n",
    "\n",
    "def objective(trial):\n",
    "    # Гиперпараметры, которые будут подбираться\n",
    "    hidden_dim = trial.suggest_categorical('hidden_dim', [128, 256, 512])\n",
    "    n_heads = trial.suggest_categorical('n_heads', [2, 4, 8])\n",
    "    n_layers = trial.suggest_int('n_layers', 1, 4)\n",
    "    dropout = trial.suggest_float('dropout', 0.1, 0.5)\n",
    "    lr = trial.suggest_float('lr', 1e-5, 1e-3, log=True)\n",
    "\n",
    "    model = BayesianTransformerClassifier(\n",
    "        input_dim=256,\n",
    "        num_classes=4,\n",
    "        n_heads=n_heads,\n",
    "        hidden_dim=hidden_dim,\n",
    "        n_layers=n_layers,\n",
    "        dropout=dropout\n",
    "    ).to(device)\n",
    "\n",
    "    optimizer = torch.optim.Adam(model.parameters(), lr=lr)\n",
    "    criterion = torch.nn.CrossEntropyLoss()\n",
    "\n",
    "    model.train()\n",
    "    for epoch in range(5):\n",
    "        for xb, yb in train_loader:\n",
    "            xb, yb = xb.to(device), yb.to(device)\n",
    "            optimizer.zero_grad()\n",
    "            preds = model(xb)\n",
    "            loss = criterion(preds, yb)\n",
    "            loss.backward()\n",
    "            optimizer.step()\n",
    "\n",
    "    # Валидация\n",
    "    model.eval()\n",
    "    all_preds = []\n",
    "    all_true = []\n",
    "    with torch.no_grad():\n",
    "        for xb, yb in train_loader:\n",
    "            xb = xb.to(device)\n",
    "            preds = model(xb)\n",
    "            preds = preds.argmax(dim=1).cpu()\n",
    "            all_preds.extend(preds)\n",
    "            all_true.extend(yb)\n",
    "\n",
    "    acc = accuracy_score(all_true, all_preds)\n",
    "    return acc"
   ],
   "id": "c6d2c4e3445e242a",
   "outputs": [],
   "execution_count": 18
  },
  {
   "metadata": {
    "ExecuteTime": {
     "end_time": "2025-06-14T20:34:58.975120Z",
     "start_time": "2025-06-14T20:30:07.295049Z"
    }
   },
   "cell_type": "code",
   "outputs": [
    {
     "name": "stderr",
     "output_type": "stream",
     "text": [
      "[I 2025-06-14 22:30:07,310] A new study created in memory with name: no-name-856962d1-c42b-42d4-82c7-960f938e4d50\n",
      "[I 2025-06-14 22:30:12,108] Trial 0 finished with value: 0.6674747474747474 and parameters: {'hidden_dim': 256, 'n_heads': 8, 'n_layers': 1, 'dropout': 0.2312126734624798, 'lr': 0.0001561461091174118}. Best is trial 0 with value: 0.6674747474747474.\n",
      "[I 2025-06-14 22:30:30,316] Trial 1 finished with value: 0.6816161616161616 and parameters: {'hidden_dim': 512, 'n_heads': 4, 'n_layers': 4, 'dropout': 0.2853559825417515, 'lr': 4.063476181587253e-05}. Best is trial 1 with value: 0.6816161616161616.\n",
      "[I 2025-06-14 22:30:41,688] Trial 2 finished with value: 0.4997979797979798 and parameters: {'hidden_dim': 512, 'n_heads': 2, 'n_layers': 3, 'dropout': 0.1246940059588349, 'lr': 0.0009538894941356564}. Best is trial 1 with value: 0.6816161616161616.\n",
      "[I 2025-06-14 22:30:48,367] Trial 3 finished with value: 0.6262626262626263 and parameters: {'hidden_dim': 256, 'n_heads': 4, 'n_layers': 2, 'dropout': 0.45159686148536154, 'lr': 5.4610879827235136e-05}. Best is trial 1 with value: 0.6816161616161616.\n",
      "[I 2025-06-14 22:30:53,962] Trial 4 finished with value: 0.6602020202020202 and parameters: {'hidden_dim': 128, 'n_heads': 2, 'n_layers': 4, 'dropout': 0.29364970102005, 'lr': 0.00021621359530078998}. Best is trial 1 with value: 0.6816161616161616.\n",
      "[I 2025-06-14 22:30:57,705] Trial 5 finished with value: 0.6101010101010101 and parameters: {'hidden_dim': 128, 'n_heads': 8, 'n_layers': 3, 'dropout': 0.10168065762425665, 'lr': 1.907535065587649e-05}. Best is trial 1 with value: 0.6816161616161616.\n",
      "[I 2025-06-14 22:31:01,936] Trial 6 finished with value: 0.6561616161616162 and parameters: {'hidden_dim': 128, 'n_heads': 8, 'n_layers': 3, 'dropout': 0.47793914275633825, 'lr': 0.00030446668156822984}. Best is trial 1 with value: 0.6816161616161616.\n",
      "[I 2025-06-14 22:31:11,954] Trial 7 finished with value: 0.6852525252525252 and parameters: {'hidden_dim': 512, 'n_heads': 2, 'n_layers': 2, 'dropout': 0.30111300692953163, 'lr': 6.824745304072277e-05}. Best is trial 7 with value: 0.6852525252525252.\n",
      "[I 2025-06-14 22:31:28,924] Trial 8 finished with value: 0.6472727272727272 and parameters: {'hidden_dim': 512, 'n_heads': 8, 'n_layers': 4, 'dropout': 0.4425105485980279, 'lr': 0.00025325244563237847}. Best is trial 7 with value: 0.6852525252525252.\n",
      "[I 2025-06-14 22:31:38,896] Trial 9 finished with value: 0.6529292929292929 and parameters: {'hidden_dim': 256, 'n_heads': 4, 'n_layers': 4, 'dropout': 0.4228634798754505, 'lr': 0.00015976694276330678}. Best is trial 7 with value: 0.6852525252525252.\n",
      "[I 2025-06-14 22:31:44,711] Trial 10 finished with value: 0.6177777777777778 and parameters: {'hidden_dim': 512, 'n_heads': 2, 'n_layers': 1, 'dropout': 0.36986934738386995, 'lr': 1.0573201838666944e-05}. Best is trial 7 with value: 0.6852525252525252.\n",
      "[I 2025-06-14 22:31:52,853] Trial 11 finished with value: 0.677979797979798 and parameters: {'hidden_dim': 512, 'n_heads': 4, 'n_layers': 2, 'dropout': 0.26473586702961277, 'lr': 4.794880830378844e-05}. Best is trial 7 with value: 0.6852525252525252.\n",
      "[I 2025-06-14 22:32:03,453] Trial 12 finished with value: 0.6658585858585858 and parameters: {'hidden_dim': 512, 'n_heads': 4, 'n_layers': 2, 'dropout': 0.3432670522524234, 'lr': 5.2104628964038046e-05}. Best is trial 7 with value: 0.6852525252525252.\n",
      "[I 2025-06-14 22:32:12,537] Trial 13 finished with value: 0.6666666666666666 and parameters: {'hidden_dim': 512, 'n_heads': 2, 'n_layers': 2, 'dropout': 0.2015714159812484, 'lr': 2.658648131649422e-05}. Best is trial 7 with value: 0.6852525252525252.\n",
      "[I 2025-06-14 22:32:28,034] Trial 14 finished with value: 0.6703030303030303 and parameters: {'hidden_dim': 512, 'n_heads': 2, 'n_layers': 3, 'dropout': 0.33672888229966447, 'lr': 8.931603903983362e-05}. Best is trial 7 with value: 0.6852525252525252.\n",
      "[I 2025-06-14 22:32:33,707] Trial 15 finished with value: 0.6666666666666666 and parameters: {'hidden_dim': 512, 'n_heads': 4, 'n_layers': 1, 'dropout': 0.1877768937768644, 'lr': 3.137753260786369e-05}. Best is trial 7 with value: 0.6852525252525252.\n",
      "[I 2025-06-14 22:32:51,683] Trial 16 finished with value: 0.6597979797979798 and parameters: {'hidden_dim': 512, 'n_heads': 4, 'n_layers': 4, 'dropout': 0.38334643907596644, 'lr': 8.908926906727787e-05}. Best is trial 7 with value: 0.6852525252525252.\n",
      "[I 2025-06-14 22:33:09,725] Trial 17 finished with value: 0.6290909090909091 and parameters: {'hidden_dim': 512, 'n_heads': 2, 'n_layers': 3, 'dropout': 0.28760508268442597, 'lr': 1.2383650129254156e-05}. Best is trial 7 with value: 0.6852525252525252.\n",
      "[I 2025-06-14 22:33:12,511] Trial 18 finished with value: 0.6602020202020202 and parameters: {'hidden_dim': 128, 'n_heads': 4, 'n_layers': 2, 'dropout': 0.23740580113927523, 'lr': 0.0004664794291839828}. Best is trial 7 with value: 0.6852525252525252.\n",
      "[I 2025-06-14 22:33:15,815] Trial 19 finished with value: 0.64 and parameters: {'hidden_dim': 256, 'n_heads': 2, 'n_layers': 1, 'dropout': 0.1654044851896712, 'lr': 3.3466555987988506e-05}. Best is trial 7 with value: 0.6852525252525252.\n",
      "[I 2025-06-14 22:33:33,676] Trial 20 finished with value: 0.6347474747474747 and parameters: {'hidden_dim': 512, 'n_heads': 4, 'n_layers': 4, 'dropout': 0.32633474470754087, 'lr': 1.8241354959951674e-05}. Best is trial 7 with value: 0.6852525252525252.\n",
      "[I 2025-06-14 22:33:43,208] Trial 21 finished with value: 0.6816161616161616 and parameters: {'hidden_dim': 512, 'n_heads': 4, 'n_layers': 2, 'dropout': 0.2614227450976853, 'lr': 5.512715870655745e-05}. Best is trial 7 with value: 0.6852525252525252.\n",
      "[I 2025-06-14 22:33:55,456] Trial 22 finished with value: 0.6751515151515152 and parameters: {'hidden_dim': 512, 'n_heads': 4, 'n_layers': 2, 'dropout': 0.2614966061839607, 'lr': 6.819857429629953e-05}. Best is trial 7 with value: 0.6852525252525252.\n",
      "[I 2025-06-14 22:34:05,453] Trial 23 finished with value: 0.6771717171717172 and parameters: {'hidden_dim': 512, 'n_heads': 4, 'n_layers': 2, 'dropout': 0.3023162915188751, 'lr': 0.0001302335360934781}. Best is trial 7 with value: 0.6852525252525252.\n",
      "[I 2025-06-14 22:34:19,319] Trial 24 finished with value: 0.6735353535353535 and parameters: {'hidden_dim': 512, 'n_heads': 4, 'n_layers': 3, 'dropout': 0.24188781236308504, 'lr': 3.9899754004764406e-05}. Best is trial 7 with value: 0.6852525252525252.\n",
      "[I 2025-06-14 22:34:28,301] Trial 25 finished with value: 0.6553535353535354 and parameters: {'hidden_dim': 512, 'n_heads': 2, 'n_layers': 2, 'dropout': 0.3858867487852227, 'lr': 8.33990294177538e-05}. Best is trial 7 with value: 0.6852525252525252.\n",
      "[I 2025-06-14 22:34:33,696] Trial 26 finished with value: 0.6464646464646465 and parameters: {'hidden_dim': 512, 'n_heads': 4, 'n_layers': 1, 'dropout': 0.20727090951806437, 'lr': 2.2362868055605292e-05}. Best is trial 7 with value: 0.6852525252525252.\n",
      "[I 2025-06-14 22:34:46,275] Trial 27 finished with value: 0.6856565656565656 and parameters: {'hidden_dim': 512, 'n_heads': 4, 'n_layers': 3, 'dropout': 0.3176009833087946, 'lr': 6.692421872940222e-05}. Best is trial 27 with value: 0.6856565656565656.\n",
      "[I 2025-06-14 22:34:55,334] Trial 28 finished with value: 0.6666666666666666 and parameters: {'hidden_dim': 256, 'n_heads': 8, 'n_layers': 4, 'dropout': 0.3191719844411366, 'lr': 0.00011186284869499019}. Best is trial 27 with value: 0.6856565656565656.\n",
      "[I 2025-06-14 22:34:58,970] Trial 29 finished with value: 0.6597979797979798 and parameters: {'hidden_dim': 128, 'n_heads': 2, 'n_layers': 3, 'dropout': 0.3604735396358724, 'lr': 0.00016202719525617605}. Best is trial 27 with value: 0.6856565656565656.\n"
     ]
    },
    {
     "name": "stdout",
     "output_type": "stream",
     "text": [
      "Точность: 0.6857\n",
      "Лучшие гиперпараметры: {'hidden_dim': 512, 'n_heads': 4, 'n_layers': 3, 'dropout': 0.3176009833087946, 'lr': 6.692421872940222e-05}\n"
     ]
    }
   ],
   "execution_count": 19,
   "source": [
    "study = optuna.create_study(direction='maximize')  # maximize accuracy\n",
    "study.optimize(objective, n_trials=30)  # 30 проб\n",
    "\n",
    "trial = study.best_trial\n",
    "print(f\"Точность: {trial.value:.4f}\")\n",
    "print(\"Лучшие гиперпараметры:\", trial.params)"
   ],
   "id": "eb01a765a15d60b9"
  },
  {
   "metadata": {
    "ExecuteTime": {
     "end_time": "2025-06-14T20:43:40.061301Z",
     "start_time": "2025-06-14T20:43:40.027329Z"
    }
   },
   "cell_type": "code",
   "source": [
    "best_params = study.best_trial.params\n",
    "model = BayesianTransformerClassifier(\n",
    "    input_dim=256,\n",
    "    num_classes=4,\n",
    "    n_heads=best_params['n_heads'],\n",
    "    hidden_dim=best_params['hidden_dim'],\n",
    "    n_layers=best_params['n_layers'],\n",
    "    dropout=best_params['dropout']\n",
    ").to(device)\n",
    "\n",
    "optimizer = torch.optim.Adam(model.parameters(), lr=best_params['lr'])\n",
    "criterion = torch.nn.CrossEntropyLoss()"
   ],
   "id": "38a5f5cd4e4fbf8e",
   "outputs": [],
   "execution_count": 23
  },
  {
   "metadata": {
    "ExecuteTime": {
     "end_time": "2025-06-14T20:45:36.229748Z",
     "start_time": "2025-06-14T20:43:41.831968Z"
    }
   },
   "cell_type": "code",
   "source": [
    "import matplotlib.pyplot as plt\n",
    "\n",
    "n_epochs = 50\n",
    "train_losses = []\n",
    "\n",
    "for epoch in range(n_epochs):\n",
    "    model.train()\n",
    "    total_loss = 0\n",
    "    for xb, yb in train_loader:\n",
    "        xb, yb = xb.to(device), yb.to(device)\n",
    "        optimizer.zero_grad()\n",
    "        preds = model(xb)\n",
    "        loss = criterion(preds, yb)\n",
    "        loss.backward()\n",
    "        optimizer.step()\n",
    "        total_loss += loss.item()\n",
    "    \n",
    "    avg_loss = total_loss / len(train_loader)\n",
    "    train_losses.append(avg_loss)\n",
    "    print(f\"Epoch {epoch+1}, Train Loss: {avg_loss:.4f}\")\n",
    "\n",
    "# Построение графика\n",
    "plt.figure(figsize=(8, 5))\n",
    "plt.plot(range(1, n_epochs + 1), train_losses, marker='o')\n",
    "plt.title(\"Training Loss over Epochs\")\n",
    "plt.xlabel(\"Epoch\")\n",
    "plt.ylabel(\"Loss\")\n",
    "plt.grid(True)\n",
    "plt.tight_layout()\n",
    "plt.show()"
   ],
   "id": "dcd891de56531a75",
   "outputs": [
    {
     "name": "stdout",
     "output_type": "stream",
     "text": [
      "Epoch 1, Train Loss: 0.9889\n",
      "Epoch 2, Train Loss: 0.8866\n",
      "Epoch 3, Train Loss: 0.8522\n",
      "Epoch 4, Train Loss: 0.8381\n",
      "Epoch 5, Train Loss: 0.8222\n",
      "Epoch 6, Train Loss: 0.7997\n",
      "Epoch 7, Train Loss: 0.7872\n",
      "Epoch 8, Train Loss: 0.7734\n",
      "Epoch 9, Train Loss: 0.7726\n",
      "Epoch 10, Train Loss: 0.7672\n",
      "Epoch 11, Train Loss: 0.7636\n",
      "Epoch 12, Train Loss: 0.7453\n",
      "Epoch 13, Train Loss: 0.7374\n",
      "Epoch 14, Train Loss: 0.7318\n",
      "Epoch 15, Train Loss: 0.7194\n",
      "Epoch 16, Train Loss: 0.7060\n",
      "Epoch 17, Train Loss: 0.7103\n",
      "Epoch 18, Train Loss: 0.6909\n",
      "Epoch 19, Train Loss: 0.7090\n",
      "Epoch 20, Train Loss: 0.6828\n",
      "Epoch 21, Train Loss: 0.6701\n",
      "Epoch 22, Train Loss: 0.6711\n",
      "Epoch 23, Train Loss: 0.6584\n",
      "Epoch 24, Train Loss: 0.6411\n",
      "Epoch 25, Train Loss: 0.6496\n",
      "Epoch 26, Train Loss: 0.6290\n",
      "Epoch 27, Train Loss: 0.6281\n",
      "Epoch 28, Train Loss: 0.6178\n",
      "Epoch 29, Train Loss: 0.6060\n",
      "Epoch 30, Train Loss: 0.6068\n",
      "Epoch 31, Train Loss: 0.5868\n",
      "Epoch 32, Train Loss: 0.5707\n",
      "Epoch 33, Train Loss: 0.5680\n",
      "Epoch 34, Train Loss: 0.5691\n",
      "Epoch 35, Train Loss: 0.5377\n",
      "Epoch 36, Train Loss: 0.5285\n",
      "Epoch 37, Train Loss: 0.5293\n",
      "Epoch 38, Train Loss: 0.5234\n",
      "Epoch 39, Train Loss: 0.5026\n",
      "Epoch 40, Train Loss: 0.4887\n",
      "Epoch 41, Train Loss: 0.4792\n",
      "Epoch 42, Train Loss: 0.4614\n",
      "Epoch 43, Train Loss: 0.4595\n",
      "Epoch 44, Train Loss: 0.4540\n",
      "Epoch 45, Train Loss: 0.4481\n",
      "Epoch 46, Train Loss: 0.4436\n",
      "Epoch 47, Train Loss: 0.4166\n",
      "Epoch 48, Train Loss: 0.4185\n",
      "Epoch 49, Train Loss: 0.3962\n",
      "Epoch 50, Train Loss: 0.3872\n"
     ]
    },
    {
     "data": {
      "text/plain": [
       "<Figure size 800x500 with 1 Axes>"
      ],
      "image/png": "[encoded data removed]"
     },
     "metadata": {},
     "output_type": "display_data"
    }
   ],
   "execution_count": 24
  },
  {
   "metadata": {
    "ExecuteTime": {
     "end_time": "2025-06-14T20:50:02.746839Z",
     "start_time": "2025-06-14T20:50:01.204539Z"
    }
   },
   "cell_type": "code",
   "source": [
    "from sklearn.metrics import accuracy_score, classification_report\n",
    "\n",
    "model.eval()\n",
    "all_preds = []\n",
    "all_true = []\n",
    "\n",
    "with torch.no_grad():\n",
    "    for xb, yb in test_loader:\n",
    "        xb = xb.to(device)\n",
    "        yb = yb.numpy()\n",
    "\n",
    "        outputs = model(xb)\n",
    "        pred_labels = outputs.argmax(dim=1).cpu().numpy()\n",
    "\n",
    "        all_preds.extend(pred_labels)\n",
    "        all_true.extend(yb)\n",
    "\n",
    "acc = accuracy_score(all_true, all_preds)\n",
    "report = classification_report(all_true, all_preds)\n",
    "\n",
    "print(f\"Test Accuracy: {acc:.4f}\")\n",
    "print(\"Classification Report:\")\n",
    "print(report)"
   ],
   "id": "f23faff87944dea4",
   "outputs": [
    {
     "name": "stdout",
     "output_type": "stream",
     "text": [
      "Test Accuracy: 0.6648\n",
      "Classification Report:\n",
      "              precision    recall  f1-score   support\n",
      "\n",
      "           0       0.64      0.58      0.61       191\n",
      "           1       0.50      0.38      0.43         8\n",
      "           2       0.70      0.79      0.74       294\n",
      "           3       0.33      0.16      0.21        38\n",
      "\n",
      "    accuracy                           0.66       531\n",
      "   macro avg       0.54      0.48      0.50       531\n",
      "weighted avg       0.65      0.66      0.65       531\n",
      "\n"
     ]
    }
   ],
   "execution_count": 25
  },
  {
   "metadata": {},
   "cell_type": "markdown",
   "source": "# Семплирование для оценки неопределенности предсказания ",
   "id": "b6e0d072aef39067"
  },
  {
   "metadata": {
    "ExecuteTime": {
     "end_time": "2025-06-14T20:50:24.008500Z",
     "start_time": "2025-06-14T20:50:17.930114Z"
    }
   },
   "cell_type": "code",
   "source": [
    "import torch\n",
    "import numpy as np\n",
    "from sklearn.metrics import accuracy_score\n",
    "import matplotlib.pyplot as plt\n",
    "\n",
    "def monte_carlo_sampling(model, dataloader, n_samples=30):\n",
    "    model.train()  # включаем drop out\n",
    "    \n",
    "    all_sampled_preds = []\n",
    "\n",
    "    for _ in range(n_samples):\n",
    "        sampled_preds = []\n",
    "        with torch.no_grad():\n",
    "            for xb, _ in dataloader:\n",
    "                xb = xb.to(device)\n",
    "                outputs = model(xb)\n",
    "                probs = torch.softmax(outputs, dim=1)\n",
    "                sampled_preds.append(probs.cpu().numpy())\n",
    "        all_sampled_preds.append(np.concatenate(sampled_preds, axis=0))\n",
    "\n",
    "    all_sampled_preds = np.stack(all_sampled_preds, axis=0)  # [n_samples, N, num_classes]\n",
    "    return all_sampled_preds\n",
    "\n",
    "# Применим MC sampling\n",
    "n_samples = 30\n",
    "all_preds_mc = monte_carlo_sampling(model, test_loader, n_samples)\n",
    "\n",
    "# Вычисляем средние вероятности и энтропию\n",
    "mean_probs = np.mean(all_preds_mc, axis=0)  # [N, num_classes]\n",
    "pred_labels = mean_probs.argmax(axis=1)\n",
    "\n",
    "# Оценка неопределенности — дисперсия по классам или энтропия\n",
    "entropy = -np.sum(mean_probs * np.log(mean_probs + 1e-8), axis=1)  # [N]\n",
    "uncertainty = entropy  # можно также использовать np.var(all_preds_mc, axis=0) для дисперсии\n",
    "\n",
    "# Сравнение с истинными значениями\n",
    "all_true = []\n",
    "for _, yb in test_loader:\n",
    "    all_true.extend(yb.numpy())\n",
    "\n",
    "acc = accuracy_score(all_true, pred_labels)\n",
    "print(f\"MC Точность: {acc:.4f}\")\n",
    "\n",
    "# распределение неопределенности\n",
    "plt.figure(figsize=(8, 5))\n",
    "plt.hist(uncertainty, bins=50, color='gray')\n",
    "plt.title(\"Распределение неопределенности\")\n",
    "plt.xlabel(\"Энтропия Шеннона (несколько модель уверена в предсказаниях\")\n",
    "plt.ylabel(\"Число MC прогонов\")\n",
    "plt.grid(True)\n",
    "plt.tight_layout()\n",
    "plt.show()"
   ],
   "id": "8f0645d6400b2bc",
   "outputs": [
    {
     "name": "stdout",
     "output_type": "stream",
     "text": [
      "MC Точность: 0.6667\n"
     ]
    },
    {
     "data": {
      "text/plain": [
       "<Figure size 800x500 with 1 Axes>"
      ],
      "image/png": "[encoded data removed]"
     },
     "metadata": {},
     "output_type": "display_data"
    }
   ],
   "execution_count": 26
  },
  {
   "metadata": {
    "ExecuteTime": {
     "end_time": "2025-06-14T20:50:43.241273Z",
     "start_time": "2025-06-14T20:50:38.983162Z"
    }
   },
   "cell_type": "code",
   "source": [
    "def mc_predict(model, xb, num_samples=20):\n",
    "    model.train()  # включаем dropout\n",
    "    preds = torch.stack([F.softmax(model(xb), dim=1) for _ in range(num_samples)])\n",
    "    return preds.mean(dim=0), preds.std(dim=0)\n",
    "\n",
    "from sklearn.metrics import accuracy_score\n",
    "\n",
    "model.eval()\n",
    "all_preds = []\n",
    "all_true = []\n",
    "all_uncertainty = []\n",
    "\n",
    "with torch.no_grad():\n",
    "    for xb, yb in test_loader:\n",
    "        xb = xb.to(device)\n",
    "        yb = yb.numpy()\n",
    "        mean_probs, std_probs = mc_predict(model, xb)\n",
    "        pred_labels = mean_probs.argmax(dim=1).cpu().numpy()\n",
    "        uncertainty = std_probs.mean(dim=1).cpu().numpy()\n",
    "\n",
    "        all_preds.extend(pred_labels)\n",
    "        all_true.extend(yb)\n",
    "        all_uncertainty.extend(uncertainty)\n",
    "\n",
    "acc = accuracy_score(all_true, all_preds)\n",
    "print(f\"Validation Accuracy: {acc:.4f}\")"
   ],
   "id": "7571add8bbd15828",
   "outputs": [
    {
     "name": "stdout",
     "output_type": "stream",
     "text": [
      "Validation Accuracy: 0.6573\n"
     ]
    }
   ],
   "execution_count": 27
  },
  {
   "metadata": {},
   "cell_type": "markdown",
   "source": "# Монте-Карло интегрирование для оценки метрик + доверительные интервалы",
   "id": "ecffe27af195ce16"
  },
  {
   "metadata": {
    "ExecuteTime": {
     "end_time": "2025-06-14T20:50:46.003644Z",
     "start_time": "2025-06-14T20:50:45.994377Z"
    }
   },
   "cell_type": "code",
   "source": [
    "import torch\n",
    "import numpy as np\n",
    "from sklearn.metrics import accuracy_score, f1_score, precision_score\n",
    "\n",
    "def mc_metrics_with_ci(model, dataloader, n_samples=30, ci_level=0.95):\n",
    "    from scipy.stats import norm\n",
    "    z = norm.ppf(1 - (1 - ci_level) / 2)  # 95%\n",
    "\n",
    "    model.train()\n",
    "\n",
    "    all_metrics = {\n",
    "        'accuracy': [],\n",
    "        'f1': [],\n",
    "        'precision': []\n",
    "    }\n",
    "\n",
    "    for _ in range(n_samples):\n",
    "        all_preds = []\n",
    "        all_true = []\n",
    "        all_probs = []\n",
    "\n",
    "        with torch.no_grad():\n",
    "            for xb, yb in dataloader:\n",
    "                xb = xb.to(device)\n",
    "                outputs = model(xb)\n",
    "                probs = torch.softmax(outputs, dim=1).cpu().numpy()\n",
    "\n",
    "                preds = probs.argmax(axis=1)\n",
    "                all_preds.extend(preds)\n",
    "                all_true.extend(yb.numpy())\n",
    "                all_probs.extend(probs[:, 1])\n",
    "\n",
    "        acc = accuracy_score(all_true, all_preds)\n",
    "        f1 = f1_score(all_true, all_preds, average='weighted')\n",
    "\n",
    "        prec = precision_score(all_true, all_preds, average='weighted')\n",
    "\n",
    "        all_metrics['accuracy'].append(acc)\n",
    "        all_metrics['f1'].append(f1)\n",
    "        all_metrics['precision'].append(prec)\n",
    "\n",
    "    results = {}\n",
    "    for key, values in all_metrics.items():\n",
    "        values = np.array(values)\n",
    "        mean = np.mean(values)\n",
    "        std = np.std(values)\n",
    "        ci = z * std / np.sqrt(n_samples)\n",
    "        results[key] = {\n",
    "            'mean': mean,\n",
    "            'std': std,\n",
    "            'ci_lower': mean - ci,\n",
    "            'ci_upper': mean + ci\n",
    "        }\n",
    "\n",
    "    return results"
   ],
   "id": "61e1d4d3d1d47456",
   "outputs": [],
   "execution_count": 28
  },
  {
   "metadata": {
    "ExecuteTime": {
     "end_time": "2025-06-14T20:50:53.546437Z",
     "start_time": "2025-06-14T20:50:48.475608Z"
    }
   },
   "cell_type": "code",
   "source": [
    "results = mc_metrics_with_ci(model, test_loader, n_samples=30)\n",
    "\n",
    "for metric, stats in results.items():\n",
    "    print(f\"{metric.capitalize()}: {stats['mean']:.4f} ± {stats['std']:.4f}  \"\n",
    "          f\"(95% CI: {stats['ci_lower']:.4f} – {stats['ci_upper']:.4f})\")"
   ],
   "id": "1e92a8b464704fa7",
   "outputs": [
    {
     "name": "stdout",
     "output_type": "stream",
     "text": [
      "Accuracy: 0.6374 ± 0.0131  (95% CI: 0.6327 – 0.6421)\n",
      "F1: 0.6259 ± 0.0133  (95% CI: 0.6212 – 0.6307)\n",
      "Precision: 0.6197 ± 0.0138  (95% CI: 0.6148 – 0.6247)\n"
     ]
    }
   ],
   "execution_count": 29
  }
 ],
 "metadata": {
  "kernelspec": {
   "display_name": "Python 3",
   "language": "python",
   "name": "python3"
  },
  "language_info": {
   "codemirror_mode": {
    "name": "ipython",
    "version": 2
   },
   "file_extension": ".py",
   "mimetype": "text/x-python",
   "name": "python",
   "nbconvert_exporter": "python",
   "pygments_lexer": "ipython2",
   "version": "2.7.6"
  }
 },
 "nbformat": 4,
 "nbformat_minor": 5
}
