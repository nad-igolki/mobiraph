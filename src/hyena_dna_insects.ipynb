{
 "cells": [
  {
   "metadata": {
    "ExecuteTime": {
     "end_time": "2025-06-14T14:02:07.076131Z",
     "start_time": "2025-06-14T14:02:07.065634Z"
    }
   },
   "cell_type": "code",
   "source": [
    "import warnings\n",
    "import os\n",
    "\n",
    "os.environ['PYTHONWARNINGS'] = 'ignore'\n",
    "warnings.filterwarnings('ignore')"
   ],
   "id": "3239d7f47e5d4c8b",
   "outputs": [],
   "execution_count": 1
  },
  {
   "metadata": {},
   "cell_type": "markdown",
   "source": "# Загружаем последовательности с метками из очищенных файлов",
   "id": "c57b1351e62ce535"
  },
  {
   "cell_type": "code",
   "id": "initial_id",
   "metadata": {
    "collapsed": true,
    "ExecuteTime": {
     "end_time": "2025-06-14T14:02:07.863516Z",
     "start_time": "2025-06-14T14:02:07.089217Z"
    }
   },
   "source": [
    "import os\n",
    "import pandas as pd\n",
    "from Bio import SeqIO\n",
    "\n",
    "# Путь к главной директории\n",
    "base_dir = \"generated_graphs\"\n",
    "\n",
    "records = []\n",
    "\n",
    "# Фильтрация директорий по префиксу\n",
    "target_dirs = [d for d in os.listdir(base_dir)\n",
    "               if os.path.isdir(os.path.join(base_dir, d)) and (d.startswith(\"anopheles\") or d.startswith(\"insect\"))]\n",
    "\n",
    "# Обработка каждой подходящей директории\n",
    "for organism_dir in target_dirs:\n",
    "    full_path = os.path.join(base_dir, organism_dir)\n",
    "    graph_labels_path = os.path.join(full_path, \"graph_labels.csv\")\n",
    "    sequences_path = os.path.join(full_path, \"sequences.csv\")\n",
    "\n",
    "    if not os.path.isfile(graph_labels_path) or not os.path.isfile(sequences_path):\n",
    "        continue\n",
    "\n",
    "    # Чтение меток\n",
    "    labels_df = pd.read_csv(graph_labels_path)\n",
    "    labels_dict = dict(zip(labels_df[\"graph_id\"], labels_df[\"label\"]))\n",
    "\n",
    "    # Чтение последовательностей\n",
    "    for record in SeqIO.parse(sequences_path, \"fasta\"):\n",
    "        seq_id = record.id\n",
    "        sequence = str(record.seq)\n",
    "        label = labels_dict[int(seq_id)]\n",
    "        records.append({\"sequence\": sequence, \"label\": label, \"organism\": organism_dir})\n",
    "\n",
    "# Создание итогового DataFrame\n",
    "result_df = pd.DataFrame(records)"
   ],
   "outputs": [],
   "execution_count": 2
  },
  {
   "metadata": {
    "ExecuteTime": {
     "end_time": "2025-06-14T14:02:07.997443Z",
     "start_time": "2025-06-14T14:02:07.993563Z"
    }
   },
   "cell_type": "code",
   "source": [
    "print(result_df.shape)\n",
    "print(result_df)"
   ],
   "id": "2739b4b3d90f8c3d",
   "outputs": [
    {
     "name": "stdout",
     "output_type": "stream",
     "text": [
      "(3006, 3)\n",
      "                                               sequence  label  \\\n",
      "0     TGTTGCGAGCTATAGGGGTTCGGGAATATAAATGCCACTCTTCTTC...  gypsy   \n",
      "1     GTCATAATAAGTGAATTTTTTTTTTTTTTTTTTTTTTTTTAAAAGG...   line   \n",
      "2     AGGTGAACTGTCAGCGATTGGAATGACGGATGTCAATTCGATAGCA...   line   \n",
      "3     AAGAACATAATAATAATAATAATAATAATAATAATAATAATAATCC...     l1   \n",
      "4     AGTTTTGTGTGGGATAGTGGCGATTAATTCAGACGAAACAACACTT...  gypsy   \n",
      "...                                                 ...    ...   \n",
      "3001  AAATGACACAAACAACAAAAAACTTACGAAAGAAATTATTTAAAGA...   line   \n",
      "3002  TCCACTCCCACCTCCACTTTCCGCTCTGACTATAGATTCAATTATA...  gypsy   \n",
      "3003  ATTATTAAATTTAATATATTCGGTTTTTCGCGGGTAGGCGTGAAAC...     l1   \n",
      "3004  ATACATGGTCTTTGTCTATGTAAGTGCAAATACGCTAAAAAAAAAA...   line   \n",
      "3005  TTTATTTATTTATATATACTTTATTGCACAGATTACAAAAAAAGAA...   line   \n",
      "\n",
      "                                 organism  \n",
      "0         insect_euchloe_belemia_filtered  \n",
      "1         insect_euchloe_belemia_filtered  \n",
      "2         insect_euchloe_belemia_filtered  \n",
      "3         insect_euchloe_belemia_filtered  \n",
      "4         insect_euchloe_belemia_filtered  \n",
      "...                                   ...  \n",
      "3001  insect_heliconius_congener_filtered  \n",
      "3002  insect_heliconius_congener_filtered  \n",
      "3003  insect_heliconius_congener_filtered  \n",
      "3004  insect_heliconius_congener_filtered  \n",
      "3005  insect_heliconius_congener_filtered  \n",
      "\n",
      "[3006 rows x 3 columns]\n"
     ]
    }
   ],
   "execution_count": 3
  },
  {
   "metadata": {
    "ExecuteTime": {
     "end_time": "2025-06-14T14:02:11.379298Z",
     "start_time": "2025-06-14T14:02:08.015410Z"
    }
   },
   "cell_type": "code",
   "source": [
    "# From: https://github.com/dariush-bahrami/character-tokenizer/blob/master/charactertokenizer/core.py\n",
    "import json\n",
    "import os\n",
    "from pathlib import Path\n",
    "from typing import Dict, List, Optional, Sequence, Union\n",
    "\n",
    "from transformers.tokenization_utils import AddedToken, PreTrainedTokenizer\n",
    "\n",
    "\n",
    "class CharacterTokenizer(PreTrainedTokenizer):\n",
    "    def __init__(self, characters: Sequence[str], model_max_length: int, padding_side: str='left', **kwargs):\n",
    "        \"\"\"Character tokenizer for Hugging Face transformers.\n",
    "        Args:\n",
    "            characters (Sequence[str]): List of desired characters. Any character which\n",
    "                is not included in this list will be replaced by a special token called\n",
    "                [UNK] with id=6. Following are list of all of the special tokens with\n",
    "                their corresponding ids:\n",
    "                    \"[CLS]\": 0\n",
    "                    \"[SEP]\": 1\n",
    "                    \"[BOS]\": 2\n",
    "                    \"[MASK]\": 3\n",
    "                    \"[PAD]\": 4\n",
    "                    \"[RESERVED]\": 5\n",
    "                    \"[UNK]\": 6\n",
    "                an id (starting at 7) will be assigned to each character.\n",
    "            model_max_length (int): Model maximum sequence length.\n",
    "        \"\"\"\n",
    "        self.characters = characters\n",
    "        self.model_max_length = model_max_length\n",
    "        bos_token = AddedToken(\"[BOS]\", lstrip=False, rstrip=False)\n",
    "        eos_token = AddedToken(\"[SEP]\", lstrip=False, rstrip=False)\n",
    "        sep_token = AddedToken(\"[SEP]\", lstrip=False, rstrip=False)\n",
    "        cls_token = AddedToken(\"[CLS]\", lstrip=False, rstrip=False)\n",
    "        pad_token = AddedToken(\"[PAD]\", lstrip=False, rstrip=False)\n",
    "        unk_token = AddedToken(\"[UNK]\", lstrip=False, rstrip=False)\n",
    "\n",
    "        mask_token = AddedToken(\"[MASK]\", lstrip=True, rstrip=False)\n",
    "\n",
    "        super().__init__(\n",
    "            bos_token=bos_token,\n",
    "            eos_token=sep_token,\n",
    "            sep_token=sep_token,\n",
    "            cls_token=cls_token,\n",
    "            pad_token=pad_token,\n",
    "            mask_token=mask_token,\n",
    "            unk_token=unk_token,\n",
    "            add_prefix_space=False,\n",
    "            model_max_length=model_max_length,\n",
    "            padding_side=padding_side,\n",
    "            **kwargs,\n",
    "        )\n",
    "\n",
    "        self._vocab_str_to_int = {\n",
    "            \"[CLS]\": 0,\n",
    "            \"[SEP]\": 1,\n",
    "            \"[BOS]\": 2,\n",
    "            \"[MASK]\": 3,\n",
    "            \"[PAD]\": 4,\n",
    "            \"[RESERVED]\": 5,\n",
    "            \"[UNK]\": 6,\n",
    "            **{ch: i + 7 for i, ch in enumerate(characters)},\n",
    "        }\n",
    "        self._vocab_int_to_str = {v: k for k, v in self._vocab_str_to_int.items()}\n",
    "\n",
    "    @property\n",
    "    def vocab_size(self) -> int:\n",
    "        return len(self._vocab_str_to_int)\n",
    "\n",
    "    def _tokenize(self, text: str) -> List[str]:\n",
    "        return list(text)\n",
    "\n",
    "    def _convert_token_to_id(self, token: str) -> int:\n",
    "        return self._vocab_str_to_int.get(token, self._vocab_str_to_int[\"[UNK]\"])\n",
    "\n",
    "    def _convert_id_to_token(self, index: int) -> str:\n",
    "        return self._vocab_int_to_str[index]\n",
    "\n",
    "    def convert_tokens_to_string(self, tokens):\n",
    "        return \"\".join(tokens)\n",
    "\n",
    "    def build_inputs_with_special_tokens(\n",
    "        self, token_ids_0: List[int], token_ids_1: Optional[List[int]] = None\n",
    "    ) -> List[int]:\n",
    "        sep = [self.sep_token_id]\n",
    "        cls = [self.cls_token_id]\n",
    "        result = cls + token_ids_0 + sep\n",
    "        if token_ids_1 is not None:\n",
    "            result += token_ids_1 + sep\n",
    "        return result\n",
    "\n",
    "    def get_special_tokens_mask(\n",
    "        self,\n",
    "        token_ids_0: List[int],\n",
    "        token_ids_1: Optional[List[int]] = None,\n",
    "        already_has_special_tokens: bool = False,\n",
    "    ) -> List[int]:\n",
    "        if already_has_special_tokens:\n",
    "            return super().get_special_tokens_mask(\n",
    "                token_ids_0=token_ids_0,\n",
    "                token_ids_1=token_ids_1,\n",
    "                already_has_special_tokens=True,\n",
    "            )\n",
    "\n",
    "        result = [1] + ([0] * len(token_ids_0)) + [1]\n",
    "        if token_ids_1 is not None:\n",
    "            result += ([0] * len(token_ids_1)) + [1]\n",
    "        return result\n",
    "\n",
    "    def create_token_type_ids_from_sequences(\n",
    "        self, token_ids_0: List[int], token_ids_1: Optional[List[int]] = None\n",
    "    ) -> List[int]:\n",
    "        sep = [self.sep_token_id]\n",
    "        cls = [self.cls_token_id]\n",
    "\n",
    "        result = len(cls + token_ids_0 + sep) * [0]\n",
    "        if token_ids_1 is not None:\n",
    "            result += len(token_ids_1 + sep) * [1]\n",
    "        return result\n",
    "\n",
    "    def get_config(self) -> Dict:\n",
    "        return {\n",
    "            \"char_ords\": [ord(ch) for ch in self.characters],\n",
    "            \"model_max_length\": self.model_max_length,\n",
    "        }\n",
    "\n",
    "    @classmethod\n",
    "    def from_config(cls, config: Dict) -> \"CharacterTokenizer\":\n",
    "        cfg = {}\n",
    "        cfg[\"characters\"] = [chr(i) for i in config[\"char_ords\"]]\n",
    "        cfg[\"model_max_length\"] = config[\"model_max_length\"]\n",
    "        return cls(**cfg)\n",
    "\n",
    "    def save_pretrained(self, save_directory: Union[str, os.PathLike], **kwargs):\n",
    "        cfg_file = Path(save_directory) / \"tokenizer_config.json\"\n",
    "        cfg = self.get_config()\n",
    "        with open(cfg_file, \"w\") as f:\n",
    "            json.dump(cfg, f, indent=4)\n",
    "\n",
    "    @classmethod\n",
    "    def from_pretrained(cls, save_directory: Union[str, os.PathLike], **kwargs):\n",
    "        cfg_file = Path(save_directory) / \"tokenizer_config.json\"\n",
    "        with open(cfg_file) as f:\n",
    "            cfg = json.load(f)\n",
    "        return cls.from_config(cfg)"
   ],
   "id": "28e3862598d9ba04",
   "outputs": [],
   "execution_count": 4
  },
  {
   "metadata": {
    "ExecuteTime": {
     "end_time": "2025-06-14T14:02:11.391505Z",
     "start_time": "2025-06-14T14:02:11.389652Z"
    }
   },
   "cell_type": "code",
   "source": [
    "# %cd hyena_dna\n",
    "# from standalone_hyenadna import HyenaDNAModel"
   ],
   "id": "d1073a4ec42f1fbf",
   "outputs": [],
   "execution_count": 5
  },
  {
   "metadata": {
    "ExecuteTime": {
     "end_time": "2025-06-14T14:02:12.561320Z",
     "start_time": "2025-06-14T14:02:11.400830Z"
    }
   },
   "cell_type": "code",
   "source": [
    "#@title Huggingface Pretrained Wrapper\n",
    "# for Huggingface integration, we use a wrapper class around the model\n",
    "# to load weights\n",
    "import json\n",
    "import os\n",
    "import subprocess\n",
    "import transformers\n",
    "from transformers import PreTrainedModel, AutoModelForCausalLM, PretrainedConfig\n",
    "import re\n",
    "\n",
    "def inject_substring(orig_str):\n",
    "    \"\"\"Hack to handle matching keys between models trained with and without\n",
    "    gradient checkpointing.\"\"\"\n",
    "\n",
    "    # modify for mixer keys\n",
    "    pattern = r\"\\.mixer\"\n",
    "    injection = \".mixer.layer\"\n",
    "\n",
    "    modified_string = re.sub(pattern, injection, orig_str)\n",
    "\n",
    "    # modify for mlp keys\n",
    "    pattern = r\"\\.mlp\"\n",
    "    injection = \".mlp.layer\"\n",
    "\n",
    "    modified_string = re.sub(pattern, injection, modified_string)\n",
    "\n",
    "    return modified_string\n",
    "\n",
    "def load_weights(scratch_dict, pretrained_dict, checkpointing=False):\n",
    "    \"\"\"Loads pretrained (backbone only) weights into the scratch state dict.\n",
    "\n",
    "    scratch_dict: dict, a state dict from a newly initialized HyenaDNA model\n",
    "    pretrained_dict: dict, a state dict from the pretrained ckpt\n",
    "    checkpointing: bool, whether the gradient checkpoint flag was used in the\n",
    "    pretrained model ckpt. This slightly changes state dict keys, so we patch\n",
    "    that if used.\n",
    "\n",
    "    return:\n",
    "    dict, a state dict with the pretrained weights loaded (head is scratch)\n",
    "\n",
    "    # loop thru state dict of scratch\n",
    "    # find the corresponding weights in the loaded model, and set it\n",
    "\n",
    "    \"\"\"\n",
    "\n",
    "    # need to do some state dict \"surgery\"\n",
    "    for key, value in scratch_dict.items():\n",
    "        if 'backbone' in key:\n",
    "            # the state dicts differ by one prefix, '.model', so we add that\n",
    "            key_loaded = 'model.' + key\n",
    "            # breakpoint()\n",
    "            # need to add an extra \".layer\" in key\n",
    "            if checkpointing:\n",
    "                key_loaded = inject_substring(key_loaded)\n",
    "            try:\n",
    "                scratch_dict[key] = pretrained_dict[key_loaded]\n",
    "            except:\n",
    "                raise Exception('key mismatch in the state dicts!')\n",
    "\n",
    "    # scratch_dict has been updated\n",
    "    return scratch_dict\n",
    "\n",
    "class HyenaDNAPreTrainedModel(PreTrainedModel):\n",
    "    \"\"\"\n",
    "    An abstract class to handle weights initialization and a simple interface for downloading and loading pretrained\n",
    "    models.\n",
    "    \"\"\"\n",
    "    base_model_prefix = \"hyenadna\"\n",
    "\n",
    "    def __init__(self, config):\n",
    "        pass\n",
    "\n",
    "    def forward(self, input_ids, **kwargs):\n",
    "        return self.model(input_ids, **kwargs)\n",
    "\n",
    "    @classmethod\n",
    "    def from_pretrained(cls,\n",
    "                        path,\n",
    "                        model_name,\n",
    "                        download=False,\n",
    "                        config=None,\n",
    "                        device='cpu',\n",
    "                        use_head=False,\n",
    "                        n_classes=2,\n",
    "                      ):\n",
    "        # first check if it is a local path\n",
    "        pretrained_model_name_or_path = os.path.join(path, model_name)\n",
    "        if os.path.isdir(pretrained_model_name_or_path) and download == False:\n",
    "            if config is None:\n",
    "                config = json.load(open(os.path.join(pretrained_model_name_or_path, 'config.json')))\n",
    "        else:\n",
    "            hf_url = f'https://huggingface.co/LongSafari/{model_name}'\n",
    "\n",
    "            subprocess.run(f'rm -rf {pretrained_model_name_or_path}', shell=True)\n",
    "            command = f'mkdir -p {path} && cd {path} && git lfs install && git clone {hf_url}'\n",
    "            subprocess.run(command, shell=True)\n",
    "\n",
    "            if config is None:\n",
    "                config = json.load(open(os.path.join(pretrained_model_name_or_path, 'config.json')))\n",
    "\n",
    "        scratch_model = HyenaDNAModel(**config, use_head=use_head, n_classes=n_classes)  # the new model format\n",
    "        loaded_ckpt = torch.load(\n",
    "            os.path.join(pretrained_model_name_or_path, 'weights.ckpt'),\n",
    "            map_location=torch.device(device)\n",
    "        )\n",
    "\n",
    "        # need to load weights slightly different if using gradient checkpointing\n",
    "        if config.get(\"checkpoint_mixer\", False):\n",
    "            checkpointing = config[\"checkpoint_mixer\"] == True or config[\"checkpoint_mixer\"] == True\n",
    "        else:\n",
    "            checkpointing = False\n",
    "\n",
    "        # grab state dict from both and load weights\n",
    "        state_dict = load_weights(scratch_model.state_dict(), loaded_ckpt['state_dict'], checkpointing=checkpointing)\n",
    "\n",
    "        # scratch model has now been updated\n",
    "        scratch_model.load_state_dict(state_dict)\n",
    "        print(\"Loaded pretrained weights ok!\")\n",
    "        return scratch_model"
   ],
   "id": "c1990499364e51a0",
   "outputs": [],
   "execution_count": 6
  },
  {
   "metadata": {
    "ExecuteTime": {
     "end_time": "2025-06-14T14:02:12.921142Z",
     "start_time": "2025-06-14T14:02:12.594892Z"
    }
   },
   "cell_type": "code",
   "source": [
    "%cd hyena_dna\n",
    "from standalone_hyenadna import HyenaDNAModel\n",
    "# from huggingface import HyenaDNAPreTrainedModel"
   ],
   "id": "ca366decf9c27663",
   "outputs": [
    {
     "name": "stdout",
     "output_type": "stream",
     "text": [
      "/Users/nad/hse/semester06/proj2/src/hyena_dna\n"
     ]
    }
   ],
   "execution_count": 7
  },
  {
   "metadata": {},
   "cell_type": "markdown",
   "source": "# Загрузка модели и простого токенайзера",
   "id": "daa770275d1119a2"
  },
  {
   "metadata": {
    "ExecuteTime": {
     "end_time": "2025-06-14T14:02:17.937135Z",
     "start_time": "2025-06-14T14:02:12.938182Z"
    }
   },
   "cell_type": "code",
   "source": [
    "import torch\n",
    "# instantiate pretrained model\n",
    "pretrained_model_name = 'hyenadna-small-32k-seqlen'\n",
    "max_length = 32_000\n",
    "\n",
    "model = HyenaDNAPreTrainedModel.from_pretrained(\n",
    "    'checkpoints',\n",
    "    pretrained_model_name,\n",
    "    download=True\n",
    ")\n",
    "\n",
    "tokenizer = CharacterTokenizer(\n",
    "    characters=['A', 'C', 'G', 'T', 'N'],  # add DNA characters\n",
    "    model_max_length=max_length,\n",
    ")"
   ],
   "id": "58fada0b8daaadc3",
   "outputs": [
    {
     "name": "stdout",
     "output_type": "stream",
     "text": [
      "Updated Git hooks.\n",
      "Git LFS initialized.\n"
     ]
    },
    {
     "name": "stderr",
     "output_type": "stream",
     "text": [
      "Cloning into 'hyenadna-small-32k-seqlen'...\n"
     ]
    },
    {
     "name": "stdout",
     "output_type": "stream",
     "text": [
      "Loaded pretrained weights ok!\n"
     ]
    }
   ],
   "execution_count": 8
  },
  {
   "metadata": {
    "ExecuteTime": {
     "end_time": "2025-06-14T14:23:24.593094Z",
     "start_time": "2025-06-14T14:02:18.037174Z"
    }
   },
   "cell_type": "code",
   "source": [
    "import torch\n",
    "from tqdm import tqdm\n",
    "\n",
    "# Подготовка\n",
    "model.to(\"cpu\")\n",
    "model.eval()\n",
    "\n",
    "all_embeddings = []\n",
    "all_labels = []\n",
    "all_organisms = []\n",
    "\n",
    "for _, row in tqdm(result_df.iterrows(), total=len(result_df)):\n",
    "    sequence = row[\"sequence\"]\n",
    "    label = row[\"label\"]\n",
    "    organism = row[\"organism\"]\n",
    "\n",
    "    # Токенизация и преобразование\n",
    "    tokenized = tokenizer(sequence)[\"input_ids\"]\n",
    "    tok_tensor = torch.LongTensor(tokenized).unsqueeze(0).to(\"cpu\")\n",
    "\n",
    "    with torch.inference_mode():\n",
    "        outputs = model(tok_tensor)  # (1, seq_len, hidden_dim)\n",
    "        embedding = outputs.mean(dim=1).squeeze(0).cpu().numpy()  # среднее по токенам\n",
    "\n",
    "    all_embeddings.append(embedding)\n",
    "    all_labels.append(label)\n",
    "    all_organisms.append(organism)\n",
    "\n",
    "# Преобразуем в DataFrame с векторами\n",
    "import pandas as pd\n",
    "import numpy as np\n",
    "\n",
    "embedding_df = pd.DataFrame(all_embeddings)\n",
    "embedding_df[\"label\"] = all_labels\n",
    "embedding_df[\"organism\"] = all_organisms"
   ],
   "id": "297a354adedeebbb",
   "outputs": [
    {
     "name": "stderr",
     "output_type": "stream",
     "text": [
      "100%|██████████| 3006/3006 [21:06<00:00,  2.37it/s]\n"
     ]
    }
   ],
   "execution_count": 9
  },
  {
   "metadata": {
    "ExecuteTime": {
     "end_time": "2025-06-14T14:23:24.636949Z",
     "start_time": "2025-06-14T14:23:24.618671Z"
    }
   },
   "cell_type": "code",
   "source": "np.array(all_embeddings).shape",
   "id": "6655afc814646739",
   "outputs": [
    {
     "data": {
      "text/plain": [
       "(3006, 256)"
      ]
     },
     "execution_count": 10,
     "metadata": {},
     "output_type": "execute_result"
    }
   ],
   "execution_count": 10
  },
  {
   "metadata": {
    "ExecuteTime": {
     "end_time": "2025-06-14T14:23:25.016219Z",
     "start_time": "2025-06-14T14:23:24.759405Z"
    }
   },
   "cell_type": "code",
   "source": "%ls",
   "id": "2c1480938da252ce",
   "outputs": [
    {
     "name": "stdout",
     "output_type": "stream",
     "text": [
      "Dockerfile              \u001B[34mconfigs\u001B[m\u001B[m/                requirements.txt\r\n",
      "LICENSE                 \u001B[34mcsrc\u001B[m\u001B[m/                   \u001B[34msrc\u001B[m\u001B[m/\r\n",
      "README.md               \u001B[34mevals\u001B[m\u001B[m/                  standalone_hyenadna.py\r\n",
      "\u001B[34massets\u001B[m\u001B[m/                 \u001B[34mflash-attention\u001B[m\u001B[m/        train.py\r\n",
      "\u001B[34mcheckpoints\u001B[m\u001B[m/            huggingface.py\r\n"
     ]
    }
   ],
   "execution_count": 11
  },
  {
   "metadata": {
    "ExecuteTime": {
     "end_time": "2025-06-14T14:23:25.327896Z",
     "start_time": "2025-06-14T14:23:25.031063Z"
    }
   },
   "cell_type": "code",
   "source": [
    "%cd ..\n",
    "embedding_df.to_csv(\"sequence_embeddings.csv\", index=False)"
   ],
   "id": "b8d5ee1d6523f566",
   "outputs": [
    {
     "name": "stdout",
     "output_type": "stream",
     "text": [
      "/Users/nad/hse/semester06/proj2/src\n"
     ]
    }
   ],
   "execution_count": 12
  },
  {
   "metadata": {
    "ExecuteTime": {
     "end_time": "2025-06-14T14:23:25.394770Z",
     "start_time": "2025-06-14T14:23:25.339887Z"
    }
   },
   "cell_type": "code",
   "source": [
    "# assert(True)\n",
    "# %cd ..\n",
    "embedding_df = pd.read_csv(\"sequence_embeddings.csv\")"
   ],
   "id": "8e846fe42acb927e",
   "outputs": [],
   "execution_count": 13
  },
  {
   "metadata": {
    "ExecuteTime": {
     "end_time": "2025-06-14T14:23:25.412090Z",
     "start_time": "2025-06-14T14:23:25.406808Z"
    }
   },
   "cell_type": "code",
   "source": [
    "# Словарь соответствий\n",
    "label_mapping = {\n",
    "    'line': 'line/l1',\n",
    "    'l1': 'line/l1',\n",
    "    'gypsy': 'gypsy/copia',\n",
    "    'copia': 'gypsy/copia',\n",
    "    'hat': 'hat/mudr/cacta',\n",
    "    'mudr': 'hat/mudr/cacta',\n",
    "    'cacta': 'hat/mudr/cacta',\n",
    "    'helitron': 'helitron'  # без изменений, но можно оставить для явности\n",
    "}\n",
    "\n",
    "# Применяем замену\n",
    "embedding_df['label'] = embedding_df['label'].map(label_mapping).fillna(embedding_df['label'])"
   ],
   "id": "eaac2136d4e1e6f8",
   "outputs": [],
   "execution_count": 14
  },
  {
   "metadata": {
    "ExecuteTime": {
     "end_time": "2025-06-14T14:23:25.425998Z",
     "start_time": "2025-06-14T14:23:25.423640Z"
    }
   },
   "cell_type": "code",
   "source": [
    "# Сопоставляем уникальные метки с числами\n",
    "unique_labels = list(set(label_mapping.values()))\n",
    "label2id = {label: idx for idx, label in enumerate(unique_labels)}"
   ],
   "id": "2d6a8cb339771f8a",
   "outputs": [],
   "execution_count": 15
  },
  {
   "metadata": {
    "ExecuteTime": {
     "end_time": "2025-06-14T14:23:25.440840Z",
     "start_time": "2025-06-14T14:23:25.438275Z"
    }
   },
   "cell_type": "code",
   "source": "label2id",
   "id": "74a2cfd3316e0dce",
   "outputs": [
    {
     "data": {
      "text/plain": [
       "{'hat/mudr/cacta': 0, 'line/l1': 1, 'helitron': 2, 'gypsy/copia': 3}"
      ]
     },
     "execution_count": 16,
     "metadata": {},
     "output_type": "execute_result"
    }
   ],
   "execution_count": 16
  },
  {
   "metadata": {
    "ExecuteTime": {
     "end_time": "2025-06-14T14:23:25.468193Z",
     "start_time": "2025-06-14T14:23:25.465345Z"
    }
   },
   "cell_type": "code",
   "source": [
    "# Преобразуем метки\n",
    "numeric_labels = [label2id[label] for label in embedding_df[\"label\"]]\n",
    "embedding_df[\"label\"] = numeric_labels"
   ],
   "id": "5cede7205800535b",
   "outputs": [],
   "execution_count": 17
  },
  {
   "metadata": {},
   "cell_type": "markdown",
   "source": "# Обучение Bayesian Transformer",
   "id": "b65c3d1e4d086660"
  },
  {
   "metadata": {},
   "cell_type": "markdown",
   "source": "## Определение модели",
   "id": "8adaf7dfd0474c0e"
  },
  {
   "metadata": {
    "ExecuteTime": {
     "end_time": "2025-06-14T14:23:25.475952Z",
     "start_time": "2025-06-14T14:23:25.471890Z"
    }
   },
   "cell_type": "code",
   "source": [
    "import torch.nn as nn\n",
    "import torch.nn.functional as F\n",
    "\n",
    "class BayesianTransformerClassifier(nn.Module):\n",
    "    def __init__(self, input_dim, num_classes, n_heads=4, hidden_dim=256, n_layers=2, dropout=0.3):\n",
    "        super().__init__()\n",
    "        self.embedding = nn.Linear(input_dim, hidden_dim)\n",
    "\n",
    "        encoder_layer = nn.TransformerEncoderLayer(\n",
    "            d_model=hidden_dim,\n",
    "            nhead=n_heads,\n",
    "            dim_feedforward=hidden_dim * 2,\n",
    "            dropout=dropout,\n",
    "            activation=\"gelu\",\n",
    "            batch_first=True,\n",
    "        )\n",
    "        self.transformer = nn.TransformerEncoder(encoder_layer, num_layers=n_layers)\n",
    "\n",
    "        self.classifier = nn.Sequential(\n",
    "            nn.Linear(hidden_dim, hidden_dim),\n",
    "            nn.ReLU(),\n",
    "            nn.Dropout(dropout),\n",
    "            nn.Linear(hidden_dim, num_classes)\n",
    "        )\n",
    "\n",
    "    def forward(self, x):\n",
    "        x = self.embedding(x).unsqueeze(1)  # (batch, 1, dim)\n",
    "        x = self.transformer(x).squeeze(1)  # (batch, dim)\n",
    "        return self.classifier(x)"
   ],
   "id": "9716d0ef8a2b9518",
   "outputs": [],
   "execution_count": 18
  },
  {
   "metadata": {},
   "cell_type": "markdown",
   "source": "# Подготовка данных",
   "id": "a8d8a2555fe1a41a"
  },
  {
   "metadata": {
    "ExecuteTime": {
     "end_time": "2025-06-14T14:23:25.659464Z",
     "start_time": "2025-06-14T14:23:25.489265Z"
    }
   },
   "cell_type": "code",
   "source": [
    "import torch\n",
    "import pandas as pd\n",
    "import numpy as np\n",
    "from sklearn.model_selection import train_test_split\n",
    "from sklearn.preprocessing import StandardScaler\n",
    "from torch.utils.data import DataLoader, TensorDataset\n",
    "\n",
    "feature_cols = [c for c in embedding_df.columns if c not in [\"label\", \"organism\"]]\n",
    "X = embedding_df[feature_cols].values\n",
    "y = embedding_df[\"label\"].values\n",
    "\n",
    "# Масштабирование\n",
    "scaler = StandardScaler()\n",
    "X = scaler.fit_transform(X)\n",
    "\n",
    "X_train, X_test, y_train, y_test = train_test_split(\n",
    "    X, y, test_size=0.1765, random_state=42, stratify=y\n",
    ")\n",
    "\n",
    "train_ds = TensorDataset(torch.tensor(X_train, dtype=torch.float32), torch.tensor(y_train, dtype=torch.long))\n",
    "test_ds = TensorDataset(torch.tensor(X_test, dtype=torch.float32), torch.tensor(y_test, dtype=torch.long))\n",
    "\n",
    "\n",
    "train_loader = DataLoader(train_ds, batch_size=32, shuffle=True)\n",
    "test_loader = DataLoader(test_ds, batch_size=32)"
   ],
   "id": "4682434fa55cdb61",
   "outputs": [],
   "execution_count": 19
  },
  {
   "metadata": {},
   "cell_type": "markdown",
   "source": "## Модель",
   "id": "5b8a8af1134ac913"
  },
  {
   "metadata": {
    "ExecuteTime": {
     "end_time": "2025-06-14T14:23:25.693006Z",
     "start_time": "2025-06-14T14:23:25.674617Z"
    }
   },
   "cell_type": "code",
   "source": [
    "device = torch.device(\"cuda\" if torch.cuda.is_available() else \"cpu\")\n",
    "model = BayesianTransformerClassifier(input_dim=X.shape[1], num_classes=len(np.unique(y)))\n",
    "model.to(device)\n",
    "\n",
    "criterion = nn.CrossEntropyLoss()\n",
    "optimizer = torch.optim.Adam(model.parameters(), lr=1e-3)\n",
    "model"
   ],
   "id": "ced1f47aa3994a75",
   "outputs": [
    {
     "data": {
      "text/plain": [
       "BayesianTransformerClassifier(\n",
       "  (embedding): Linear(in_features=256, out_features=256, bias=True)\n",
       "  (transformer): TransformerEncoder(\n",
       "    (layers): ModuleList(\n",
       "      (0-1): 2 x TransformerEncoderLayer(\n",
       "        (self_attn): MultiheadAttention(\n",
       "          (out_proj): NonDynamicallyQuantizableLinear(in_features=256, out_features=256, bias=True)\n",
       "        )\n",
       "        (linear1): Linear(in_features=256, out_features=512, bias=True)\n",
       "        (dropout): Dropout(p=0.3, inplace=False)\n",
       "        (linear2): Linear(in_features=512, out_features=256, bias=True)\n",
       "        (norm1): LayerNorm((256,), eps=1e-05, elementwise_affine=True)\n",
       "        (norm2): LayerNorm((256,), eps=1e-05, elementwise_affine=True)\n",
       "        (dropout1): Dropout(p=0.3, inplace=False)\n",
       "        (dropout2): Dropout(p=0.3, inplace=False)\n",
       "      )\n",
       "    )\n",
       "  )\n",
       "  (classifier): Sequential(\n",
       "    (0): Linear(in_features=256, out_features=256, bias=True)\n",
       "    (1): ReLU()\n",
       "    (2): Dropout(p=0.3, inplace=False)\n",
       "    (3): Linear(in_features=256, out_features=4, bias=True)\n",
       "  )\n",
       ")"
      ]
     },
     "execution_count": 20,
     "metadata": {},
     "output_type": "execute_result"
    }
   ],
   "execution_count": 20
  },
  {
   "metadata": {},
   "cell_type": "markdown",
   "source": "## Обучение модели",
   "id": "c839dcfd0fc5cb31"
  },
  {
   "metadata": {
    "ExecuteTime": {
     "end_time": "2025-06-14T14:24:47.073561Z",
     "start_time": "2025-06-14T14:23:25.719990Z"
    }
   },
   "cell_type": "code",
   "source": [
    "import matplotlib.pyplot as plt\n",
    "\n",
    "n_epochs = 100\n",
    "train_losses = []\n",
    "\n",
    "for epoch in range(n_epochs):\n",
    "    model.train()\n",
    "    total_loss = 0\n",
    "    for xb, yb in train_loader:\n",
    "        xb, yb = xb.to(device), yb.to(device)\n",
    "        optimizer.zero_grad()\n",
    "        preds = model(xb)\n",
    "        loss = criterion(preds, yb)\n",
    "        loss.backward()\n",
    "        optimizer.step()\n",
    "        total_loss += loss.item()\n",
    "    \n",
    "    avg_loss = total_loss / len(train_loader)\n",
    "    train_losses.append(avg_loss)\n",
    "    print(f\"Epoch {epoch+1}, Train Loss: {avg_loss:.4f}\")\n",
    "\n",
    "# Построение графика\n",
    "plt.figure(figsize=(8, 5))\n",
    "plt.plot(range(1, n_epochs + 1), train_losses, marker='o')\n",
    "plt.title(\"Training Loss over Epochs\")\n",
    "plt.xlabel(\"Epoch\")\n",
    "plt.ylabel(\"Loss\")\n",
    "plt.grid(True)\n",
    "plt.tight_layout()\n",
    "plt.show()"
   ],
   "id": "fe9e7c26b84cd3cd",
   "outputs": [
    {
     "name": "stdout",
     "output_type": "stream",
     "text": [
      "Epoch 1, Train Loss: 0.9678\n",
      "Epoch 2, Train Loss: 0.9039\n",
      "Epoch 3, Train Loss: 0.9086\n",
      "Epoch 4, Train Loss: 0.8789\n",
      "Epoch 5, Train Loss: 0.8668\n",
      "Epoch 6, Train Loss: 0.8688\n",
      "Epoch 7, Train Loss: 0.8600\n",
      "Epoch 8, Train Loss: 0.8553\n",
      "Epoch 9, Train Loss: 0.8514\n",
      "Epoch 10, Train Loss: 0.8478\n",
      "Epoch 11, Train Loss: 0.8510\n",
      "Epoch 12, Train Loss: 0.8397\n",
      "Epoch 13, Train Loss: 0.8332\n",
      "Epoch 14, Train Loss: 0.8227\n",
      "Epoch 15, Train Loss: 0.8164\n",
      "Epoch 16, Train Loss: 0.8288\n",
      "Epoch 17, Train Loss: 0.8262\n",
      "Epoch 18, Train Loss: 0.8238\n",
      "Epoch 19, Train Loss: 0.8217\n",
      "Epoch 20, Train Loss: 0.8032\n",
      "Epoch 21, Train Loss: 0.7996\n",
      "Epoch 22, Train Loss: 0.8076\n",
      "Epoch 23, Train Loss: 0.8107\n",
      "Epoch 24, Train Loss: 0.8057\n",
      "Epoch 25, Train Loss: 0.8021\n",
      "Epoch 26, Train Loss: 0.8016\n",
      "Epoch 27, Train Loss: 0.7988\n",
      "Epoch 28, Train Loss: 0.7982\n",
      "Epoch 29, Train Loss: 0.7889\n",
      "Epoch 30, Train Loss: 0.7883\n",
      "Epoch 31, Train Loss: 0.7864\n",
      "Epoch 32, Train Loss: 0.7963\n",
      "Epoch 33, Train Loss: 0.8012\n",
      "Epoch 34, Train Loss: 0.7779\n",
      "Epoch 35, Train Loss: 0.7972\n",
      "Epoch 36, Train Loss: 0.7948\n",
      "Epoch 37, Train Loss: 0.7907\n",
      "Epoch 38, Train Loss: 0.7916\n",
      "Epoch 39, Train Loss: 0.7798\n",
      "Epoch 40, Train Loss: 0.7741\n",
      "Epoch 41, Train Loss: 0.7868\n",
      "Epoch 42, Train Loss: 0.7852\n",
      "Epoch 43, Train Loss: 0.7944\n",
      "Epoch 44, Train Loss: 0.7837\n",
      "Epoch 45, Train Loss: 0.7583\n",
      "Epoch 46, Train Loss: 0.7816\n",
      "Epoch 47, Train Loss: 0.7640\n",
      "Epoch 48, Train Loss: 0.7591\n",
      "Epoch 49, Train Loss: 0.7587\n",
      "Epoch 50, Train Loss: 0.7659\n",
      "Epoch 51, Train Loss: 0.7665\n",
      "Epoch 52, Train Loss: 0.7551\n",
      "Epoch 53, Train Loss: 0.7682\n",
      "Epoch 54, Train Loss: 0.7584\n",
      "Epoch 55, Train Loss: 0.7566\n",
      "Epoch 56, Train Loss: 0.7645\n",
      "Epoch 57, Train Loss: 0.7768\n",
      "Epoch 58, Train Loss: 0.7420\n",
      "Epoch 59, Train Loss: 0.7502\n",
      "Epoch 60, Train Loss: 0.7485\n",
      "Epoch 61, Train Loss: 0.7537\n",
      "Epoch 62, Train Loss: 0.7497\n",
      "Epoch 63, Train Loss: 0.7577\n",
      "Epoch 64, Train Loss: 0.7501\n",
      "Epoch 65, Train Loss: 0.7456\n",
      "Epoch 66, Train Loss: 0.7568\n",
      "Epoch 67, Train Loss: 0.7465\n",
      "Epoch 68, Train Loss: 0.7429\n",
      "Epoch 69, Train Loss: 0.7527\n",
      "Epoch 70, Train Loss: 0.7412\n",
      "Epoch 71, Train Loss: 0.7978\n",
      "Epoch 72, Train Loss: 0.7618\n",
      "Epoch 73, Train Loss: 0.7442\n",
      "Epoch 74, Train Loss: 0.7357\n",
      "Epoch 75, Train Loss: 0.7458\n",
      "Epoch 76, Train Loss: 0.7321\n",
      "Epoch 77, Train Loss: 0.7410\n",
      "Epoch 78, Train Loss: 0.7441\n",
      "Epoch 79, Train Loss: 0.7467\n",
      "Epoch 80, Train Loss: 0.7338\n",
      "Epoch 81, Train Loss: 0.7434\n",
      "Epoch 82, Train Loss: 0.7363\n",
      "Epoch 83, Train Loss: 0.7260\n",
      "Epoch 84, Train Loss: 0.7550\n",
      "Epoch 85, Train Loss: 0.7452\n",
      "Epoch 86, Train Loss: 0.7294\n",
      "Epoch 87, Train Loss: 0.7249\n",
      "Epoch 88, Train Loss: 0.7332\n",
      "Epoch 89, Train Loss: 0.7222\n",
      "Epoch 90, Train Loss: 0.7183\n",
      "Epoch 91, Train Loss: 0.7464\n",
      "Epoch 92, Train Loss: 0.7410\n",
      "Epoch 93, Train Loss: 0.7237\n",
      "Epoch 94, Train Loss: 0.7065\n",
      "Epoch 95, Train Loss: 0.7219\n",
      "Epoch 96, Train Loss: 0.7270\n",
      "Epoch 97, Train Loss: 0.7174\n",
      "Epoch 98, Train Loss: 0.7314\n",
      "Epoch 99, Train Loss: 0.7237\n",
      "Epoch 100, Train Loss: 0.7214\n"
     ]
    },
    {
     "data": {
      "text/plain": [
       "<Figure size 800x500 with 1 Axes>"
      ],
      "image/png": "[encoded data removed]"
     },
     "metadata": {},
     "output_type": "display_data"
    }
   ],
   "execution_count": 21
  },
  {
   "metadata": {},
   "cell_type": "markdown",
   "source": "## Метрики классификации",
   "id": "361413a35b901eaf"
  },
  {
   "metadata": {
    "ExecuteTime": {
     "end_time": "2025-06-14T14:24:47.216403Z",
     "start_time": "2025-06-14T14:24:47.082291Z"
    }
   },
   "cell_type": "code",
   "source": [
    "from sklearn.metrics import accuracy_score, classification_report\n",
    "\n",
    "model.eval()\n",
    "all_preds = []\n",
    "all_true = []\n",
    "\n",
    "with torch.no_grad():\n",
    "    for xb, yb in test_loader:\n",
    "        xb = xb.to(device)\n",
    "        yb = yb.numpy()\n",
    "\n",
    "        outputs = model(xb)\n",
    "        pred_labels = outputs.argmax(dim=1).cpu().numpy()\n",
    "\n",
    "        all_preds.extend(pred_labels)\n",
    "        all_true.extend(yb)\n",
    "\n",
    "acc = accuracy_score(all_true, all_preds)\n",
    "report = classification_report(all_true, all_preds)\n",
    "\n",
    "print(f\"Test Accuracy: {acc:.4f}\")\n",
    "print(\"Classification Report:\")\n",
    "print(report)"
   ],
   "id": "cdd44927ff2227d",
   "outputs": [
    {
     "name": "stdout",
     "output_type": "stream",
     "text": [
      "Test Accuracy: 0.6121\n",
      "Classification Report:\n",
      "              precision    recall  f1-score   support\n",
      "\n",
      "           0       0.35      0.21      0.26        38\n",
      "           1       0.67      0.73      0.70       294\n",
      "           2       0.00      0.00      0.00         8\n",
      "           3       0.55      0.53      0.54       191\n",
      "\n",
      "    accuracy                           0.61       531\n",
      "   macro avg       0.39      0.37      0.38       531\n",
      "weighted avg       0.59      0.61      0.60       531\n",
      "\n"
     ]
    }
   ],
   "execution_count": 22
  },
  {
   "metadata": {
    "ExecuteTime": {
     "end_time": "2025-06-14T14:24:47.237576Z",
     "start_time": "2025-06-14T14:24:47.235175Z"
    }
   },
   "cell_type": "code",
   "source": "label2id",
   "id": "3459f62a2fdd99fe",
   "outputs": [
    {
     "data": {
      "text/plain": [
       "{'hat/mudr/cacta': 0, 'line/l1': 1, 'helitron': 2, 'gypsy/copia': 3}"
      ]
     },
     "execution_count": 23,
     "metadata": {},
     "output_type": "execute_result"
    }
   ],
   "execution_count": 23
  }
 ],
 "metadata": {
  "kernelspec": {
   "display_name": "Python 3",
   "language": "python",
   "name": "python3"
  },
  "language_info": {
   "codemirror_mode": {
    "name": "ipython",
    "version": 2
   },
   "file_extension": ".py",
   "mimetype": "text/x-python",
   "name": "python",
   "nbconvert_exporter": "python",
   "pygments_lexer": "ipython2",
   "version": "2.7.6"
  }
 },
 "nbformat": 4,
 "nbformat_minor": 5
}
