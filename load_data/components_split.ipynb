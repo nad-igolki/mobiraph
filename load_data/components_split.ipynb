{
 "cells": [
  {
   "cell_type": "code",
   "id": "initial_id",
   "metadata": {
    "collapsed": true,
    "ExecuteTime": {
     "end_time": "2024-12-23T23:38:46.954806Z",
     "start_time": "2024-12-23T23:38:46.292728Z"
    }
   },
   "source": [
    "import networkx as nx\n",
    "import matplotlib.pyplot as plt\n",
    "from collections import Counter\n",
    "import pandas as pd\n",
    "import os\n",
    "import pickle"
   ],
   "outputs": [],
   "execution_count": 1
  },
  {
   "metadata": {
    "ExecuteTime": {
     "end_time": "2024-12-23T23:38:46.962172Z",
     "start_time": "2024-12-23T23:38:46.959825Z"
    }
   },
   "cell_type": "code",
   "source": "os.chdir('..')",
   "id": "cb9c74d5ba16aa10",
   "outputs": [],
   "execution_count": 2
  },
  {
   "metadata": {
    "ExecuteTime": {
     "end_time": "2024-12-23T23:38:46.993150Z",
     "start_time": "2024-12-23T23:38:46.991546Z"
    }
   },
   "cell_type": "code",
   "source": [
    "filenames_graph_full = ['data_arab/graph_collapse.txt', 'data_juncea/graph_collapse_b_juncea_full.txt', 'data_nigra/graph_collapse_b_nigra.txt', 'data_rapa/graph_collapse_b_rapa.txt']\n",
    "filenames_graph_node_traits = ['data_arab/graph_collapse_node_traits_2.txt', 'data_juncea/graph_collapse_node_traits_b_juncea_full.txt', 'data_nigra/graph_collapse_node_traits_b_nigra.txt', 'data_rapa/graph_collapse_node_traits_b_rapa.txt']\n",
    "names = ['arab', 'juncea', 'nigra', 'rapa']"
   ],
   "id": "c727c48f5c3097a8",
   "outputs": [],
   "execution_count": 3
  },
  {
   "metadata": {
    "ExecuteTime": {
     "end_time": "2024-12-23T23:38:47.003873Z",
     "start_time": "2024-12-23T23:38:46.999831Z"
    }
   },
   "cell_type": "code",
   "source": [
    "def load_info(filename_graph, filename_node_traits, name):\n",
    "    G = nx.Graph()\n",
    "    \n",
    "    # Загрузка графа\n",
    "    with open(filename_graph, 'r') as file:\n",
    "        for line in file:\n",
    "            node1, node2 = line.strip().split()\n",
    "            G.add_edge(node1, node2)\n",
    "    \n",
    "    # Загрузка информации о вершинах\n",
    "    df = pd.read_csv(filename_node_traits, delimiter='\\t')\n",
    "    df['fam'] = df['fam'].replace(['LTR/Copia', 'LTR/Gypsy'], 'LTR')\n",
    "    \n",
    "    node_family_dict = df.set_index('node')['fam'].to_dict()\n",
    "    node_freq_dict = df.set_index('node')['cnt'].to_dict()\n",
    "    unique_fams = set(node_family_dict.values())\n",
    "    # print(f\"Number of unique families: {len(unique_fams)}\")\n",
    "    \n",
    "    # Находим компоненты связности\n",
    "    components = list(nx.connected_components(G))\n",
    "    filtered_components = []\n",
    "    for component in components:\n",
    "        if len(component) >= 4:\n",
    "            filtered_components.append(component)\n",
    "    largest_component = max(components, key=len)\n",
    "    \n",
    "    # Создаем подграфы\n",
    "    G_largest_component = G.subgraph(largest_component)\n",
    "    G_small_components = G.copy()\n",
    "    \n",
    "    # Удаляем вершины крупнейшей компоненты из исходного графа\n",
    "    for node in largest_component:\n",
    "        G_small_components.remove_node(node)\n",
    "    \n",
    "    # print(f\"Number of components: {len(components) - 1}\")\n",
    "    \n",
    "    # Создание директории для сохранения данных, если она еще не существует\n",
    "    output_dir = 'data'\n",
    "    if not os.path.exists(output_dir):\n",
    "        os.makedirs(output_dir)\n",
    "    \n",
    "    # Сохраняем данные в pickle файл\n",
    "    data_filename = os.path.join(output_dir, f'data_{name}.pkl')\n",
    "    if not os.path.exists(data_filename):\n",
    "        with open(data_filename, 'wb') as f:\n",
    "            pickle.dump({\n",
    "                'graph': G,\n",
    "                'largest_component': G_largest_component,\n",
    "                'small_components': G_small_components,\n",
    "                'node_family_dict': node_family_dict,\n",
    "                'node_freq_dict': node_freq_dict,\n",
    "                'unique_fams': unique_fams\n",
    "            }, f)\n",
    "    \n",
    "    return G_largest_component, G_small_components, node_family_dict, node_freq_dict, unique_fams\n"
   ],
   "id": "7ca5dddb4f0f51b0",
   "outputs": [],
   "execution_count": 4
  },
  {
   "metadata": {
    "ExecuteTime": {
     "end_time": "2024-12-23T23:38:47.596391Z",
     "start_time": "2024-12-23T23:38:47.009884Z"
    }
   },
   "cell_type": "code",
   "source": [
    "for i, (filename_graph, filename_node_traits) in enumerate(zip(filenames_graph_full, filenames_graph_node_traits)):\n",
    "    name = names[i]\n",
    "\n",
    "    G_largest_component, G_small_components, node_family_dict, node_freq_dict, unique_fams = load_info(\n",
    "        filename_graph, filename_node_traits, name\n",
    "    )  \n",
    "    print(f\"Finished processing {name}\")"
   ],
   "id": "acd06eb03aac9d48",
   "outputs": [
    {
     "name": "stdout",
     "output_type": "stream",
     "text": [
      "Finished processing arab\n",
      "Finished processing juncea\n",
      "Finished processing nigra\n",
      "Finished processing rapa\n"
     ]
    }
   ],
   "execution_count": 5
  }
 ],
 "metadata": {
  "kernelspec": {
   "display_name": "Python 3",
   "language": "python",
   "name": "python3"
  },
  "language_info": {
   "codemirror_mode": {
    "name": "ipython",
    "version": 2
   },
   "file_extension": ".py",
   "mimetype": "text/x-python",
   "name": "python",
   "nbconvert_exporter": "python",
   "pygments_lexer": "ipython2",
   "version": "2.7.6"
  }
 },
 "nbformat": 4,
 "nbformat_minor": 5
}
