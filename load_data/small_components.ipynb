{
 "cells": [
  {
   "metadata": {
    "ExecuteTime": {
     "end_time": "2024-12-23T23:38:56.884325Z",
     "start_time": "2024-12-23T23:38:56.797253Z"
    }
   },
   "cell_type": "code",
   "source": [
    "import os\n",
    "import pickle\n",
    "import networkx as nx"
   ],
   "id": "f50f4b4a9611f93e",
   "outputs": [],
   "execution_count": 1
  },
  {
   "metadata": {
    "ExecuteTime": {
     "end_time": "2024-12-23T23:38:57.055893Z",
     "start_time": "2024-12-23T23:38:56.887154Z"
    }
   },
   "cell_type": "code",
   "source": "from funcs.find_families import find_families",
   "id": "218682b5ee809a60",
   "outputs": [],
   "execution_count": 2
  },
  {
   "metadata": {},
   "cell_type": "markdown",
   "source": "Загружаем данные",
   "id": "b4f77556087cd342"
  },
  {
   "metadata": {
    "ExecuteTime": {
     "end_time": "2024-12-23T23:38:57.084885Z",
     "start_time": "2024-12-23T23:38:57.083290Z"
    }
   },
   "cell_type": "code",
   "source": "os.chdir('..')",
   "id": "442332e22c6cda17",
   "outputs": [],
   "execution_count": 3
  },
  {
   "cell_type": "code",
   "id": "initial_id",
   "metadata": {
    "collapsed": true,
    "ExecuteTime": {
     "end_time": "2024-12-23T23:38:57.096805Z",
     "start_time": "2024-12-23T23:38:57.094645Z"
    }
   },
   "source": "names = ['arab', 'juncea', 'nigra', 'rapa']",
   "outputs": [],
   "execution_count": 4
  },
  {
   "metadata": {
    "ExecuteTime": {
     "end_time": "2024-12-23T23:38:57.110017Z",
     "start_time": "2024-12-23T23:38:57.108141Z"
    }
   },
   "cell_type": "code",
   "source": [
    "G_all = {}\n",
    "G_small_components_all = {}\n",
    "node_family_dict_all = {}"
   ],
   "id": "be9742e72345ca01",
   "outputs": [],
   "execution_count": 5
  },
  {
   "metadata": {
    "ExecuteTime": {
     "end_time": "2024-12-23T23:38:57.228114Z",
     "start_time": "2024-12-23T23:38:57.115328Z"
    }
   },
   "cell_type": "code",
   "source": [
    "for name in names:\n",
    "    pickle_filename = os.path.join('data', f'data_{name}.pkl')\n",
    "    \n",
    "    if os.path.exists(pickle_filename):\n",
    "        try:\n",
    "            with open(pickle_filename, 'rb') as f:\n",
    "                data = pickle.load(f)\n",
    "            \n",
    "            G = data['graph']\n",
    "            G_small_components = data['small_components']\n",
    "            node_family_dict = data['node_family_dict']\n",
    "            \n",
    "            G_all[name] = G\n",
    "            G_small_components_all[name] = G_small_components\n",
    "            node_family_dict_all[name] = node_family_dict\n",
    "            \n",
    "            print(f\"Loaded data for {name}\")\n",
    "            print(f\"Graph has {len(G_small_components.nodes())} nodes and {len(G_small_components.edges())} edges.\")\n",
    "                    \n",
    "        except Exception as e:\n",
    "            print(f\"Error loading {name}: {e}\")\n",
    "    else:\n",
    "        print(f\"File for {name} not found.\")"
   ],
   "id": "7348fdf32291c94b",
   "outputs": [
    {
     "name": "stdout",
     "output_type": "stream",
     "text": [
      "Loaded data for arab\n",
      "Graph has 2976 nodes and 2351 edges.\n",
      "Loaded data for juncea\n",
      "Graph has 10798 nodes and 7894 edges.\n",
      "Loaded data for nigra\n",
      "Graph has 2189 nodes and 1688 edges.\n",
      "Loaded data for rapa\n",
      "Graph has 3666 nodes and 2712 edges.\n"
     ]
    }
   ],
   "execution_count": 6
  },
  {
   "metadata": {},
   "cell_type": "markdown",
   "source": "Получаем и сохраняем метки",
   "id": "4b2cfeed8f093017"
  },
  {
   "metadata": {
    "ExecuteTime": {
     "end_time": "2024-12-23T23:38:57.370575Z",
     "start_time": "2024-12-23T23:38:57.306092Z"
    }
   },
   "cell_type": "code",
   "source": [
    "name = 'arab'\n",
    "component_nodes = list(nx.connected_components(G_small_components_all[name]))\n",
    "component_nodes_wo_nan, families = find_families(component_nodes, node_family_dict_all[name])\n",
    "data_filename = os.path.join('data', f'small_components_families_{name}.pkl')\n",
    "if not os.path.exists(data_filename):\n",
    "    with open(data_filename, 'wb') as f:\n",
    "        pickle.dump({\n",
    "            'components': component_nodes_wo_nan,\n",
    "            'families': families,\n",
    "        }, f)\n",
    "\n",
    "for name in names:\n",
    "    component_nodes = list(nx.connected_components(G_small_components_all[name]))\n",
    "    component_nodes_wo_nan, families = find_families(component_nodes, node_family_dict_all[name], pass_nans=False)\n",
    "    data_filename = os.path.join('data', f'small_components_families_{name}.pkl')\n",
    "    if not os.path.exists(data_filename):\n",
    "        with open(data_filename, 'wb') as f:\n",
    "            pickle.dump({\n",
    "                'components': component_nodes,\n",
    "                'families': families,\n",
    "            }, f)"
   ],
   "id": "4bc0c16c2e416f19",
   "outputs": [],
   "execution_count": 7
  }
 ],
 "metadata": {
  "kernelspec": {
   "display_name": "Python 3",
   "language": "python",
   "name": "python3"
  },
  "language_info": {
   "codemirror_mode": {
    "name": "ipython",
    "version": 2
   },
   "file_extension": ".py",
   "mimetype": "text/x-python",
   "name": "python",
   "nbconvert_exporter": "python",
   "pygments_lexer": "ipython2",
   "version": "2.7.6"
  }
 },
 "nbformat": 4,
 "nbformat_minor": 5
}
