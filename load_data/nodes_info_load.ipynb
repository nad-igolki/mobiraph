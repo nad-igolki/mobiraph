{
 "cells": [
  {
   "metadata": {
    "ExecuteTime": {
     "end_time": "2024-12-23T23:42:52.472962Z",
     "start_time": "2024-12-23T23:42:52.272600Z"
    }
   },
   "cell_type": "code",
   "source": [
    "import os\n",
    "import pandas as pd\n",
    "import pickle"
   ],
   "id": "93f0ff4b38ed2790",
   "outputs": [],
   "execution_count": 1
  },
  {
   "metadata": {
    "ExecuteTime": {
     "end_time": "2024-12-23T23:42:52.479209Z",
     "start_time": "2024-12-23T23:42:52.476230Z"
    }
   },
   "cell_type": "code",
   "source": "from funcs.parsing import parse_fasta",
   "id": "8148f6776b572f",
   "outputs": [],
   "execution_count": 2
  },
  {
   "cell_type": "code",
   "id": "initial_id",
   "metadata": {
    "collapsed": true,
    "ExecuteTime": {
     "end_time": "2024-12-23T23:42:52.514750Z",
     "start_time": "2024-12-23T23:42:52.512362Z"
    }
   },
   "source": "os.chdir('..')",
   "outputs": [],
   "execution_count": 3
  },
  {
   "metadata": {
    "ExecuteTime": {
     "end_time": "2024-12-23T23:42:52.531111Z",
     "start_time": "2024-12-23T23:42:52.529211Z"
    }
   },
   "cell_type": "code",
   "source": "names = ['arab', 'juncea', 'nigra', 'rapa']",
   "id": "21015c2321afe84",
   "outputs": [],
   "execution_count": 4
  },
  {
   "metadata": {
    "ExecuteTime": {
     "end_time": "2024-12-23T23:42:52.540837Z",
     "start_time": "2024-12-23T23:42:52.538751Z"
    }
   },
   "cell_type": "code",
   "source": [
    "filenames_names = ['data_arab/graph_collapse_nodes_2.txt', 'data_juncea/graph_collapse_nodes_b_juncea_full.txt', 'data_nigra/graph_collapse_nodes_b_nigra.txt', 'data_rapa/graph_collapse_nodes_b_rapa.txt']\n",
    "filenames_fasta = ['data_arab/sv_pangen_seq_sv_big.fasta', 'data_juncea/seq_sv_big.fasta', 'data_nigra/seq_sv_big_b_nigra.fasta', 'data_rapa/seq_sv_big_b_rapa.fasta']\n",
    "\n",
    "output_dir = 'data'"
   ],
   "id": "b0d570b91792f5c2",
   "outputs": [],
   "execution_count": 5
  },
  {
   "metadata": {
    "ExecuteTime": {
     "end_time": "2024-12-23T23:42:52.549158Z",
     "start_time": "2024-12-23T23:42:52.546272Z"
    }
   },
   "cell_type": "code",
   "source": [
    "def load_info(filename_name, filename_fasta, name):\n",
    "    node2name = pd.read_csv(filename_name, sep='\\t')\n",
    "    node2name = node2name.drop_duplicates(subset=['node'], keep='first')\n",
    "    node2name_dict = node2name.set_index('node')['name'].to_dict()\n",
    "    \n",
    "    fasta_file_path = filename_fasta\n",
    "    name2seq = parse_fasta(fasta_file_path)\n",
    "    \n",
    "    # Сохраняем данные в pickle файл\n",
    "    data_filename = os.path.join(output_dir, f'dicts_{name}.pkl')\n",
    "    if not os.path.exists(data_filename):\n",
    "        with open(data_filename, 'wb') as f:\n",
    "            pickle.dump({\n",
    "                'node2name_dict': node2name_dict,\n",
    "                'name2seq': name2seq\n",
    "            }, f)\n",
    "    \n",
    "    return node2name_dict, name2seq\n"
   ],
   "id": "9aecd80712329f2e",
   "outputs": [],
   "execution_count": 6
  },
  {
   "metadata": {
    "ExecuteTime": {
     "end_time": "2024-12-23T23:42:53.850824Z",
     "start_time": "2024-12-23T23:42:52.556988Z"
    }
   },
   "cell_type": "code",
   "source": [
    "for i, (filename_name, filename_fasta) in enumerate(zip(filenames_names, filenames_fasta)):\n",
    "    name = names[i]\n",
    "\n",
    "    node2name_dict, name2seq = load_info(\n",
    "        filename_name, filename_fasta, name\n",
    "    )  \n",
    "    print(f\"Finished processing {name}\")"
   ],
   "id": "bc7ec3a98a13120b",
   "outputs": [
    {
     "name": "stdout",
     "output_type": "stream",
     "text": [
      "Finished processing arab\n",
      "Finished processing juncea\n",
      "Finished processing nigra\n",
      "Finished processing rapa\n"
     ]
    }
   ],
   "execution_count": 7
  }
 ],
 "metadata": {
  "kernelspec": {
   "display_name": "Python 3",
   "language": "python",
   "name": "python3"
  },
  "language_info": {
   "codemirror_mode": {
    "name": "ipython",
    "version": 2
   },
   "file_extension": ".py",
   "mimetype": "text/x-python",
   "name": "python",
   "nbconvert_exporter": "python",
   "pygments_lexer": "ipython2",
   "version": "2.7.6"
  }
 },
 "nbformat": 4,
 "nbformat_minor": 5
}
