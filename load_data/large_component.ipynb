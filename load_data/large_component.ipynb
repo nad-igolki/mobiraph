{
 "cells": [
  {
   "cell_type": "code",
   "id": "initial_id",
   "metadata": {
    "collapsed": true,
    "ExecuteTime": {
     "end_time": "2024-12-23T23:39:08.390899Z",
     "start_time": "2024-12-23T23:39:08.384528Z"
    }
   },
   "source": [
    "import os\n",
    "import pickle"
   ],
   "outputs": [],
   "execution_count": 1
  },
  {
   "metadata": {
    "ExecuteTime": {
     "end_time": "2024-12-23T23:39:09.048199Z",
     "start_time": "2024-12-23T23:39:08.393687Z"
    }
   },
   "cell_type": "code",
   "source": [
    "from funcs.community_detection_funcs import community_detection_recursive_with_limit\n",
    "from funcs.find_families import find_families"
   ],
   "id": "6ce42e4a63cedb1a",
   "outputs": [],
   "execution_count": 2
  },
  {
   "metadata": {
    "ExecuteTime": {
     "end_time": "2024-12-23T23:39:09.083598Z",
     "start_time": "2024-12-23T23:39:09.081262Z"
    }
   },
   "cell_type": "code",
   "source": "os.chdir('..')",
   "id": "23113bd623f474d8",
   "outputs": [],
   "execution_count": 3
  },
  {
   "metadata": {
    "ExecuteTime": {
     "end_time": "2024-12-23T23:39:09.093159Z",
     "start_time": "2024-12-23T23:39:09.090890Z"
    }
   },
   "cell_type": "code",
   "source": "names = ['arab', 'juncea', 'nigra', 'rapa']",
   "id": "b90f7d5f419dad43",
   "outputs": [],
   "execution_count": 4
  },
  {
   "metadata": {
    "ExecuteTime": {
     "end_time": "2024-12-23T23:39:09.109588Z",
     "start_time": "2024-12-23T23:39:09.105772Z"
    }
   },
   "cell_type": "code",
   "source": [
    "G_all = {}\n",
    "G_largest_component_all = {}\n",
    "node_family_dict_all = {}"
   ],
   "id": "8fc4db621f9bbad9",
   "outputs": [],
   "execution_count": 5
  },
  {
   "metadata": {
    "ExecuteTime": {
     "end_time": "2024-12-23T23:39:09.458625Z",
     "start_time": "2024-12-23T23:39:09.117028Z"
    }
   },
   "cell_type": "code",
   "source": [
    "for name in names:\n",
    "    pickle_filename = os.path.join('data', f'data_{name}.pkl')\n",
    "    \n",
    "    if os.path.exists(pickle_filename):\n",
    "        try:\n",
    "            with open(pickle_filename, 'rb') as f:\n",
    "                data = pickle.load(f)\n",
    "            \n",
    "            G = data['graph']\n",
    "            G_largest_component = data['largest_component']\n",
    "            node_family_dict = data['node_family_dict']\n",
    "            \n",
    "            G_all[name] = G\n",
    "            G_largest_component_all[name] = G_largest_component\n",
    "            node_family_dict_all[name] = node_family_dict\n",
    "            \n",
    "            print(f\"Loaded data for {name}\")\n",
    "            print(f\"Graph has {len(G_largest_component.nodes())} nodes and {len(G_largest_component.edges())} edges.\")\n",
    "                    \n",
    "        except Exception as e:\n",
    "            print(f\"Error loading {name}: {e}\")\n",
    "    else:\n",
    "        print(f\"File for {name} not found.\")"
   ],
   "id": "4041e94c3de34c3f",
   "outputs": [
    {
     "name": "stdout",
     "output_type": "stream",
     "text": [
      "Loaded data for arab\n",
      "Graph has 2125 nodes and 2871 edges.\n",
      "Loaded data for juncea\n",
      "Graph has 43073 nodes and 79813 edges.\n",
      "Loaded data for nigra\n",
      "Graph has 31 nodes and 32 edges.\n",
      "Loaded data for rapa\n",
      "Graph has 18 nodes and 17 edges.\n"
     ]
    }
   ],
   "execution_count": 6
  },
  {
   "metadata": {},
   "cell_type": "markdown",
   "source": "Разбиваем на компоненты поменьше и находим метки для них",
   "id": "968b2f8b68925687"
  },
  {
   "metadata": {
    "ExecuteTime": {
     "end_time": "2024-12-23T23:39:09.642422Z",
     "start_time": "2024-12-23T23:39:09.591113Z"
    }
   },
   "cell_type": "code",
   "source": [
    "name = 'arab'\n",
    "clusters_dict = community_detection_recursive_with_limit(G_largest_component_all[name], max_size=20, max_depth=5)\n",
    "clusters = list(clusters_dict.values())\n",
    "clusters_wo_nan, families = find_families(clusters, node_family_dict_all[name])\n",
    "data_filename = os.path.join('data', f'largest_component_clusters_{name}.pkl')\n",
    "if not os.path.exists(data_filename):\n",
    "    with open(data_filename, 'wb') as f:\n",
    "        pickle.dump({\n",
    "            'clusters': clusters_wo_nan,\n",
    "            'families': families,\n",
    "        }, f)"
   ],
   "id": "cff39b60fce387af",
   "outputs": [],
   "execution_count": 7
  },
  {
   "metadata": {
    "ExecuteTime": {
     "end_time": "2024-12-23T23:39:11.261168Z",
     "start_time": "2024-12-23T23:39:09.772460Z"
    }
   },
   "cell_type": "code",
   "source": [
    "for name in names[1:]:\n",
    "    clusters_dict = community_detection_recursive_with_limit(G_largest_component_all[name], max_size=20, max_depth=5)\n",
    "    clusters = list(clusters_dict.values())\n",
    "    clusters_wo_nan, families = find_families(clusters, node_family_dict_all[name], pass_nans=False)\n",
    "    data_filename = os.path.join('data', f'largest_component_clusters_{name}.pkl')\n",
    "    if not os.path.exists(data_filename):\n",
    "        with open(data_filename, 'wb') as f:\n",
    "            pickle.dump({\n",
    "                'clusters': clusters_wo_nan,\n",
    "                'families': families,\n",
    "            }, f)"
   ],
   "id": "ca32db6679d9c3b0",
   "outputs": [],
   "execution_count": 8
  }
 ],
 "metadata": {
  "kernelspec": {
   "display_name": "Python 3",
   "language": "python",
   "name": "python3"
  },
  "language_info": {
   "codemirror_mode": {
    "name": "ipython",
    "version": 2
   },
   "file_extension": ".py",
   "mimetype": "text/x-python",
   "name": "python",
   "nbconvert_exporter": "python",
   "pygments_lexer": "ipython2",
   "version": "2.7.6"
  }
 },
 "nbformat": 4,
 "nbformat_minor": 5
}
