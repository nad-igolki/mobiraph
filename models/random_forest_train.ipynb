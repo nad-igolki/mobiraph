{
 "cells": [
  {
   "metadata": {
    "ExecuteTime": {
     "end_time": "2024-12-24T16:42:39.189146Z",
     "start_time": "2024-12-24T16:42:39.185410Z"
    }
   },
   "cell_type": "code",
   "source": [
    "from sklearn.model_selection import cross_val_predict\n",
    "from sklearn.metrics import classification_report\n",
    "from sklearn.ensemble import RandomForestClassifier\n",
    "import pandas as pd\n",
    "import numpy as np\n",
    "import os\n",
    "import pickle"
   ],
   "id": "ca1ddc2ee7661d7a",
   "outputs": [],
   "execution_count": 5
  },
  {
   "metadata": {},
   "cell_type": "markdown",
   "source": "# Загрузка данных",
   "id": "6812bc37954ccabe"
  },
  {
   "metadata": {
    "ExecuteTime": {
     "end_time": "2024-12-24T16:42:39.197113Z",
     "start_time": "2024-12-24T16:42:39.194698Z"
    }
   },
   "cell_type": "code",
   "source": "os.chdir('..')",
   "id": "cafe8f0c5f1b82",
   "outputs": [],
   "execution_count": 6
  },
  {
   "metadata": {
    "ExecuteTime": {
     "end_time": "2024-12-24T16:42:39.221230Z",
     "start_time": "2024-12-24T16:42:39.206288Z"
    }
   },
   "cell_type": "code",
   "source": [
    "data_filename = os.path.join('data', f'X_y_characteristics.pkl')\n",
    "\n",
    "X = None\n",
    "y = None\n",
    "\n",
    "if os.path.exists(data_filename):\n",
    "    with open(data_filename, 'rb') as f:\n",
    "        data = pickle.load(f)\n",
    "    \n",
    "    X = data['X']\n",
    "    y = data['y']\n",
    "\n",
    "X = np.array(X)\n",
    "y = np.array(y)"
   ],
   "id": "a1ee47da1aeb5a73",
   "outputs": [],
   "execution_count": 7
  },
  {
   "metadata": {
    "ExecuteTime": {
     "end_time": "2024-12-24T16:42:39.232443Z",
     "start_time": "2024-12-24T16:42:39.228689Z"
    }
   },
   "cell_type": "code",
   "source": [
    "from collections import Counter\n",
    "counter = Counter(y)\n",
    "counter"
   ],
   "id": "ddd41e53249be35b",
   "outputs": [
    {
     "data": {
      "text/plain": [
       "Counter({'LTR': 212,\n",
       "         'nan': 178,\n",
       "         'Helitron': 170,\n",
       "         'DNA/MuDR': 130,\n",
       "         'LINE': 113,\n",
       "         'DNA+': 87,\n",
       "         'TEG': 35,\n",
       "         'DNA/HAT': 27,\n",
       "         'Mix': 22,\n",
       "         'Mix with Helitron': 18,\n",
       "         'Unassigned': 16,\n",
       "         'RathE1/2/3_cons': 7,\n",
       "         'SINE': 7})"
      ]
     },
     "execution_count": 8,
     "metadata": {},
     "output_type": "execute_result"
    }
   ],
   "execution_count": 8
  },
  {
   "metadata": {},
   "cell_type": "markdown",
   "source": "Фильтруем, берем только те, которых много.",
   "id": "a8624e20d6ab8605"
  },
  {
   "metadata": {
    "ExecuteTime": {
     "end_time": "2024-12-24T16:42:39.307898Z",
     "start_time": "2024-12-24T16:42:39.304877Z"
    }
   },
   "cell_type": "code",
   "source": [
    "families_to_filter = ['LTR', 'Helitron', 'DNA/MuDR', 'LINE']\n",
    "\n",
    "indices = np.isin(y, families_to_filter)\n",
    "\n",
    "X_filtered = X[indices]\n",
    "y_filtered = y[indices]"
   ],
   "id": "d4987579a74f93ff",
   "outputs": [],
   "execution_count": 9
  },
  {
   "metadata": {},
   "cell_type": "markdown",
   "source": "Делаем равномерные классы",
   "id": "9f31e0e40b46da6c"
  },
  {
   "metadata": {
    "ExecuteTime": {
     "end_time": "2024-12-24T16:42:39.322172Z",
     "start_time": "2024-12-24T16:42:39.319413Z"
    }
   },
   "cell_type": "code",
   "source": [
    "def balance_classes(X, y):\n",
    "    X = np.array(X)\n",
    "    y = np.array(y)\n",
    "    # Определяем количество элементов в каждом классе\n",
    "    class_counts = Counter(y)\n",
    "    min_count = min(class_counts.values())\n",
    "\n",
    "    # Собираем индексы для каждого класса\n",
    "    indices_by_class = {cls: np.where(y == cls)[0] for cls in class_counts}\n",
    "\n",
    "    # Оставляем только min_count элементов для каждого класса\n",
    "    balanced_indices = []\n",
    "    for cls, indices in indices_by_class.items():\n",
    "        balanced_indices.extend(indices[:min_count])\n",
    "\n",
    "    np.random.shuffle(balanced_indices)\n",
    "\n",
    "    X_balanced = X[balanced_indices]\n",
    "    y_balanced = y[balanced_indices]\n",
    "\n",
    "    return X_balanced, y_balanced"
   ],
   "id": "7e3e80c01b2457fe",
   "outputs": [],
   "execution_count": 10
  },
  {
   "metadata": {
    "ExecuteTime": {
     "end_time": "2024-12-24T16:42:39.334336Z",
     "start_time": "2024-12-24T16:42:39.331077Z"
    }
   },
   "cell_type": "code",
   "source": "X_balanced, y_balanced = balance_classes(X_filtered, y_filtered)",
   "id": "bcb60d6df40ffc23",
   "outputs": [],
   "execution_count": 11
  },
  {
   "metadata": {
    "ExecuteTime": {
     "end_time": "2024-12-24T16:42:39.345267Z",
     "start_time": "2024-12-24T16:42:39.342544Z"
    }
   },
   "cell_type": "code",
   "source": "X_balanced.shape",
   "id": "aff14230dea09ea9",
   "outputs": [
    {
     "data": {
      "text/plain": [
       "(452, 109)"
      ]
     },
     "execution_count": 12,
     "metadata": {},
     "output_type": "execute_result"
    }
   ],
   "execution_count": 12
  },
  {
   "metadata": {
    "ExecuteTime": {
     "end_time": "2024-12-24T16:42:39.369077Z",
     "start_time": "2024-12-24T16:42:39.366851Z"
    }
   },
   "cell_type": "code",
   "source": "y_balanced.shape",
   "id": "df2e3190407fca6d",
   "outputs": [
    {
     "data": {
      "text/plain": [
       "(452,)"
      ]
     },
     "execution_count": 13,
     "metadata": {},
     "output_type": "execute_result"
    }
   ],
   "execution_count": 13
  },
  {
   "cell_type": "code",
   "id": "initial_id",
   "metadata": {
    "collapsed": true,
    "ExecuteTime": {
     "end_time": "2024-12-24T16:42:40.045184Z",
     "start_time": "2024-12-24T16:42:39.379493Z"
    }
   },
   "source": [
    "clf = RandomForestClassifier(random_state=42)\n",
    "\n",
    "# Кросс-валидация\n",
    "y_pred_cv = cross_val_predict(clf, X_balanced, y_balanced, cv=5)\n",
    "\n",
    "# Результат\n",
    "print(classification_report(y_balanced, y_pred_cv))\n",
    "\n",
    "# Таблица сопряженности\n",
    "data_cv = pd.DataFrame({'1': y_balanced, '2': y_pred_cv})\n",
    "contingency_table_cv = pd.crosstab(data_cv['1'], data_cv['2'])\n",
    "\n",
    "print(contingency_table_cv)"
   ],
   "outputs": [
    {
     "name": "stdout",
     "output_type": "stream",
     "text": [
      "              precision    recall  f1-score   support\n",
      "\n",
      "    DNA/MuDR       0.64      0.66      0.65       113\n",
      "    Helitron       0.70      0.67      0.68       113\n",
      "        LINE       0.71      0.79      0.75       113\n",
      "         LTR       0.84      0.74      0.79       113\n",
      "\n",
      "    accuracy                           0.72       452\n",
      "   macro avg       0.72      0.72      0.72       452\n",
      "weighted avg       0.72      0.72      0.72       452\n",
      "\n",
      "2         DNA/MuDR  Helitron  LINE  LTR\n",
      "1                                      \n",
      "DNA/MuDR        75        24     8    6\n",
      "Helitron        20        76    13    4\n",
      "LINE            14         4    89    6\n",
      "LTR              9         5    15   84\n"
     ]
    }
   ],
   "execution_count": 14
  },
  {
   "metadata": {
    "ExecuteTime": {
     "end_time": "2024-12-24T16:42:40.202485Z",
     "start_time": "2024-12-24T16:42:40.055882Z"
    }
   },
   "cell_type": "code",
   "source": [
    "clf = RandomForestClassifier(random_state=42)\n",
    "clf.fit(X_balanced, y_balanced)\n",
    "# Сохранение модели\n",
    "file_path = 'models_files/random_forest_balanced_01.pkl'\n",
    "if not os.path.exists(file_path):\n",
    "    with open(file_path, 'wb') as f:  \n",
    "        pickle.dump(clf, f)\n",
    "    print(\"Завершено\")"
   ],
   "id": "baa39dd1c9f92e94",
   "outputs": [],
   "execution_count": 15
  },
  {
   "metadata": {
    "ExecuteTime": {
     "end_time": "2024-12-24T16:42:40.214435Z",
     "start_time": "2024-12-24T16:42:40.211502Z"
    }
   },
   "cell_type": "code",
   "source": [
    "def load(file_path):  \n",
    "    data_filename = os.path.join('data', file_path)\n",
    "    \n",
    "    X = None\n",
    "    y = None\n",
    "    \n",
    "    if os.path.exists(data_filename):\n",
    "        with open(data_filename, 'rb') as f:\n",
    "            data = pickle.load(f)\n",
    "    \n",
    "        X = data['X']\n",
    "        y = data['y']\n",
    "    \n",
    "    X = np.array(X)\n",
    "    y = np.array(y)\n",
    "    \n",
    "    indices = np.isin(y, families_to_filter)\n",
    "    \n",
    "    X_filtered = X[indices]\n",
    "    y_filtered = y[indices]\n",
    "    \n",
    "    X_balanced, y_balanced = balance_classes(X_filtered, y_filtered)\n",
    "    return X_balanced, y_balanced"
   ],
   "id": "18cfb50489677bb",
   "outputs": [],
   "execution_count": 16
  },
  {
   "metadata": {
    "ExecuteTime": {
     "end_time": "2024-12-24T16:42:40.628645Z",
     "start_time": "2024-12-24T16:42:40.223236Z"
    }
   },
   "cell_type": "code",
   "source": [
    "X_balanced, y_balanced = load('X_y_node2vec.pkl')\n",
    "clf = RandomForestClassifier(random_state=42)\n",
    "\n",
    "# Кросс-валидация\n",
    "y_pred_cv = cross_val_predict(clf, X_balanced, y_balanced, cv=5)\n",
    "\n",
    "# Результат\n",
    "print(classification_report(y_balanced, y_pred_cv))\n",
    "\n",
    "# Таблица сопряженности\n",
    "data_cv = pd.DataFrame({'1': y_balanced, '2': y_pred_cv})\n",
    "contingency_table_cv = pd.crosstab(data_cv['1'], data_cv['2'])\n",
    "\n",
    "print(contingency_table_cv)"
   ],
   "id": "28b9922933758b46",
   "outputs": [
    {
     "name": "stdout",
     "output_type": "stream",
     "text": [
      "              precision    recall  f1-score   support\n",
      "\n",
      "    DNA/MuDR       0.30      0.29      0.30       113\n",
      "    Helitron       0.32      0.32      0.32       113\n",
      "        LINE       0.21      0.21      0.21       113\n",
      "         LTR       0.27      0.28      0.28       113\n",
      "\n",
      "    accuracy                           0.28       452\n",
      "   macro avg       0.28      0.28      0.28       452\n",
      "weighted avg       0.28      0.28      0.28       452\n",
      "\n",
      "2         DNA/MuDR  Helitron  LINE  LTR\n",
      "1                                      \n",
      "DNA/MuDR        33        20    33   27\n",
      "Helitron        16        36    31   30\n",
      "LINE            37        24    24   28\n",
      "LTR             23        33    25   32\n"
     ]
    }
   ],
   "execution_count": 17
  },
  {
   "metadata": {
    "ExecuteTime": {
     "end_time": "2024-12-24T16:45:25.165136Z",
     "start_time": "2024-12-24T16:45:24.896317Z"
    }
   },
   "cell_type": "code",
   "source": [
    "X_balanced, y_balanced = load('X_y_arope.pkl')\n",
    "clf = RandomForestClassifier(random_state=42)\n",
    "\n",
    "# Кросс-валидация\n",
    "y_pred_cv = cross_val_predict(clf, X_balanced, y_balanced, cv=5)\n",
    "\n",
    "# Результат\n",
    "print(classification_report(y_balanced, y_pred_cv))\n",
    "\n",
    "# Таблица сопряженности\n",
    "data_cv = pd.DataFrame({'1': y_balanced, '2': y_pred_cv})\n",
    "contingency_table_cv = pd.crosstab(data_cv['1'], data_cv['2'])\n",
    "\n",
    "print(contingency_table_cv)"
   ],
   "id": "51b79f610739f84e",
   "outputs": [
    {
     "name": "stdout",
     "output_type": "stream",
     "text": [
      "              precision    recall  f1-score   support\n",
      "\n",
      "    DNA/MuDR       0.38      0.23      0.29       113\n",
      "    Helitron       0.31      0.65      0.42       113\n",
      "        LINE       0.37      0.28      0.32       113\n",
      "         LTR       0.26      0.13      0.18       113\n",
      "\n",
      "    accuracy                           0.33       452\n",
      "   macro avg       0.33      0.33      0.30       452\n",
      "weighted avg       0.33      0.33      0.30       452\n",
      "\n",
      "2         DNA/MuDR  Helitron  LINE  LTR\n",
      "1                                      \n",
      "DNA/MuDR        26        47    26   14\n",
      "Helitron        10        74    12   17\n",
      "LINE            16        53    32   12\n",
      "LTR             17        65    16   15\n"
     ]
    }
   ],
   "execution_count": 18
  },
  {
   "metadata": {
    "ExecuteTime": {
     "end_time": "2024-12-24T16:47:04.187541Z",
     "start_time": "2024-12-24T16:47:03.938176Z"
    }
   },
   "cell_type": "code",
   "source": [
    "X_balanced, y_balanced = load('X_y_laplacian_eigenmaps.pkl')\n",
    "clf = RandomForestClassifier(random_state=42)\n",
    "\n",
    "# Кросс-валидация\n",
    "y_pred_cv = cross_val_predict(clf, X_balanced, y_balanced, cv=5)\n",
    "\n",
    "# Результат\n",
    "print(classification_report(y_balanced, y_pred_cv))\n",
    "\n",
    "# Таблица сопряженности\n",
    "data_cv = pd.DataFrame({'1': y_balanced, '2': y_pred_cv})\n",
    "contingency_table_cv = pd.crosstab(data_cv['1'], data_cv['2'])\n",
    "\n",
    "print(contingency_table_cv)"
   ],
   "id": "77d143a24c6ab096",
   "outputs": [
    {
     "name": "stdout",
     "output_type": "stream",
     "text": [
      "              precision    recall  f1-score   support\n",
      "\n",
      "    DNA/MuDR       0.27      0.16      0.20       113\n",
      "    Helitron       0.31      0.79      0.45       113\n",
      "        LINE       0.47      0.24      0.32       113\n",
      "         LTR       0.22      0.09      0.13       113\n",
      "\n",
      "    accuracy                           0.32       452\n",
      "   macro avg       0.32      0.32      0.27       452\n",
      "weighted avg       0.32      0.32      0.27       452\n",
      "\n",
      "2         DNA/MuDR  Helitron  LINE  LTR\n",
      "1                                      \n",
      "DNA/MuDR        18        58    21   16\n",
      "Helitron         7        89     4   13\n",
      "LINE            20        60    27    6\n",
      "LTR             21        76     6   10\n"
     ]
    }
   ],
   "execution_count": 19
  },
  {
   "metadata": {
    "ExecuteTime": {
     "end_time": "2024-12-24T18:29:58.643933Z",
     "start_time": "2024-12-24T18:29:57.820869Z"
    }
   },
   "cell_type": "code",
   "source": [
    "X_balanced, y_balanced = load('X_y_node2vec_char.pkl')\n",
    "clf = RandomForestClassifier(random_state=42)\n",
    "\n",
    "# Кросс-валидация\n",
    "y_pred_cv = cross_val_predict(clf, X_balanced, y_balanced, cv=5)\n",
    "\n",
    "# Результат\n",
    "print(classification_report(y_balanced, y_pred_cv))\n",
    "\n",
    "# Таблица сопряженности\n",
    "data_cv = pd.DataFrame({'1': y_balanced, '2': y_pred_cv})\n",
    "contingency_table_cv = pd.crosstab(data_cv['1'], data_cv['2'])\n",
    "\n",
    "print(contingency_table_cv)"
   ],
   "id": "d8d3b296448a5a3",
   "outputs": [
    {
     "name": "stdout",
     "output_type": "stream",
     "text": [
      "              precision    recall  f1-score   support\n",
      "\n",
      "    DNA/MuDR       0.60      0.57      0.58       113\n",
      "    Helitron       0.65      0.71      0.68       113\n",
      "        LINE       0.76      0.80      0.78       113\n",
      "         LTR       0.81      0.74      0.77       113\n",
      "\n",
      "    accuracy                           0.70       452\n",
      "   macro avg       0.70      0.70      0.70       452\n",
      "weighted avg       0.70      0.70      0.70       452\n",
      "\n",
      "2         DNA/MuDR  Helitron  LINE  LTR\n",
      "1                                      \n",
      "DNA/MuDR        64        30     9   10\n",
      "Helitron        21        80     8    4\n",
      "LINE            10         7    90    6\n",
      "LTR             11         7    11   84\n"
     ]
    }
   ],
   "execution_count": 20
  }
 ],
 "metadata": {
  "kernelspec": {
   "display_name": "Python 3",
   "language": "python",
   "name": "python3"
  },
  "language_info": {
   "codemirror_mode": {
    "name": "ipython",
    "version": 2
   },
   "file_extension": ".py",
   "mimetype": "text/x-python",
   "name": "python",
   "nbconvert_exporter": "python",
   "pygments_lexer": "ipython2",
   "version": "2.7.6"
  }
 },
 "nbformat": 4,
 "nbformat_minor": 5
}
