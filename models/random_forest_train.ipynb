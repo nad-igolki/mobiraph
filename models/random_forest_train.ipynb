{
 "cells": [
  {
   "metadata": {
    "ExecuteTime": {
     "end_time": "2024-12-23T22:59:45.291971Z",
     "start_time": "2024-12-23T22:59:44.367729Z"
    }
   },
   "cell_type": "code",
   "source": [
    "from sklearn.model_selection import cross_val_predict\n",
    "from sklearn.metrics import classification_report\n",
    "from sklearn.ensemble import RandomForestClassifier\n",
    "import pandas as pd\n",
    "import numpy as np\n",
    "import os\n",
    "import pickle"
   ],
   "id": "ca1ddc2ee7661d7a",
   "outputs": [],
   "execution_count": 1
  },
  {
   "metadata": {},
   "cell_type": "markdown",
   "source": "# Загрузка данных",
   "id": "6812bc37954ccabe"
  },
  {
   "metadata": {
    "ExecuteTime": {
     "end_time": "2024-12-23T22:59:45.309972Z",
     "start_time": "2024-12-23T22:59:45.308172Z"
    }
   },
   "cell_type": "code",
   "source": "os.chdir('..')",
   "id": "cafe8f0c5f1b82",
   "outputs": [],
   "execution_count": 2
  },
  {
   "metadata": {
    "ExecuteTime": {
     "end_time": "2024-12-23T22:59:45.354701Z",
     "start_time": "2024-12-23T22:59:45.345297Z"
    }
   },
   "cell_type": "code",
   "source": [
    "data_filename = os.path.join('data', f'X_y_characteristics.pkl')\n",
    "\n",
    "X = None\n",
    "y = None\n",
    "\n",
    "if os.path.exists(data_filename):\n",
    "    with open(data_filename, 'rb') as f:\n",
    "        data = pickle.load(f)\n",
    "    \n",
    "    X = data['X']\n",
    "    y = data['y']\n",
    "\n",
    "X = np.array(X)\n",
    "y = np.array(y)"
   ],
   "id": "a1ee47da1aeb5a73",
   "outputs": [],
   "execution_count": 3
  },
  {
   "metadata": {
    "ExecuteTime": {
     "end_time": "2024-12-23T22:59:45.375156Z",
     "start_time": "2024-12-23T22:59:45.370860Z"
    }
   },
   "cell_type": "code",
   "source": [
    "from collections import Counter\n",
    "counter = Counter(y)\n",
    "counter"
   ],
   "id": "ddd41e53249be35b",
   "outputs": [
    {
     "data": {
      "text/plain": [
       "Counter({'LTR': 203,\n",
       "         'Helitron': 164,\n",
       "         'DNA/MuDR': 134,\n",
       "         'LINE': 116,\n",
       "         'DNA+': 89,\n",
       "         'TEG': 34,\n",
       "         'DNA/HAT': 28,\n",
       "         'Mix with Helitron': 19,\n",
       "         'Mix': 18,\n",
       "         'Unassigned': 17,\n",
       "         'RathE1/2/3_cons': 7,\n",
       "         'SINE': 7})"
      ]
     },
     "execution_count": 4,
     "metadata": {},
     "output_type": "execute_result"
    }
   ],
   "execution_count": 4
  },
  {
   "metadata": {},
   "cell_type": "markdown",
   "source": "Фильтруем, берем только те, которых много.",
   "id": "a8624e20d6ab8605"
  },
  {
   "metadata": {
    "ExecuteTime": {
     "end_time": "2024-12-23T22:59:45.454015Z",
     "start_time": "2024-12-23T22:59:45.451475Z"
    }
   },
   "cell_type": "code",
   "source": [
    "families_to_filter = ['LTR', 'Helitron', 'DNA/MuDR', 'LINE']\n",
    "\n",
    "indices = np.isin(y, families_to_filter)\n",
    "\n",
    "X_filtered = X[indices]\n",
    "y_filtered = y[indices]"
   ],
   "id": "d4987579a74f93ff",
   "outputs": [],
   "execution_count": 5
  },
  {
   "metadata": {},
   "cell_type": "markdown",
   "source": "Делаем равномерные классы",
   "id": "9f31e0e40b46da6c"
  },
  {
   "metadata": {
    "ExecuteTime": {
     "end_time": "2024-12-23T22:59:45.479831Z",
     "start_time": "2024-12-23T22:59:45.476696Z"
    }
   },
   "cell_type": "code",
   "source": [
    "def balance_classes(X, y):\n",
    "    X = np.array(X)\n",
    "    y = np.array(y)\n",
    "    # Определяем количество элементов в каждом классе\n",
    "    class_counts = Counter(y)\n",
    "    min_count = min(class_counts.values())\n",
    "\n",
    "    # Собираем индексы для каждого класса\n",
    "    indices_by_class = {cls: np.where(y == cls)[0] for cls in class_counts}\n",
    "\n",
    "    # Оставляем только min_count элементов для каждого класса\n",
    "    balanced_indices = []\n",
    "    for cls, indices in indices_by_class.items():\n",
    "        balanced_indices.extend(indices[:min_count])\n",
    "\n",
    "    np.random.shuffle(balanced_indices)\n",
    "\n",
    "    X_balanced = X[balanced_indices]\n",
    "    y_balanced = y[balanced_indices]\n",
    "\n",
    "    return X_balanced, y_balanced"
   ],
   "id": "7e3e80c01b2457fe",
   "outputs": [],
   "execution_count": 6
  },
  {
   "metadata": {
    "ExecuteTime": {
     "end_time": "2024-12-23T22:59:45.495864Z",
     "start_time": "2024-12-23T22:59:45.492760Z"
    }
   },
   "cell_type": "code",
   "source": "X_balanced, y_balanced = balance_classes(X_filtered, y_filtered)",
   "id": "bcb60d6df40ffc23",
   "outputs": [],
   "execution_count": 7
  },
  {
   "metadata": {
    "ExecuteTime": {
     "end_time": "2024-12-23T22:59:56.717307Z",
     "start_time": "2024-12-23T22:59:56.706458Z"
    }
   },
   "cell_type": "code",
   "source": "X_balanced.shape",
   "id": "aff14230dea09ea9",
   "outputs": [
    {
     "data": {
      "text/plain": [
       "(464, 109)"
      ]
     },
     "execution_count": 9,
     "metadata": {},
     "output_type": "execute_result"
    }
   ],
   "execution_count": 9
  },
  {
   "metadata": {
    "ExecuteTime": {
     "end_time": "2024-12-23T23:00:01.948833Z",
     "start_time": "2024-12-23T23:00:01.939522Z"
    }
   },
   "cell_type": "code",
   "source": "y_balanced.shape",
   "id": "df2e3190407fca6d",
   "outputs": [
    {
     "data": {
      "text/plain": [
       "(464,)"
      ]
     },
     "execution_count": 10,
     "metadata": {},
     "output_type": "execute_result"
    }
   ],
   "execution_count": 10
  },
  {
   "cell_type": "code",
   "id": "initial_id",
   "metadata": {
    "collapsed": true,
    "ExecuteTime": {
     "end_time": "2024-12-23T23:01:11.567221Z",
     "start_time": "2024-12-23T23:01:10.880165Z"
    }
   },
   "source": [
    "clf = RandomForestClassifier(random_state=42)\n",
    "\n",
    "# Кросс-валидация\n",
    "y_pred_cv = cross_val_predict(clf, X_balanced, y_balanced, cv=5)\n",
    "\n",
    "# Результат\n",
    "print(classification_report(y_balanced, y_pred_cv))\n",
    "\n",
    "# Таблица сопряженности\n",
    "data_cv = pd.DataFrame({'1': y_balanced, '2': y_pred_cv})\n",
    "contingency_table_cv = pd.crosstab(data_cv['1'], data_cv['2'])\n",
    "\n",
    "print(contingency_table_cv)"
   ],
   "outputs": [
    {
     "name": "stdout",
     "output_type": "stream",
     "text": [
      "              precision    recall  f1-score   support\n",
      "\n",
      "    DNA/MuDR       0.62      0.64      0.63       116\n",
      "    Helitron       0.70      0.68      0.69       116\n",
      "        LINE       0.79      0.73      0.76       116\n",
      "         LTR       0.74      0.78      0.76       116\n",
      "\n",
      "    accuracy                           0.71       464\n",
      "   macro avg       0.71      0.71      0.71       464\n",
      "weighted avg       0.71      0.71      0.71       464\n",
      "\n",
      "2         DNA/MuDR  Helitron  LINE  LTR\n",
      "1                                      \n",
      "DNA/MuDR        74        23     7   12\n",
      "Helitron        23        79     8    6\n",
      "LINE            13         4    85   14\n",
      "LTR             10         7     8   91\n"
     ]
    }
   ],
   "execution_count": 13
  },
  {
   "metadata": {
    "ExecuteTime": {
     "end_time": "2024-12-23T23:03:40.634468Z",
     "start_time": "2024-12-23T23:03:40.472518Z"
    }
   },
   "cell_type": "code",
   "source": [
    "clf = RandomForestClassifier(random_state=42)\n",
    "clf.fit(X_balanced, y_balanced)\n",
    "# Сохранение модели\n",
    "file_path = 'models_files/random_forest_balanced_01.pkl'\n",
    "if not os.path.exists(file_path):\n",
    "    with open(file_path, 'wb') as f:  \n",
    "        pickle.dump(clf, f)\n",
    "    print(\"Завершено\")"
   ],
   "id": "baa39dd1c9f92e94",
   "outputs": [
    {
     "name": "stdout",
     "output_type": "stream",
     "text": [
      "Завершено\n"
     ]
    }
   ],
   "execution_count": 19
  }
 ],
 "metadata": {
  "kernelspec": {
   "display_name": "Python 3",
   "language": "python",
   "name": "python3"
  },
  "language_info": {
   "codemirror_mode": {
    "name": "ipython",
    "version": 2
   },
   "file_extension": ".py",
   "mimetype": "text/x-python",
   "name": "python",
   "nbconvert_exporter": "python",
   "pygments_lexer": "ipython2",
   "version": "2.7.6"
  }
 },
 "nbformat": 4,
 "nbformat_minor": 5
}
