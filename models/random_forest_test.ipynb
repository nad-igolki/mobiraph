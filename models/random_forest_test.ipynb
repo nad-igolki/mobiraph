{
 "cells": [
  {
   "metadata": {
    "ExecuteTime": {
     "end_time": "2024-12-25T02:01:43.878160Z",
     "start_time": "2024-12-25T02:01:43.876516Z"
    }
   },
   "cell_type": "code",
   "source": [
    "import os\n",
    "import pickle\n",
    "from collections import Counter"
   ],
   "id": "ca1ddc2ee7661d7a",
   "outputs": [],
   "execution_count": 1
  },
  {
   "metadata": {},
   "cell_type": "markdown",
   "source": "# Загрузка данных",
   "id": "6812bc37954ccabe"
  },
  {
   "metadata": {
    "ExecuteTime": {
     "end_time": "2024-12-25T02:01:43.884791Z",
     "start_time": "2024-12-25T02:01:43.883007Z"
    }
   },
   "cell_type": "code",
   "source": "os.chdir('..')",
   "id": "cafe8f0c5f1b82",
   "outputs": [],
   "execution_count": 2
  },
  {
   "metadata": {
    "ExecuteTime": {
     "end_time": "2024-12-25T02:01:43.920446Z",
     "start_time": "2024-12-25T02:01:43.918908Z"
    }
   },
   "cell_type": "code",
   "source": "names = ['arab', 'juncea', 'nigra', 'rapa']",
   "id": "f4d180d6e1603e1d",
   "outputs": [],
   "execution_count": 3
  },
  {
   "metadata": {
    "ExecuteTime": {
     "end_time": "2024-12-25T02:01:43.929741Z",
     "start_time": "2024-12-25T02:01:43.927895Z"
    }
   },
   "cell_type": "code",
   "source": [
    "Xs = {}\n",
    "ys = {}"
   ],
   "id": "455827a7b7317b81",
   "outputs": [],
   "execution_count": 4
  },
  {
   "metadata": {
    "ExecuteTime": {
     "end_time": "2024-12-25T02:01:44.024083Z",
     "start_time": "2024-12-25T02:01:43.948791Z"
    }
   },
   "cell_type": "code",
   "source": [
    "for name in names[1:]:\n",
    "    pickle_filename = os.path.join('data', f'X_y_{name}.pkl')\n",
    "    \n",
    "    if os.path.exists(pickle_filename):\n",
    "        try:\n",
    "            with open(pickle_filename, 'rb') as f:\n",
    "                data = pickle.load(f)\n",
    "            \n",
    "            X = data['X']\n",
    "            y = data['y']\n",
    "            \n",
    "            Xs[name] = X\n",
    "            ys[name] = y\n",
    "                    \n",
    "        except Exception as e:\n",
    "            print(f\"Error loading {name}: {e}\")\n",
    "    else:\n",
    "        print(f\"File for {name} not found.\")"
   ],
   "id": "a1ee47da1aeb5a73",
   "outputs": [],
   "execution_count": 5
  },
  {
   "metadata": {},
   "cell_type": "markdown",
   "source": "# Загрузка модели",
   "id": "72eac3ecc8d099e8"
  },
  {
   "metadata": {
    "ExecuteTime": {
     "end_time": "2024-12-25T02:01:44.173456Z",
     "start_time": "2024-12-25T02:01:44.028540Z"
    }
   },
   "cell_type": "code",
   "source": [
    "file_path = 'models_files/random_forest_balanced_01.pkl'\n",
    "clf = None\n",
    "if os.path.exists(file_path):\n",
    "    with open(file_path, 'rb') as f:\n",
    "        clf = pickle.load(f)\n",
    "else:\n",
    "    print(\"No file\")"
   ],
   "id": "367afe09d896befd",
   "outputs": [],
   "execution_count": 6
  },
  {
   "metadata": {},
   "cell_type": "markdown",
   "source": "# Предсказание",
   "id": "dc8e5de24cc6e708"
  },
  {
   "metadata": {},
   "cell_type": "code",
   "source": [
    "for name in names[1:]:\n",
    "    X = Xs[name]\n",
    "    y = ys[name]\n",
    "    y_pred = clf.predict(X)\n",
    "        \n",
    "    for i in range(len(X)):\n",
    "        if y_pred[i] == 'LTR':\n",
    "            print(i)\n",
    "    counter = Counter(y_pred)\n",
    "    print(counter)\n",
    "    "
   ],
   "id": "f6350be5e7a23c76",
   "outputs": [],
   "execution_count": null
  },
  {
   "metadata": {},
   "cell_type": "markdown",
   "source": "Для проверки результатов руками",
   "id": "63bb5338ddfd1f44"
  },
  {
   "metadata": {},
   "cell_type": "code",
   "source": [
    "X = Xs['juncea']\n",
    "y = ys['juncea']\n",
    "y_pred = clf.predict(X)\n",
    "    \n",
    "for i in range(len(X)):\n",
    "    if y_pred[i] == 'LTR':\n",
    "        print(i)\n",
    "counter = Counter(y_pred)\n",
    "print(counter)"
   ],
   "id": "bcdbde83264345da",
   "outputs": [],
   "execution_count": null
  },
  {
   "metadata": {},
   "cell_type": "code",
   "source": [
    "small_components_all = {}\n",
    "small_components_families_all = {}\n",
    "largest_component_all = {}\n",
    "largest_component_families_all = {}\n",
    "\n",
    "# Функция для загрузки данных из файла\n",
    "def load_data_from_file(filename):\n",
    "    try:\n",
    "        with open(filename, 'rb') as f:\n",
    "            return pickle.load(f)\n",
    "    except Exception as e:\n",
    "        print(f\"Error loading {filename}: {e}\")\n",
    "        return None\n",
    "\n",
    "# Процесс получения меток для маленьких компонент\n",
    "def process_small_components(name):\n",
    "    small_components_families_filename = os.path.join('data', f'small_components_families_{name}.pkl')\n",
    "    if os.path.exists(small_components_families_filename):\n",
    "        data = load_data_from_file(small_components_families_filename)\n",
    "        if data:\n",
    "            small_components_families_all[name] = data['families']\n",
    "            small_components_all[name] = data['components']\n",
    "        return True\n",
    "    return False\n",
    "\n",
    "# Процесс получения кластеров и меток для большой компоненты\n",
    "def process_largest_component(name):\n",
    "    largest_component_filename = os.path.join('data', f'largest_component_clusters_{name}.pkl')\n",
    "    if os.path.exists(largest_component_filename):\n",
    "        data = load_data_from_file(largest_component_filename)\n",
    "        if data:\n",
    "            largest_component = data['clusters']\n",
    "            largest_component_families = data['families']\n",
    "            \n",
    "            largest_component_all[name] = largest_component\n",
    "            largest_component_families_all[name] = largest_component_families\n",
    "        return True\n",
    "    return False\n",
    "    \n",
    "    \n",
    "\n",
    "name = 'juncea'\n",
    "if not process_small_components(name):\n",
    "    print(f\"File for {name} (small components families) not found.\")\n",
    "\n",
    "if not process_largest_component(name):\n",
    "    print(f\"File for {name} (largest component) not found.\")\n",
    "    \n",
    "\n",
    "small_components = small_components_all['juncea']\n",
    "largest_component = largest_component_all['juncea']\n",
    "print(len(small_components))\n",
    "print(len(X))\n",
    "print(list(largest_component[6810 - len(small_components)]))"
   ],
   "id": "797b7bb01acb4554",
   "outputs": [],
   "execution_count": null
  },
  {
   "metadata": {
    "ExecuteTime": {
     "end_time": "2024-12-25T02:01:44.791461Z",
     "start_time": "2024-12-24T10:22:22.912864Z"
    }
   },
   "cell_type": "code",
   "source": [
    "import pandas as pd\n",
    "from funcs.parsing import parse_fasta\n",
    "\n",
    "filename_name = 'data_juncea/graph_collapse_nodes_b_juncea_full.txt'\n",
    "filename_fasta = 'data_juncea/seq_sv_big.fasta'\n",
    "output_dir = 'data'\n",
    "def load_info(filename_name, filename_fasta, name):\n",
    "    node2name = pd.read_csv(filename_name, sep='\\t')\n",
    "    node2name = node2name.drop_duplicates(subset=['node'], keep='first')\n",
    "    node2name_dict = node2name.set_index('node')['name'].to_dict()\n",
    "    \n",
    "    fasta_file_path = filename_fasta\n",
    "    name2seq = parse_fasta(fasta_file_path)\n",
    "    \n",
    "    # Сохраняем данные в pickle файл\n",
    "    data_filename = os.path.join(output_dir, f'dicts_{name}.pkl')\n",
    "    if not os.path.exists(data_filename):\n",
    "        with open(data_filename, 'wb') as f:\n",
    "            pickle.dump({\n",
    "                'node2name_dict': node2name_dict,\n",
    "                'name2seq': name2seq\n",
    "            }, f)\n",
    "    \n",
    "    return node2name_dict, name2seq\n",
    "\n",
    "node2name_dict, name2seq = load_info(filename_name, filename_fasta, name)\n"
   ],
   "id": "64c2e7ace69e2e2e",
   "outputs": [],
   "execution_count": 33
  },
  {
   "metadata": {},
   "cell_type": "code",
   "source": [
    "for node in list(largest_component[6810 - len(small_components)]):\n",
    "    print(node2name_dict[node])"
   ],
   "id": "37d38d65a4b70795",
   "outputs": [],
   "execution_count": null
  },
  {
   "metadata": {},
   "cell_type": "code",
   "source": "name2seq['SVgr_10_id_58266|5485']",
   "id": "933625cb92a8ce41",
   "outputs": [],
   "execution_count": null
  }
 ],
 "metadata": {
  "kernelspec": {
   "display_name": "Python 3",
   "language": "python",
   "name": "python3"
  },
  "language_info": {
   "codemirror_mode": {
    "name": "ipython",
    "version": 2
   },
   "file_extension": ".py",
   "mimetype": "text/x-python",
   "name": "python",
   "nbconvert_exporter": "python",
   "pygments_lexer": "ipython2",
   "version": "2.7.6"
  }
 },
 "nbformat": 4,
 "nbformat_minor": 5
}
