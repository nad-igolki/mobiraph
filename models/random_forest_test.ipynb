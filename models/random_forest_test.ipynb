{
 "cells": [
  {
   "metadata": {
    "ExecuteTime": {
     "end_time": "2024-12-24T00:47:40.883754Z",
     "start_time": "2024-12-24T00:47:40.877811Z"
    }
   },
   "cell_type": "code",
   "source": [
    "import os\n",
    "import pickle\n",
    "from collections import Counter"
   ],
   "id": "ca1ddc2ee7661d7a",
   "outputs": [],
   "execution_count": 1
  },
  {
   "metadata": {},
   "cell_type": "markdown",
   "source": "# Загрузка данных",
   "id": "6812bc37954ccabe"
  },
  {
   "metadata": {
    "ExecuteTime": {
     "end_time": "2024-12-24T00:47:40.906738Z",
     "start_time": "2024-12-24T00:47:40.904559Z"
    }
   },
   "cell_type": "code",
   "source": "os.chdir('..')",
   "id": "cafe8f0c5f1b82",
   "outputs": [],
   "execution_count": 2
  },
  {
   "metadata": {
    "ExecuteTime": {
     "end_time": "2024-12-24T00:47:40.936872Z",
     "start_time": "2024-12-24T00:47:40.935276Z"
    }
   },
   "cell_type": "code",
   "source": "names = ['arab', 'juncea', 'nigra', 'rapa']",
   "id": "f4d180d6e1603e1d",
   "outputs": [],
   "execution_count": 3
  },
  {
   "metadata": {
    "ExecuteTime": {
     "end_time": "2024-12-24T00:47:40.944191Z",
     "start_time": "2024-12-24T00:47:40.942856Z"
    }
   },
   "cell_type": "code",
   "source": [
    "Xs = {}\n",
    "ys = {}"
   ],
   "id": "455827a7b7317b81",
   "outputs": [],
   "execution_count": 4
  },
  {
   "metadata": {
    "ExecuteTime": {
     "end_time": "2024-12-24T00:47:41.050700Z",
     "start_time": "2024-12-24T00:47:40.949083Z"
    }
   },
   "cell_type": "code",
   "source": [
    "for name in names[1:]:\n",
    "    pickle_filename = os.path.join('data', f'X_y_{name}.pkl')\n",
    "    \n",
    "    if os.path.exists(pickle_filename):\n",
    "        try:\n",
    "            with open(pickle_filename, 'rb') as f:\n",
    "                data = pickle.load(f)\n",
    "            \n",
    "            X = data['X']\n",
    "            y = data['y']\n",
    "            \n",
    "            Xs[name] = X\n",
    "            ys[name] = y\n",
    "                    \n",
    "        except Exception as e:\n",
    "            print(f\"Error loading {name}: {e}\")\n",
    "    else:\n",
    "        print(f\"File for {name} not found.\")"
   ],
   "id": "a1ee47da1aeb5a73",
   "outputs": [],
   "execution_count": 5
  },
  {
   "metadata": {},
   "cell_type": "markdown",
   "source": "# Загрузка модели",
   "id": "72eac3ecc8d099e8"
  },
  {
   "metadata": {
    "ExecuteTime": {
     "end_time": "2024-12-24T00:47:41.624679Z",
     "start_time": "2024-12-24T00:47:41.055820Z"
    }
   },
   "cell_type": "code",
   "source": [
    "file_path = 'models_files/random_forest_balanced_01.pkl'\n",
    "clf = None\n",
    "if os.path.exists(file_path):\n",
    "    with open(file_path, 'rb') as f:\n",
    "        clf = pickle.load(f)\n",
    "else:\n",
    "    print(\"No file\")"
   ],
   "id": "367afe09d896befd",
   "outputs": [],
   "execution_count": 6
  },
  {
   "metadata": {},
   "cell_type": "markdown",
   "source": "# Предсказание",
   "id": "dc8e5de24cc6e708"
  },
  {
   "metadata": {
    "ExecuteTime": {
     "end_time": "2024-12-24T00:47:41.695507Z",
     "start_time": "2024-12-24T00:47:41.630594Z"
    }
   },
   "cell_type": "code",
   "source": [
    "for name in names[1:]:\n",
    "    X = Xs[name]\n",
    "    y = ys[name]\n",
    "    y_pred = clf.predict(X)\n",
    "    counter = Counter(y_pred)\n",
    "    print(counter)\n",
    "    "
   ],
   "id": "f6350be5e7a23c76",
   "outputs": [
    {
     "name": "stdout",
     "output_type": "stream",
     "text": [
      "Counter({'LINE': 4699, 'LTR': 1910, 'DNA/MuDR': 1725, 'Helitron': 232})\n",
      "Counter({'LINE': 291, 'LTR': 155, 'DNA/MuDR': 108, 'Helitron': 9})\n",
      "Counter({'LINE': 564, 'LTR': 300, 'DNA/MuDR': 133, 'Helitron': 5})\n"
     ]
    }
   ],
   "execution_count": 7
  }
 ],
 "metadata": {
  "kernelspec": {
   "display_name": "Python 3",
   "language": "python",
   "name": "python3"
  },
  "language_info": {
   "codemirror_mode": {
    "name": "ipython",
    "version": 2
   },
   "file_extension": ".py",
   "mimetype": "text/x-python",
   "name": "python",
   "nbconvert_exporter": "python",
   "pygments_lexer": "ipython2",
   "version": "2.7.6"
  }
 },
 "nbformat": 4,
 "nbformat_minor": 5
}
