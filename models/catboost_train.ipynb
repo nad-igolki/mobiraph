{
 "cells": [
  {
   "metadata": {
    "ExecuteTime": {
     "end_time": "2024-12-24T23:54:25.099919Z",
     "start_time": "2024-12-24T23:54:24.703068Z"
    }
   },
   "cell_type": "code",
   "source": [
    "from sklearn.model_selection import cross_val_predict\n",
    "from sklearn.metrics import classification_report\n",
    "import pandas as pd\n",
    "import numpy as np\n",
    "import os\n",
    "import pickle"
   ],
   "id": "ca1ddc2ee7661d7a",
   "outputs": [],
   "execution_count": 2
  },
  {
   "metadata": {},
   "cell_type": "markdown",
   "source": "# Загрузка данных",
   "id": "6812bc37954ccabe"
  },
  {
   "metadata": {
    "ExecuteTime": {
     "end_time": "2024-12-24T23:54:25.121804Z",
     "start_time": "2024-12-24T23:54:25.118204Z"
    }
   },
   "cell_type": "code",
   "source": "os.chdir('..')",
   "id": "cafe8f0c5f1b82",
   "outputs": [],
   "execution_count": 3
  },
  {
   "metadata": {
    "ExecuteTime": {
     "end_time": "2024-12-24T23:54:25.153882Z",
     "start_time": "2024-12-24T23:54:25.133432Z"
    }
   },
   "cell_type": "code",
   "source": [
    "data_filename = os.path.join('data', f'X_y_characteristics.pkl')\n",
    "\n",
    "X = None\n",
    "y = None\n",
    "\n",
    "if os.path.exists(data_filename):\n",
    "    with open(data_filename, 'rb') as f:\n",
    "        data = pickle.load(f)\n",
    "    \n",
    "    X = data['X']\n",
    "    y = data['y']\n",
    "\n",
    "X = np.array(X)\n",
    "y = np.array(y)"
   ],
   "id": "a1ee47da1aeb5a73",
   "outputs": [],
   "execution_count": 4
  },
  {
   "metadata": {
    "ExecuteTime": {
     "end_time": "2024-12-24T23:54:25.221854Z",
     "start_time": "2024-12-24T23:54:25.190446Z"
    }
   },
   "cell_type": "code",
   "source": [
    "from collections import Counter\n",
    "counter = Counter(y)\n",
    "counter"
   ],
   "id": "ddd41e53249be35b",
   "outputs": [
    {
     "data": {
      "text/plain": [
       "Counter({'LTR': 212,\n",
       "         'nan': 178,\n",
       "         'Helitron': 170,\n",
       "         'DNA/MuDR': 130,\n",
       "         'LINE': 113,\n",
       "         'DNA+': 87,\n",
       "         'TEG': 35,\n",
       "         'DNA/HAT': 27,\n",
       "         'Mix': 22,\n",
       "         'Mix with Helitron': 18,\n",
       "         'Unassigned': 16,\n",
       "         'RathE1/2/3_cons': 7,\n",
       "         'SINE': 7})"
      ]
     },
     "execution_count": 5,
     "metadata": {},
     "output_type": "execute_result"
    }
   ],
   "execution_count": 5
  },
  {
   "metadata": {},
   "cell_type": "markdown",
   "source": "Фильтруем, берем только те, которых много.",
   "id": "a8624e20d6ab8605"
  },
  {
   "metadata": {
    "ExecuteTime": {
     "end_time": "2024-12-24T23:54:25.281312Z",
     "start_time": "2024-12-24T23:54:25.274410Z"
    }
   },
   "cell_type": "code",
   "source": [
    "families_to_filter = ['LTR', 'Helitron', 'DNA/MuDR', 'LINE']\n",
    "\n",
    "indices = np.isin(y, families_to_filter)\n",
    "\n",
    "X_filtered = X[indices]\n",
    "y_filtered = y[indices]"
   ],
   "id": "d4987579a74f93ff",
   "outputs": [],
   "execution_count": 6
  },
  {
   "metadata": {},
   "cell_type": "markdown",
   "source": "Делаем равномерные классы",
   "id": "9f31e0e40b46da6c"
  },
  {
   "metadata": {
    "ExecuteTime": {
     "end_time": "2024-12-24T23:54:25.337764Z",
     "start_time": "2024-12-24T23:54:25.308879Z"
    }
   },
   "cell_type": "code",
   "source": [
    "def balance_classes(X, y):\n",
    "    X = np.array(X)\n",
    "    y = np.array(y)\n",
    "    # Определяем количество элементов в каждом классе\n",
    "    class_counts = Counter(y)\n",
    "    min_count = min(class_counts.values())\n",
    "\n",
    "    # Собираем индексы для каждого класса\n",
    "    indices_by_class = {cls: np.where(y == cls)[0] for cls in class_counts}\n",
    "\n",
    "    # Оставляем только min_count элементов для каждого класса\n",
    "    balanced_indices = []\n",
    "    for cls, indices in indices_by_class.items():\n",
    "        balanced_indices.extend(indices[:min_count])\n",
    "\n",
    "    np.random.shuffle(balanced_indices)\n",
    "\n",
    "    X_balanced = X[balanced_indices]\n",
    "    y_balanced = y[balanced_indices]\n",
    "\n",
    "    return X_balanced, y_balanced"
   ],
   "id": "7e3e80c01b2457fe",
   "outputs": [],
   "execution_count": 7
  },
  {
   "metadata": {
    "ExecuteTime": {
     "end_time": "2024-12-24T23:54:25.417518Z",
     "start_time": "2024-12-24T23:54:25.408261Z"
    }
   },
   "cell_type": "code",
   "source": "X_balanced, y_balanced = balance_classes(X_filtered, y_filtered)",
   "id": "bcb60d6df40ffc23",
   "outputs": [],
   "execution_count": 8
  },
  {
   "metadata": {
    "ExecuteTime": {
     "end_time": "2024-12-24T23:54:25.457696Z",
     "start_time": "2024-12-24T23:54:25.453151Z"
    }
   },
   "cell_type": "code",
   "source": "X_balanced.shape",
   "id": "aff14230dea09ea9",
   "outputs": [
    {
     "data": {
      "text/plain": [
       "(452, 109)"
      ]
     },
     "execution_count": 9,
     "metadata": {},
     "output_type": "execute_result"
    }
   ],
   "execution_count": 9
  },
  {
   "metadata": {
    "ExecuteTime": {
     "end_time": "2024-12-24T23:54:25.621809Z",
     "start_time": "2024-12-24T23:54:25.616485Z"
    }
   },
   "cell_type": "code",
   "source": "y_balanced.shape",
   "id": "df2e3190407fca6d",
   "outputs": [
    {
     "data": {
      "text/plain": [
       "(452,)"
      ]
     },
     "execution_count": 10,
     "metadata": {},
     "output_type": "execute_result"
    }
   ],
   "execution_count": 10
  },
  {
   "metadata": {
    "ExecuteTime": {
     "end_time": "2024-12-25T00:43:16.499279Z",
     "start_time": "2024-12-24T23:59:21.224546Z"
    }
   },
   "cell_type": "code",
   "source": [
    "from catboost import CatBoostClassifier\n",
    "from sklearn.model_selection import GridSearchCV\n",
    "from sklearn.model_selection import train_test_split\n",
    "from sklearn.metrics import classification_report\n",
    "\n",
    "X_train, X_test, y_train, y_test = train_test_split(X_balanced, y_balanced, test_size=0.2, random_state=42)\n",
    "\n",
    "# Модель\n",
    "clf = CatBoostClassifier(random_state=42, verbose=False)\n",
    "\n",
    "# Параметры для подбора\n",
    "param_grid = {\n",
    "    'iterations': [500, 1000],\n",
    "    'depth': [4, 6, 8],\n",
    "    'learning_rate': [0.01, 0.05, 0.1],\n",
    "    'l2_leaf_reg': [1, 3, 5]\n",
    "}\n",
    "\n",
    "# GridSearchCV\n",
    "grid_search = GridSearchCV(clf, param_grid, cv=5, scoring='accuracy', n_jobs=-1)\n",
    "grid_search.fit(X_train, y_train)\n",
    "\n",
    "# Лучшие параметры\n",
    "print(\"Лучшие параметры:\", grid_search.best_params_)"
   ],
   "id": "ec3764d538eaabb1",
   "outputs": [
    {
     "name": "stdout",
     "output_type": "stream",
     "text": [
      "Лучшие параметры: {'depth': 4, 'iterations': 1000, 'l2_leaf_reg': 1, 'learning_rate': 0.1}\n"
     ]
    }
   ],
   "execution_count": 14
  },
  {
   "cell_type": "code",
   "id": "initial_id",
   "metadata": {
    "collapsed": true,
    "ExecuteTime": {
     "end_time": "2024-12-25T00:46:33.573870Z",
     "start_time": "2024-12-25T00:46:10.428089Z"
    }
   },
   "source": [
    "best_catboost_model = CatBoostClassifier(**grid_search.best_params_, verbose=False)\n",
    "# Кросс-валидация\n",
    "y_pred_cv = cross_val_predict(best_catboost_model, X_balanced, y_balanced, cv=5)\n",
    "\n",
    "# Результат\n",
    "print(classification_report(y_balanced, y_pred_cv))"
   ],
   "outputs": [
    {
     "name": "stdout",
     "output_type": "stream",
     "text": [
      "              precision    recall  f1-score   support\n",
      "\n",
      "    DNA/MuDR       0.62      0.65      0.63       113\n",
      "    Helitron       0.64      0.64      0.64       113\n",
      "        LINE       0.78      0.84      0.81       113\n",
      "         LTR       0.89      0.79      0.84       113\n",
      "\n",
      "    accuracy                           0.73       452\n",
      "   macro avg       0.73      0.73      0.73       452\n",
      "weighted avg       0.73      0.73      0.73       452\n",
      "\n"
     ]
    }
   ],
   "execution_count": 15
  },
  {
   "metadata": {
    "ExecuteTime": {
     "end_time": "2024-12-25T00:47:20.672458Z",
     "start_time": "2024-12-25T00:47:20.663673Z"
    }
   },
   "cell_type": "code",
   "source": [
    "file_path = 'models_files/catboost_01.pkl'\n",
    "if not os.path.exists(file_path):\n",
    "    with open(file_path, 'wb') as f:  \n",
    "        pickle.dump(best_catboost_model, f)\n",
    "    print(\"Завершено\")"
   ],
   "id": "66b260535abd34a0",
   "outputs": [
    {
     "name": "stdout",
     "output_type": "stream",
     "text": [
      "Завершено\n"
     ]
    }
   ],
   "execution_count": 16
  },
  {
   "metadata": {
    "ExecuteTime": {
     "end_time": "2024-12-25T00:47:24.014386Z",
     "start_time": "2024-12-25T00:47:24.007792Z"
    }
   },
   "cell_type": "code",
   "source": [
    "def load(file_path):  \n",
    "    data_filename = os.path.join('data', file_path)\n",
    "    \n",
    "    X = None\n",
    "    y = None\n",
    "    \n",
    "    if os.path.exists(data_filename):\n",
    "        with open(data_filename, 'rb') as f:\n",
    "            data = pickle.load(f)\n",
    "    \n",
    "        X = data['X']\n",
    "        y = data['y']\n",
    "    \n",
    "    X = np.array(X)\n",
    "    y = np.array(y)\n",
    "    \n",
    "    indices = np.isin(y, families_to_filter)\n",
    "    \n",
    "    X_filtered = X[indices]\n",
    "    y_filtered = y[indices]\n",
    "    \n",
    "    X_balanced, y_balanced = balance_classes(X_filtered, y_filtered)\n",
    "    return X_balanced, y_balanced"
   ],
   "id": "18cfb50489677bb",
   "outputs": [],
   "execution_count": 17
  },
  {
   "metadata": {
    "ExecuteTime": {
     "end_time": "2024-12-25T00:47:24.043480Z",
     "start_time": "2024-12-25T00:47:24.029058Z"
    }
   },
   "cell_type": "code",
   "source": "X_balanced, y_balanced = load('X_y_node2vec.pkl')",
   "id": "28b9922933758b46",
   "outputs": [],
   "execution_count": 18
  },
  {
   "metadata": {
    "ExecuteTime": {
     "end_time": "2024-12-25T00:47:29.333581Z",
     "start_time": "2024-12-25T00:47:24.053102Z"
    }
   },
   "cell_type": "code",
   "source": [
    "best_catboost_model = CatBoostClassifier(**grid_search.best_params_, verbose=False)\n",
    "# Кросс-валидация\n",
    "y_pred_cv = cross_val_predict(best_catboost_model, X_balanced, y_balanced, cv=5)\n",
    "\n",
    "# Результат\n",
    "print(classification_report(y_balanced, y_pred_cv))"
   ],
   "id": "77d781d6bc9f5d04",
   "outputs": [
    {
     "name": "stdout",
     "output_type": "stream",
     "text": [
      "              precision    recall  f1-score   support\n",
      "\n",
      "    DNA/MuDR       0.22      0.20      0.21       113\n",
      "    Helitron       0.31      0.32      0.31       113\n",
      "        LINE       0.21      0.20      0.20       113\n",
      "         LTR       0.24      0.25      0.24       113\n",
      "\n",
      "    accuracy                           0.24       452\n",
      "   macro avg       0.24      0.24      0.24       452\n",
      "weighted avg       0.24      0.24      0.24       452\n",
      "\n"
     ]
    }
   ],
   "execution_count": 19
  },
  {
   "metadata": {
    "ExecuteTime": {
     "end_time": "2024-12-25T00:47:29.415859Z",
     "start_time": "2024-12-25T00:47:29.410882Z"
    }
   },
   "cell_type": "code",
   "source": "X_balanced, y_balanced = load('X_y_arope.pkl')",
   "id": "51b79f610739f84e",
   "outputs": [],
   "execution_count": 20
  },
  {
   "metadata": {
    "ExecuteTime": {
     "end_time": "2024-12-25T00:47:31.085345Z",
     "start_time": "2024-12-25T00:47:29.454777Z"
    }
   },
   "cell_type": "code",
   "source": [
    "best_catboost_model = CatBoostClassifier(**grid_search.best_params_, verbose=False)\n",
    "# Кросс-валидация\n",
    "y_pred_cv = cross_val_predict(best_catboost_model, X_balanced, y_balanced, cv=5)\n",
    "\n",
    "# Результат\n",
    "print(classification_report(y_balanced, y_pred_cv))"
   ],
   "id": "a4f113e64f41e4dd",
   "outputs": [
    {
     "name": "stdout",
     "output_type": "stream",
     "text": [
      "              precision    recall  f1-score   support\n",
      "\n",
      "    DNA/MuDR       0.44      0.27      0.33       113\n",
      "    Helitron       0.31      0.62      0.42       113\n",
      "        LINE       0.44      0.31      0.36       113\n",
      "         LTR       0.28      0.20      0.24       113\n",
      "\n",
      "    accuracy                           0.35       452\n",
      "   macro avg       0.37      0.35      0.34       452\n",
      "weighted avg       0.37      0.35      0.34       452\n",
      "\n"
     ]
    }
   ],
   "execution_count": 21
  },
  {
   "metadata": {
    "ExecuteTime": {
     "end_time": "2024-12-25T00:47:31.194898Z",
     "start_time": "2024-12-25T00:47:31.186181Z"
    }
   },
   "cell_type": "code",
   "source": "X_balanced, y_balanced = load('X_y_laplacian_eigenmaps.pkl')",
   "id": "77d143a24c6ab096",
   "outputs": [],
   "execution_count": 22
  },
  {
   "metadata": {
    "ExecuteTime": {
     "end_time": "2024-12-25T00:47:33.469108Z",
     "start_time": "2024-12-25T00:47:31.204464Z"
    }
   },
   "cell_type": "code",
   "source": [
    "best_catboost_model = CatBoostClassifier(**grid_search.best_params_, verbose=False)\n",
    "# Кросс-валидация\n",
    "y_pred_cv = cross_val_predict(best_catboost_model, X_balanced, y_balanced, cv=5)\n",
    "\n",
    "# Результат\n",
    "print(classification_report(y_balanced, y_pred_cv))"
   ],
   "id": "fbcab6ed3f1bddc9",
   "outputs": [
    {
     "name": "stdout",
     "output_type": "stream",
     "text": [
      "              precision    recall  f1-score   support\n",
      "\n",
      "    DNA/MuDR       0.25      0.23      0.24       113\n",
      "    Helitron       0.31      0.31      0.31       113\n",
      "        LINE       0.29      0.30      0.29       113\n",
      "         LTR       0.18      0.19      0.18       113\n",
      "\n",
      "    accuracy                           0.26       452\n",
      "   macro avg       0.26      0.26      0.26       452\n",
      "weighted avg       0.26      0.26      0.26       452\n",
      "\n"
     ]
    }
   ],
   "execution_count": 23
  },
  {
   "metadata": {
    "ExecuteTime": {
     "end_time": "2024-12-25T00:47:33.558908Z",
     "start_time": "2024-12-25T00:47:33.551704Z"
    }
   },
   "cell_type": "code",
   "source": "X_balanced, y_balanced = load('X_y_node2vec_char.pkl')",
   "id": "d8d3b296448a5a3",
   "outputs": [],
   "execution_count": 24
  },
  {
   "metadata": {
    "ExecuteTime": {
     "end_time": "2024-12-25T00:47:50.265868Z",
     "start_time": "2024-12-25T00:47:33.567973Z"
    }
   },
   "cell_type": "code",
   "source": [
    "best_catboost_model = CatBoostClassifier(**grid_search.best_params_, verbose=False)\n",
    "# Кросс-валидация\n",
    "y_pred_cv = cross_val_predict(best_catboost_model, X_balanced, y_balanced, cv=5)\n",
    "\n",
    "# Результат\n",
    "print(classification_report(y_balanced, y_pred_cv))"
   ],
   "id": "4ffba81f7e3de1b8",
   "outputs": [
    {
     "name": "stdout",
     "output_type": "stream",
     "text": [
      "              precision    recall  f1-score   support\n",
      "\n",
      "    DNA/MuDR       0.69      0.65      0.67       113\n",
      "    Helitron       0.67      0.73      0.70       113\n",
      "        LINE       0.76      0.81      0.78       113\n",
      "         LTR       0.83      0.74      0.79       113\n",
      "\n",
      "    accuracy                           0.73       452\n",
      "   macro avg       0.74      0.73      0.73       452\n",
      "weighted avg       0.74      0.73      0.73       452\n",
      "\n"
     ]
    }
   ],
   "execution_count": 25
  }
 ],
 "metadata": {
  "kernelspec": {
   "display_name": "Python 3",
   "language": "python",
   "name": "python3"
  },
  "language_info": {
   "codemirror_mode": {
    "name": "ipython",
    "version": 2
   },
   "file_extension": ".py",
   "mimetype": "text/x-python",
   "name": "python",
   "nbconvert_exporter": "python",
   "pygments_lexer": "ipython2",
   "version": "2.7.6"
  }
 },
 "nbformat": 4,
 "nbformat_minor": 5
}
